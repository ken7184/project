{
 "cells": [
  {
   "cell_type": "code",
   "execution_count": 1,
   "id": "34733829",
   "metadata": {},
   "outputs": [],
   "source": [
    "import pandas as pd\n",
    "\n",
    "data = pd.read_csv('Drug_Consumption.csv')"
   ]
  },
  {
   "cell_type": "code",
   "execution_count": 2,
   "id": "e9ebc9b2",
   "metadata": {},
   "outputs": [
    {
     "data": {
      "text/plain": [
       "Text(0.5, 0.98, 'Ethnicity')"
      ]
     },
     "execution_count": 2,
     "metadata": {},
     "output_type": "execute_result"
    },
    {
     "data": {
      "image/png": "[encoded data removed]",
      "text/plain": [
       "<Figure size 432x288 with 1 Axes>"
      ]
     },
     "metadata": {
      "needs_background": "light"
     },
     "output_type": "display_data"
    }
   ],
   "source": [
    "import matplotlib.pyplot as plt\n",
    "plt.hist(data['Ethnicity'])\n",
    "plt.xticks(rotation=45, ha='right')\n",
    "plt.suptitle(\"Ethnicity\")"
   ]
  },
  {
   "cell_type": "code",
   "execution_count": 3,
   "id": "f02733ee",
   "metadata": {},
   "outputs": [],
   "source": [
    "n_data = data.drop('ID', axis = 1)"
   ]
  },
  {
   "cell_type": "code",
   "execution_count": 4,
   "id": "cc746039",
   "metadata": {},
   "outputs": [],
   "source": [
    "drugs = list(n_data.columns)[12:]"
   ]
  },
  {
   "cell_type": "code",
   "execution_count": 5,
   "id": "9394d91f",
   "metadata": {},
   "outputs": [],
   "source": [
    "def drug_encoder(x):\n",
    "    if x == 'CL0':\n",
    "        return 0\n",
    "    elif x == 'CL1':\n",
    "        return 1\n",
    "    elif x == 'CL2':\n",
    "        return 2\n",
    "    elif x == 'CL3':\n",
    "        return 3\n",
    "    elif x == 'CL4':\n",
    "        return 4\n",
    "    elif x == 'CL5':\n",
    "        return 5\n",
    "    elif x == 'CL6':\n",
    "        return 6\n",
    "    else:\n",
    "        return 7"
   ]
  },
  {
   "cell_type": "code",
   "execution_count": 6,
   "id": "b926d4da",
   "metadata": {},
   "outputs": [],
   "source": [
    "for column in drugs:\n",
    "    n_data[column] = n_data[column].apply(drug_encoder)"
   ]
  },
  {
   "cell_type": "code",
   "execution_count": 7,
   "id": "f17b01d7",
   "metadata": {},
   "outputs": [],
   "source": [
    "import numpy as np"
   ]
  },
  {
   "cell_type": "code",
   "execution_count": 8,
   "id": "2194c8fe",
   "metadata": {},
   "outputs": [],
   "source": [
    "n_data['target'] = np.where(n_data['Coke'] == 0, 0, 1)"
   ]
  },
  {
   "cell_type": "markdown",
   "id": "8b44fd25",
   "metadata": {},
   "source": [
    "# Target is Coke which Cocaine"
   ]
  },
  {
   "cell_type": "code",
   "execution_count": 114,
   "id": "7abc7bdf",
   "metadata": {},
   "outputs": [],
   "source": [
    "import numpy as np\n",
    "f_data = n_data.drop(drugs, axis = 1)\n",
    "f_data['Ethnicity'] = np.where(f_data['Ethnicity'] == 'White', 1, 0)"
   ]
  },
  {
   "cell_type": "code",
   "execution_count": 115,
   "id": "4ab036c8",
   "metadata": {},
   "outputs": [],
   "source": [
    "f_df = pd.get_dummies(f_data, prefix = ['Age', 'Gender', 'Education', 'Country'])"
   ]
  },
  {
   "cell_type": "code",
   "execution_count": 116,
   "id": "5ca43098",
   "metadata": {},
   "outputs": [],
   "source": [
    "f_df_target = f_df['target']\n",
    "f_df_predi = f_df.drop('target', axis = 1)"
   ]
  },
  {
   "cell_type": "code",
   "execution_count": 117,
   "id": "1f0d4234",
   "metadata": {},
   "outputs": [
    {
     "data": {
      "text/plain": [
       "0    1037\n",
       "1     847\n",
       "Name: target, dtype: int64"
      ]
     },
     "execution_count": 117,
     "metadata": {},
     "output_type": "execute_result"
    }
   ],
   "source": [
    "f_df_target.value_counts()"
   ]
  },
  {
   "cell_type": "code",
   "execution_count": 118,
   "id": "3f66529b",
   "metadata": {},
   "outputs": [],
   "source": [
    "from fairlearn.metrics import MetricFrame"
   ]
  },
  {
   "cell_type": "markdown",
   "id": "b1aa1193",
   "metadata": {},
   "source": [
    "# Classification Algorithm"
   ]
  },
  {
   "cell_type": "code",
   "execution_count": 135,
   "id": "2388161c",
   "metadata": {},
   "outputs": [],
   "source": [
    "import sklearn\n",
    "from sklearn import metrics"
   ]
  },
  {
   "cell_type": "code",
   "execution_count": 120,
   "id": "894034f7",
   "metadata": {},
   "outputs": [],
   "source": [
    "from sklearn.metrics import accuracy_score\n",
    "from sklearn.model_selection import train_test_split\n",
    "\n",
    "X_train, X_test, y_train, y_test = train_test_split(f_df_predi, f_df_target, test_size = 0.3, random_state = 121)"
   ]
  },
  {
   "cell_type": "markdown",
   "id": "b2679854",
   "metadata": {},
   "source": [
    "# Logistic Regression"
   ]
  },
  {
   "cell_type": "code",
   "execution_count": 136,
   "id": "e915e8c3",
   "metadata": {},
   "outputs": [
    {
     "name": "stdout",
     "output_type": "stream",
     "text": [
      "0.6662700061702744\n",
      "0.621676891615542\n",
      "0.33528433401470226\n"
     ]
    },
    {
     "data": {
      "text/plain": [
       "array([[229,  80],\n",
       "       [105, 152]])"
      ]
     },
     "execution_count": 136,
     "metadata": {},
     "output_type": "execute_result"
    }
   ],
   "source": [
    "from sklearn.linear_model import LogisticRegression\n",
    "from sklearn.metrics import precision_score, recall_score, f1_score, accuracy_score, roc_auc_score, cohen_kappa_score\n",
    "lr_clf = LogisticRegression()\n",
    "lr_clf.fit(X_train, y_train)\n",
    "lr_preds = lr_clf.predict(X_test)\n",
    "\n",
    "lr0 = roc_auc_score(y_test, lr_preds)\n",
    "lr0_f1 = f1_score(y_test, lr_preds)\n",
    "lr0_kappa = cohen_kappa_score(y_test, lr_preds)\n",
    "print(lr0)\n",
    "print(lr0_f1)\n",
    "print(lr0_kappa)\n",
    "confusion_matrix = metrics.confusion_matrix(y_test, lr_preds)\n",
    "confusion_matrix"
   ]
  },
  {
   "cell_type": "code",
   "execution_count": 122,
   "id": "c8d249ec",
   "metadata": {},
   "outputs": [
    {
     "data": {
      "text/plain": [
       "Ethnicity\n",
       "0    0.752381\n",
       "1    0.655805\n",
       "Name: roc_auc_score, dtype: object"
      ]
     },
     "execution_count": 122,
     "metadata": {},
     "output_type": "execute_result"
    }
   ],
   "source": [
    "from fairlearn.metrics import MetricFrame\n",
    "gm = MetricFrame(metrics=roc_auc_score, y_true=y_test, y_pred=lr_preds, sensitive_features=X_test['Ethnicity'])\n",
    "gm.by_group"
   ]
  },
  {
   "cell_type": "markdown",
   "id": "d92883a3",
   "metadata": {},
   "source": [
    "# Decision Tree"
   ]
  },
  {
   "cell_type": "code",
   "execution_count": 137,
   "id": "2c6e7f17",
   "metadata": {},
   "outputs": [
    {
     "name": "stdout",
     "output_type": "stream",
     "text": [
      "0.6449447823404229\n",
      "0.6300164960396913\n",
      "0.6196529535466485\n",
      "0.6115434500648509\n",
      "Next\n",
      "0.6446173800259404\n",
      "0.6270887638044149\n",
      "0.6212332993338623\n",
      "0.6124878798181659\n",
      "Next\n",
      "0.6449447823404229\n",
      "0.6168582375478926\n",
      "0.2891322641011794\n"
     ]
    },
    {
     "data": {
      "text/plain": [
       "array([[205, 104],\n",
       "       [ 96, 161]])"
      ]
     },
     "execution_count": 137,
     "metadata": {},
     "output_type": "execute_result"
    }
   ],
   "source": [
    "from sklearn.tree import DecisionTreeClassifier\n",
    "\n",
    "max_depths = [6, 8, 10, 12]\n",
    "\n",
    "for depth in max_depths:\n",
    "    dt_clf = DecisionTreeClassifier(max_depth = depth, min_samples_split = 16, random_state = 121)\n",
    "    dt_clf.fit(X_train, y_train)\n",
    "    dt_preds = dt_clf.predict(X_test)\n",
    "    dt = roc_auc_score(y_test, dt_preds)\n",
    "    print(dt)\n",
    "print(\"Next\")\n",
    "for depth in max_depths:\n",
    "    dt_clf = DecisionTreeClassifier(max_depth = depth, min_samples_split = 24, random_state = 121)\n",
    "    dt_clf.fit(X_train, y_train)\n",
    "    dt_preds = dt_clf.predict(X_test)\n",
    "    dt = roc_auc_score(y_test, dt_preds)\n",
    "    print(dt)\n",
    "print(\"Next\")\n",
    "dt_clf = DecisionTreeClassifier(max_depth = 6, min_samples_split = 16, random_state = 121)\n",
    "dt_clf.fit(X_train, y_train)\n",
    "dt_preds = dt_clf.predict(X_test)\n",
    "dt0 = roc_auc_score(y_test, dt_preds)\n",
    "dt0_f1 = f1_score(y_test, dt_preds)\n",
    "dt0_kappa = cohen_kappa_score(y_test, dt_preds)\n",
    "\n",
    "print(dt0)\n",
    "print(dt0_f1)\n",
    "print(dt0_kappa)\n",
    "confusion_matrix = metrics.confusion_matrix(y_test, dt_preds)\n",
    "confusion_matrix"
   ]
  },
  {
   "cell_type": "code",
   "execution_count": 133,
   "id": "74c4ac51",
   "metadata": {},
   "outputs": [
    {
     "data": {
      "text/plain": [
       "Ethnicity\n",
       "0    0.704762\n",
       "1    0.638083\n",
       "Name: roc_auc_score, dtype: object"
      ]
     },
     "execution_count": 133,
     "metadata": {},
     "output_type": "execute_result"
    }
   ],
   "source": [
    "gm1 = MetricFrame(metrics=roc_auc_score, y_true=y_test, y_pred=dt_preds, sensitive_features=X_test['Ethnicity'])\n",
    "gm1.by_group"
   ]
  },
  {
   "cell_type": "markdown",
   "id": "e04b5bcb",
   "metadata": {},
   "source": [
    "# Random Forest"
   ]
  },
  {
   "cell_type": "code",
   "execution_count": 17,
   "id": "222608af",
   "metadata": {},
   "outputs": [
    {
     "name": "stdout",
     "output_type": "stream",
     "text": [
      "0.6915618349640487\n",
      "0.6828353040434185\n",
      "0.6873811592560412\n",
      "0.6870537569415587\n",
      "Next\n",
      "0.6915618349640487\n",
      "0.6828353040434185\n",
      "0.6873811592560412\n",
      "0.6870537569415587\n",
      "Next\n",
      "0.6714895546069283\n",
      "0.6640348557540957\n",
      "0.6698714316295821\n",
      "0.6731076775842746\n",
      "Next\n",
      "0.6714895546069283\n",
      "0.6640348557540957\n",
      "0.6698714316295821\n",
      "0.6731076775842746\n",
      "Next\n",
      "0.6915618349640487\n",
      "0.6573705179282868\n",
      "0.38463483394647346\n"
     ]
    },
    {
     "data": {
      "text/plain": [
       "array([[229,  80],\n",
       "       [ 92, 165]])"
      ]
     },
     "execution_count": 17,
     "metadata": {},
     "output_type": "execute_result"
    }
   ],
   "source": [
    "from sklearn.ensemble import RandomForestClassifier\n",
    "\n",
    "max_depths = [6, 8, 10, 12]\n",
    "\n",
    "for depth in max_depths:\n",
    "    rf_clf = RandomForestClassifier(n_estimators = 100, max_depth= depth, min_samples_leaf = 16, min_samples_split = 16, random_state = 121)\n",
    "    rf_clf.fit(X_train, y_train)\n",
    "    rf_preds = rf_clf.predict(X_test)\n",
    "    rf = roc_auc_score(y_test, rf_preds)\n",
    "    print(rf)\n",
    "print(\"Next\")\n",
    "for depth in max_depths:\n",
    "    rf_clf = RandomForestClassifier(n_estimators = 100, max_depth= depth, min_samples_leaf = 16, min_samples_split = 24, random_state = 121)\n",
    "    rf_clf.fit(X_train, y_train)\n",
    "    rf_preds = rf_clf.predict(X_test)\n",
    "    rf = roc_auc_score(y_test, rf_preds)\n",
    "    print(rf)\n",
    "print(\"Next\")\n",
    "for depth in max_depths:\n",
    "    rf_clf = RandomForestClassifier(n_estimators = 100, max_depth= depth, min_samples_leaf = 24, min_samples_split = 16, random_state = 121)\n",
    "    rf_clf.fit(X_train, y_train)\n",
    "    rf_preds = rf_clf.predict(X_test)\n",
    "    rf = roc_auc_score(y_test, rf_preds)\n",
    "    print(rf)\n",
    "print(\"Next\")\n",
    "for depth in max_depths:\n",
    "    rf_clf = RandomForestClassifier(n_estimators = 100, max_depth= depth, min_samples_leaf = 24, min_samples_split = 24, random_state = 121)\n",
    "    rf_clf.fit(X_train, y_train)\n",
    "    rf_preds = rf_clf.predict(X_test)\n",
    "    rf = roc_auc_score(y_test, rf_preds)\n",
    "    print(rf)\n",
    "print(\"Next\")\n",
    "\n",
    "\n",
    "rf_clf = RandomForestClassifier(n_estimators = 100, max_depth= 6, min_samples_leaf = 16, min_samples_split = 16, random_state = 121)\n",
    "rf_clf.fit(X_train, y_train)\n",
    "rf_preds = rf_clf.predict(X_test)\n",
    "rf0 = roc_auc_score(y_test, rf_preds)\n",
    "rf0_f1 = f1_score(y_test, rf_preds)\n",
    "rf0_kappa = cohen_kappa_score(y_test, rf_preds)\n",
    "\n",
    "print(rf0)\n",
    "print(rf0_f1)\n",
    "print(rf0_kappa)\n",
    "confusion_matrix = metrics.confusion_matrix(y_test, rf_preds)\n",
    "confusion_matrix\n"
   ]
  },
  {
   "cell_type": "code",
   "execution_count": 138,
   "id": "39c99a5b",
   "metadata": {},
   "outputs": [
    {
     "data": {
      "text/plain": [
       "Ethnicity\n",
       "0    0.428571\n",
       "1    0.434848\n",
       "Name: roc_auc_score, dtype: object"
      ]
     },
     "execution_count": 138,
     "metadata": {},
     "output_type": "execute_result"
    }
   ],
   "source": [
    "gm2 = MetricFrame(metrics=roc_auc_score, y_true=y_test, y_pred=rf_preds, sensitive_features=X_test['Ethnicity'])\n",
    "gm2.by_group"
   ]
  },
  {
   "cell_type": "markdown",
   "id": "571bbf14",
   "metadata": {},
   "source": [
    "# Gradient Boosting Machine"
   ]
  },
  {
   "cell_type": "code",
   "execution_count": 18,
   "id": "b682e5e4",
   "metadata": {},
   "outputs": [
    {
     "name": "stdout",
     "output_type": "stream",
     "text": [
      "0.6646518831929281\n",
      "0.6769798395728659\n",
      "Next\n",
      "0.6909070303350837\n",
      "0.6607986097994031\n",
      "Next\n",
      "0.6909070303350837\n",
      "0.6546184738955824\n",
      "0.3838247022038812\n"
     ]
    },
    {
     "data": {
      "text/plain": [
       "array([[231,  78],\n",
       "       [ 94, 163]])"
      ]
     },
     "execution_count": 18,
     "metadata": {},
     "output_type": "execute_result"
    }
   ],
   "source": [
    "from sklearn.ensemble import GradientBoostingClassifier\n",
    "\n",
    "n_estim = [100, 500]\n",
    "\n",
    "for n in n_estim:\n",
    "    gb_clf = GradientBoostingClassifier(n_estimators = n, learning_rate = 0.05, random_state = 121)\n",
    "    gb_clf.fit(X_train, y_train)\n",
    "    gb_preds = gb_clf.predict(X_test)\n",
    "    gb = roc_auc_score(y_test, gb_preds)\n",
    "    print(gb)\n",
    "print(\"Next\")\n",
    "for n in n_estim:\n",
    "    gb_clf = GradientBoostingClassifier(n_estimators = n, learning_rate = 0.1, random_state = 121)\n",
    "    gb_clf.fit(X_train, y_train)\n",
    "    gb_preds = gb_clf.predict(X_test)\n",
    "    gb = roc_auc_score(y_test, gb_preds)\n",
    "    print(gb)\n",
    "print(\"Next\")\n",
    "\n",
    "gb_clf = GradientBoostingClassifier(n_estimators = 100, learning_rate = 0.1, random_state = 121)\n",
    "gb_clf.fit(X_train, y_train)\n",
    "gb_preds = gb_clf.predict(X_test)\n",
    "gb0 = roc_auc_score(y_test, gb_preds)\n",
    "gb0_f1 = f1_score(y_test, gb_preds)\n",
    "gb0_kappa = cohen_kappa_score(y_test, gb_preds)\n",
    "print(gb0)\n",
    "print(gb0_f1)\n",
    "print(gb0_kappa)\n",
    "confusion_matrix = metrics.confusion_matrix(y_test, gb_preds)\n",
    "confusion_matrix"
   ]
  },
  {
   "cell_type": "code",
   "execution_count": 139,
   "id": "32036820",
   "metadata": {},
   "outputs": [
    {
     "data": {
      "text/plain": [
       "Ethnicity\n",
       "0    0.385714\n",
       "1    0.447884\n",
       "Name: roc_auc_score, dtype: object"
      ]
     },
     "execution_count": 139,
     "metadata": {},
     "output_type": "execute_result"
    }
   ],
   "source": [
    "gm3 = MetricFrame(metrics=roc_auc_score, y_true=y_test, y_pred=gb_preds, sensitive_features=X_test['Ethnicity'])\n",
    "gm3.by_group"
   ]
  },
  {
   "cell_type": "markdown",
   "id": "25026a28",
   "metadata": {},
   "source": [
    "# Support vector machine"
   ]
  },
  {
   "cell_type": "code",
   "execution_count": 140,
   "id": "d4fe0fa9",
   "metadata": {},
   "outputs": [
    {
     "name": "stdout",
     "output_type": "stream",
     "text": [
      "0.5\n",
      "0.6773072418873484\n",
      "0.6571594071499628\n",
      "Next\n",
      "0.5282573382191833\n",
      "0.6789064762696284\n",
      "0.6666162970798232\n",
      "Next\n",
      "0.555532469494919\n",
      "0.6552516590482667\n",
      "0.6721254706408271\n",
      "Next\n",
      "0.6789064762696284\n",
      "0.6367346938775511\n",
      "0.3606467907956694\n"
     ]
    },
    {
     "data": {
      "text/plain": [
       "array([[232,  77],\n",
       "       [101, 156]])"
      ]
     },
     "execution_count": 140,
     "metadata": {},
     "output_type": "execute_result"
    }
   ],
   "source": [
    "from sklearn import svm\n",
    "\n",
    "gamma = [1, 0.1, 0.01]\n",
    "for gam in gamma:\n",
    "    sv_clf = svm.SVC(gamma = gam, C = 0.1, kernel = 'rbf', random_state = 121)\n",
    "    sv_clf.fit(X_train, y_train)\n",
    "    sv_preds = sv_clf.predict(X_test)\n",
    "    sv = roc_auc_score(y_test, sv_preds)\n",
    "    print(sv)\n",
    "print(\"Next\")\n",
    "for gam in gamma:\n",
    "    sv_clf = svm.SVC(gamma = gam, C = 1, kernel = 'rbf', random_state = 121)\n",
    "    sv_clf.fit(X_train, y_train)\n",
    "    sv_preds = sv_clf.predict(X_test)\n",
    "    sv = roc_auc_score(y_test, sv_preds)\n",
    "    print(sv)\n",
    "print(\"Next\")\n",
    "for gam in gamma:\n",
    "    sv_clf = svm.SVC(gamma = gam, C = 10, kernel = 'rbf', random_state = 121)\n",
    "    sv_clf.fit(X_train, y_train)\n",
    "    sv_preds = sv_clf.predict(X_test)\n",
    "    sv = roc_auc_score(y_test, sv_preds)\n",
    "    print(sv)\n",
    "print(\"Next\")\n",
    "\n",
    "sv_clf = svm.SVC(gamma = 0.1, C = 1, kernel = 'rbf', random_state = 121)\n",
    "sv_clf.fit(X_train, y_train)\n",
    "sv_preds = sv_clf.predict(X_test)\n",
    "sv0 = roc_auc_score(y_test, sv_preds)\n",
    "sv0_f1 = f1_score(y_test, sv_preds)\n",
    "sv0_kappa = cohen_kappa_score(y_test, sv_preds)\n",
    "print(sv0)\n",
    "print(sv0_f1)\n",
    "print(sv0_kappa)\n",
    "confusion_matrix = metrics.confusion_matrix(y_test, sv_preds)\n",
    "confusion_matrix"
   ]
  },
  {
   "cell_type": "code",
   "execution_count": 142,
   "id": "75c82a33",
   "metadata": {},
   "outputs": [
    {
     "data": {
      "text/plain": [
       "Ethnicity\n",
       "0    0.780952\n",
       "1    0.668873\n",
       "Name: roc_auc_score, dtype: object"
      ]
     },
     "execution_count": 142,
     "metadata": {},
     "output_type": "execute_result"
    }
   ],
   "source": [
    "gm4 = MetricFrame(metrics=roc_auc_score, y_true=y_test, y_pred=sv_preds, sensitive_features=X_test['Ethnicity'])\n",
    "gm4.by_group"
   ]
  },
  {
   "cell_type": "markdown",
   "id": "ab0092a7",
   "metadata": {},
   "source": [
    "# Using SMOTE to solve imbalance"
   ]
  },
  {
   "cell_type": "code",
   "execution_count": 20,
   "id": "a8d08a33",
   "metadata": {},
   "outputs": [],
   "source": [
    "from imblearn.over_sampling import SMOTE"
   ]
  },
  {
   "cell_type": "code",
   "execution_count": 21,
   "id": "35c71494",
   "metadata": {},
   "outputs": [],
   "source": [
    "f_data = n_data.drop(drugs, axis = 1)\n",
    "f_data['Ethnicity'] = np.where(f_data['Ethnicity'] == 'White', 1, 0)\n",
    "f_df = pd.get_dummies(f_data, prefix = ['Age', 'Gender', 'Education', 'Country'])\n",
    "f_df_target = f_df['target']\n",
    "f_df_predi = f_df.drop('target', axis = 1)\n",
    "X_train, X_test, y_train, y_test = train_test_split(f_df_predi, f_df_target, test_size = 0.3, random_state = 121)"
   ]
  },
  {
   "cell_type": "code",
   "execution_count": 22,
   "id": "4cb5529b",
   "metadata": {},
   "outputs": [
    {
     "name": "stderr",
     "output_type": "stream",
     "text": [
      "/var/folders/bn/qc5vfhgd70b9bh2v45b8_nhr0000gn/T/ipykernel_41509/733523931.py:1: SettingWithCopyWarning: \n",
      "A value is trying to be set on a copy of a slice from a DataFrame.\n",
      "Try using .loc[row_indexer,col_indexer] = value instead\n",
      "\n",
      "See the caveats in the documentation: https://pandas.pydata.org/pandas-docs/stable/user_guide/indexing.html#returning-a-view-versus-a-copy\n",
      "  X_train['target'] = y_train\n"
     ]
    }
   ],
   "source": [
    "X_train['target'] = y_train"
   ]
  },
  {
   "cell_type": "code",
   "execution_count": 23,
   "id": "b6459880",
   "metadata": {},
   "outputs": [],
   "source": [
    "X_train_target = X_train['Ethnicity']\n",
    "X_train_predi = X_train.drop('Ethnicity', axis = 1)"
   ]
  },
  {
   "cell_type": "code",
   "execution_count": 24,
   "id": "2973a1e5",
   "metadata": {},
   "outputs": [],
   "source": [
    "smt = SMOTE(random_state = 121)\n",
    "X_train_sm, y_train_sm = smt.fit_resample(X_train_predi, X_train_target)"
   ]
  },
  {
   "cell_type": "code",
   "execution_count": 25,
   "id": "4d97e5a3",
   "metadata": {},
   "outputs": [],
   "source": [
    "X_train_sm['Ethnicity'] = y_train_sm\n",
    "y_train_sm = X_train_sm['target']\n",
    "X_train_sm = X_train_sm.drop('target', axis = 1)"
   ]
  },
  {
   "cell_type": "markdown",
   "id": "007977cd",
   "metadata": {},
   "source": [
    "# Logistic regression with SMOTE"
   ]
  },
  {
   "cell_type": "code",
   "execution_count": 144,
   "id": "2a709ade",
   "metadata": {},
   "outputs": [
    {
     "name": "stdout",
     "output_type": "stream",
     "text": [
      "0.48825129386876204\n",
      "0.5976714100905564\n",
      "-0.02166064981949445\n"
     ]
    },
    {
     "data": {
      "text/plain": [
       "array([[ 24, 285],\n",
       "       [ 26, 231]])"
      ]
     },
     "execution_count": 144,
     "metadata": {},
     "output_type": "execute_result"
    }
   ],
   "source": [
    "lr_clf = LogisticRegression()\n",
    "lr_clf.fit(X_train_sm, y_train_sm)\n",
    "lr_preds = lr_clf.predict(X_test)\n",
    "\n",
    "lr1 = roc_auc_score(y_test, lr_preds)\n",
    "lr1_f1 = f1_score(y_test, lr_preds)\n",
    "lr1_kappa = cohen_kappa_score(y_test, lr_preds)\n",
    "print(lr1)\n",
    "print(lr1_f1)\n",
    "print(lr1_kappa)\n",
    "confusion_matrix = metrics.confusion_matrix(y_test, lr_preds)\n",
    "confusion_matrix"
   ]
  },
  {
   "cell_type": "code",
   "execution_count": 145,
   "id": "6298ba4c",
   "metadata": {},
   "outputs": [
    {
     "data": {
      "text/plain": [
       "Ethnicity\n",
       "0    0.42381\n",
       "1    0.49383\n",
       "Name: roc_auc_score, dtype: object"
      ]
     },
     "execution_count": 145,
     "metadata": {},
     "output_type": "execute_result"
    }
   ],
   "source": [
    "gm_m = MetricFrame(metrics=roc_auc_score, y_true=y_test, y_pred=lr_preds, sensitive_features=X_test['Ethnicity'])\n",
    "gm_m.by_group"
   ]
  },
  {
   "cell_type": "markdown",
   "id": "5dc20fec",
   "metadata": {},
   "source": [
    "# Decision Tree with SMOTE"
   ]
  },
  {
   "cell_type": "code",
   "execution_count": 146,
   "id": "1898b8bb",
   "metadata": {},
   "outputs": [
    {
     "name": "stdout",
     "output_type": "stream",
     "text": [
      "0.428733330814854\n",
      "0.45682067167844054\n",
      "0.45969173812851805\n",
      "0.4570914082077242\n",
      "Next\n",
      "0.428733330814854\n",
      "0.45325702340926544\n",
      "0.42049160716759226\n",
      "0.42374674171735105\n",
      "Next\n",
      "0.428733330814854\n",
      "0.47962382445141066\n",
      "-0.13697254256567892\n"
     ]
    },
    {
     "data": {
      "text/plain": [
       "array([[ 81, 228],\n",
       "       [104, 153]])"
      ]
     },
     "execution_count": 146,
     "metadata": {},
     "output_type": "execute_result"
    }
   ],
   "source": [
    "max_depths = [6, 8, 10, 12]\n",
    "\n",
    "for depth in max_depths:\n",
    "    dt_clf = DecisionTreeClassifier(max_depth = depth, min_samples_split = 16, random_state = 121)\n",
    "    dt_clf.fit(X_train_sm, y_train_sm)\n",
    "    dt_preds = dt_clf.predict(X_test)\n",
    "    dt = roc_auc_score(y_test, dt_preds)\n",
    "    print(dt)\n",
    "print(\"Next\")\n",
    "for depth in max_depths:\n",
    "    dt_clf = DecisionTreeClassifier(max_depth = depth, min_samples_split = 24, random_state = 121)\n",
    "    dt_clf.fit(X_train_sm, y_train_sm)\n",
    "    dt_preds = dt_clf.predict(X_test)\n",
    "    dt = roc_auc_score(y_test, dt_preds)\n",
    "    print(dt)\n",
    "print(\"Next\")\n",
    "dt_clf = DecisionTreeClassifier(max_depth = 6, min_samples_split = 16, random_state = 121)\n",
    "dt_clf.fit(X_train_sm, y_train_sm)\n",
    "dt_preds = dt_clf.predict(X_test)\n",
    "dt1 = roc_auc_score(y_test, dt_preds)\n",
    "dt1_f1 = f1_score(y_test, dt_preds)\n",
    "dt1_kappa = cohen_kappa_score(y_test, dt_preds)\n",
    "\n",
    "print(dt1)\n",
    "print(dt1_f1)\n",
    "print(dt1_kappa)\n",
    "confusion_matrix = metrics.confusion_matrix(y_test, dt_preds)\n",
    "confusion_matrix"
   ]
  },
  {
   "cell_type": "code",
   "execution_count": 147,
   "id": "2a9c8f53",
   "metadata": {},
   "outputs": [
    {
     "data": {
      "text/plain": [
       "Ethnicity\n",
       "0    0.438095\n",
       "1    0.427997\n",
       "Name: roc_auc_score, dtype: object"
      ]
     },
     "execution_count": 147,
     "metadata": {},
     "output_type": "execute_result"
    }
   ],
   "source": [
    "gm_m1 = MetricFrame(metrics=roc_auc_score, y_true=y_test, y_pred=dt_preds, sensitive_features=X_test['Ethnicity'])\n",
    "gm_m1.by_group"
   ]
  },
  {
   "cell_type": "markdown",
   "id": "591a2122",
   "metadata": {},
   "source": [
    "# RandomForest with SMOTE"
   ]
  },
  {
   "cell_type": "code",
   "execution_count": 148,
   "id": "6c5741d1",
   "metadata": {},
   "outputs": [
    {
     "name": "stdout",
     "output_type": "stream",
     "text": [
      "0.43769282107463514\n",
      "0.4196416203896087\n",
      "0.4374409731404178\n",
      "0.42025864782844113\n",
      "Next\n",
      "0.43769282107463514\n",
      "0.4196416203896087\n",
      "0.4374409731404178\n",
      "0.42025864782844113\n",
      "Next\n",
      "0.45905582209461926\n",
      "0.4166761109641998\n",
      "0.419950134109025\n",
      "0.44422197876921915\n",
      "Next\n",
      "0.45905582209461926\n",
      "0.4166761109641998\n",
      "0.419950134109025\n",
      "0.44422197876921915\n",
      "Next\n",
      "0.419950134109025\n",
      "0.45705024311183146\n",
      "-0.1548769048982226\n"
     ]
    },
    {
     "data": {
      "text/plain": [
       "array([[ 90, 219],\n",
       "       [116, 141]])"
      ]
     },
     "execution_count": 148,
     "metadata": {},
     "output_type": "execute_result"
    }
   ],
   "source": [
    "max_depths = [6, 8, 10, 12]\n",
    "\n",
    "for depth in max_depths:\n",
    "    rf_clf = RandomForestClassifier(n_estimators = 100, max_depth= depth, min_samples_leaf = 16, min_samples_split = 16, random_state = 121)\n",
    "    rf_clf.fit(X_train_sm, y_train_sm)\n",
    "    rf_preds = rf_clf.predict(X_test)\n",
    "    rf = roc_auc_score(y_test, rf_preds)\n",
    "    print(rf)\n",
    "print(\"Next\")\n",
    "for depth in max_depths:\n",
    "    rf_clf = RandomForestClassifier(n_estimators = 100, max_depth= depth, min_samples_leaf = 16, min_samples_split = 24, random_state = 121)\n",
    "    rf_clf.fit(X_train_sm, y_train_sm)\n",
    "    rf_preds = rf_clf.predict(X_test)\n",
    "    rf = roc_auc_score(y_test, rf_preds)\n",
    "    print(rf)\n",
    "print(\"Next\")\n",
    "for depth in max_depths:\n",
    "    rf_clf = RandomForestClassifier(n_estimators = 100, max_depth= depth, min_samples_leaf = 24, min_samples_split = 16, random_state = 121)\n",
    "    rf_clf.fit(X_train_sm, y_train_sm)\n",
    "    rf_preds = rf_clf.predict(X_test)\n",
    "    rf = roc_auc_score(y_test, rf_preds)\n",
    "    print(rf)\n",
    "print(\"Next\")\n",
    "for depth in max_depths:\n",
    "    rf_clf = RandomForestClassifier(n_estimators = 100, max_depth= depth, min_samples_leaf = 24, min_samples_split = 24, random_state = 121)\n",
    "    rf_clf.fit(X_train_sm, y_train_sm)\n",
    "    rf_preds = rf_clf.predict(X_test)\n",
    "    rf = roc_auc_score(y_test, rf_preds)\n",
    "    print(rf)\n",
    "print(\"Next\")\n",
    "\n",
    "\n",
    "rf_clf = RandomForestClassifier(n_estimators = 100, max_depth= 10, min_samples_leaf = 24, min_samples_split = 16, random_state = 121)\n",
    "rf_clf.fit(X_train_sm, y_train_sm)\n",
    "rf_preds = rf_clf.predict(X_test)\n",
    "rf1 = roc_auc_score(y_test, rf_preds)\n",
    "rf1_f1 = f1_score(y_test, rf_preds)\n",
    "rf1_kappa = cohen_kappa_score(y_test, rf_preds)\n",
    "\n",
    "print(rf1)\n",
    "print(rf1_f1)\n",
    "print(rf1_kappa)\n",
    "confusion_matrix = metrics.confusion_matrix(y_test, rf_preds)\n",
    "confusion_matrix\n"
   ]
  },
  {
   "cell_type": "code",
   "execution_count": 150,
   "id": "9ebf253d",
   "metadata": {},
   "outputs": [
    {
     "data": {
      "text/plain": [
       "Ethnicity\n",
       "0    0.342857\n",
       "1    0.424703\n",
       "Name: roc_auc_score, dtype: object"
      ]
     },
     "execution_count": 150,
     "metadata": {},
     "output_type": "execute_result"
    }
   ],
   "source": [
    "gm_m2 = MetricFrame(metrics=roc_auc_score, y_true=y_test, y_pred=rf_preds, sensitive_features=X_test['Ethnicity'])\n",
    "gm_m2.by_group"
   ]
  },
  {
   "cell_type": "markdown",
   "id": "f13532ec",
   "metadata": {},
   "source": [
    "# Gradient boosting with SMOTE"
   ]
  },
  {
   "cell_type": "code",
   "execution_count": 151,
   "id": "a87588f6",
   "metadata": {},
   "outputs": [
    {
     "name": "stdout",
     "output_type": "stream",
     "text": [
      "0.40569554103232464\n",
      "0.4193897724553914\n",
      "Next\n",
      "0.42844370569050405\n",
      "0.43915353909309557\n",
      "Next\n",
      "0.42844370569050405\n",
      "0.4924012158054712\n",
      "-0.13666919201029382\n"
     ]
    },
    {
     "data": {
      "text/plain": [
       "array([[ 70, 239],\n",
       "       [ 95, 162]])"
      ]
     },
     "execution_count": 151,
     "metadata": {},
     "output_type": "execute_result"
    }
   ],
   "source": [
    "n_estim = [100, 500]\n",
    "\n",
    "for n in n_estim:\n",
    "    gb_clf = GradientBoostingClassifier(n_estimators = n, learning_rate = 0.05, random_state = 121)\n",
    "    gb_clf.fit(X_train_sm, y_train_sm)\n",
    "    gb_preds = gb_clf.predict(X_test)\n",
    "    gb = roc_auc_score(y_test, gb_preds)\n",
    "    print(gb)\n",
    "print(\"Next\")\n",
    "for n in n_estim:\n",
    "    gb_clf = GradientBoostingClassifier(n_estimators = n, learning_rate = 0.1, random_state = 121)\n",
    "    gb_clf.fit(X_train_sm, y_train_sm)\n",
    "    gb_preds = gb_clf.predict(X_test)\n",
    "    gb = roc_auc_score(y_test, gb_preds)\n",
    "    print(gb)\n",
    "print(\"Next\")\n",
    "\n",
    "gb_clf = GradientBoostingClassifier(n_estimators = 100, learning_rate = 0.1, random_state = 121)\n",
    "gb_clf.fit(X_train_sm, y_train_sm)\n",
    "gb_preds = gb_clf.predict(X_test)\n",
    "gb1 = roc_auc_score(y_test, gb_preds)\n",
    "gb1_f1 = f1_score(y_test, gb_preds)\n",
    "gb1_kappa = cohen_kappa_score(y_test, gb_preds)\n",
    "print(gb1)\n",
    "print(gb1_f1)\n",
    "print(gb1_kappa)\n",
    "confusion_matrix = metrics.confusion_matrix(y_test, gb_preds)\n",
    "confusion_matrix"
   ]
  },
  {
   "cell_type": "code",
   "execution_count": 152,
   "id": "65d734c1",
   "metadata": {},
   "outputs": [
    {
     "data": {
      "text/plain": [
       "Ethnicity\n",
       "0    0.380952\n",
       "1    0.431523\n",
       "Name: roc_auc_score, dtype: object"
      ]
     },
     "execution_count": 152,
     "metadata": {},
     "output_type": "execute_result"
    }
   ],
   "source": [
    "gm_m3 = MetricFrame(metrics=roc_auc_score, y_true=y_test, y_pred=gb_preds, sensitive_features=X_test['Ethnicity'])\n",
    "gm_m3.by_group"
   ]
  },
  {
   "cell_type": "markdown",
   "id": "1c9f07a2",
   "metadata": {},
   "source": [
    "# SVM"
   ]
  },
  {
   "cell_type": "code",
   "execution_count": 153,
   "id": "b7d7e667",
   "metadata": {},
   "outputs": [
    {
     "name": "stdout",
     "output_type": "stream",
     "text": [
      "0.5\n",
      "0.48099807336330325\n",
      "0.46028987697228413\n",
      "Next\n",
      "0.49709115635978995\n",
      "0.4056577638421921\n",
      "0.4465893493508619\n",
      "Next\n",
      "0.4938549104050974\n",
      "0.4377305982647677\n",
      "0.4586276806064499\n",
      "Next\n",
      "0.4586276806064499\n",
      "0.5362318840579711\n",
      "-0.07823643572372574\n"
     ]
    },
    {
     "data": {
      "text/plain": [
       "array([[ 61, 248],\n",
       "       [ 72, 185]])"
      ]
     },
     "execution_count": 153,
     "metadata": {},
     "output_type": "execute_result"
    }
   ],
   "source": [
    "from sklearn import svm\n",
    "\n",
    "gamma = [1, 0.1, 0.01]\n",
    "for gam in gamma:\n",
    "    sv_clf = svm.SVC(gamma = gam, C = 0.1, kernel = 'rbf', random_state = 121)\n",
    "    sv_clf.fit(X_train_sm, y_train_sm)\n",
    "    sv_preds = sv_clf.predict(X_test)\n",
    "    sv = roc_auc_score(y_test, sv_preds)\n",
    "    print(sv)\n",
    "print(\"Next\")\n",
    "for gam in gamma:\n",
    "    sv_clf = svm.SVC(gamma = gam, C = 1, kernel = 'rbf', random_state = 121)\n",
    "    sv_clf.fit(X_train_sm, y_train_sm)\n",
    "    sv_preds = sv_clf.predict(X_test)\n",
    "    sv = roc_auc_score(y_test, sv_preds)\n",
    "    print(sv)\n",
    "print(\"Next\")\n",
    "for gam in gamma:\n",
    "    sv_clf = svm.SVC(gamma = gam, C = 10, kernel = 'rbf', random_state = 121)\n",
    "    sv_clf.fit(X_train_sm, y_train_sm)\n",
    "    sv_preds = sv_clf.predict(X_test)\n",
    "    sv = roc_auc_score(y_test, sv_preds)\n",
    "    print(sv)\n",
    "print(\"Next\")\n",
    "\n",
    "sv_clf = svm.SVC(gamma = 0.01, C = 10, kernel = 'rbf', random_state = 121)\n",
    "sv_clf.fit(X_train_sm, y_train_sm)\n",
    "sv_preds = sv_clf.predict(X_test)\n",
    "sv1 = roc_auc_score(y_test, sv_preds)\n",
    "sv1_f1 = f1_score(y_test, sv_preds)\n",
    "sv1_kappa = cohen_kappa_score(y_test, sv_preds)\n",
    "print(sv1)\n",
    "print(sv1_f1)\n",
    "print(sv1_kappa)\n",
    "confusion_matrix = metrics.confusion_matrix(y_test, sv_preds)\n",
    "confusion_matrix"
   ]
  },
  {
   "cell_type": "code",
   "execution_count": 154,
   "id": "2dc346be",
   "metadata": {},
   "outputs": [
    {
     "data": {
      "text/plain": [
       "Ethnicity\n",
       "0     0.42381\n",
       "1    0.461122\n",
       "Name: roc_auc_score, dtype: object"
      ]
     },
     "execution_count": 154,
     "metadata": {},
     "output_type": "execute_result"
    }
   ],
   "source": [
    "gm_m4 = MetricFrame(metrics=roc_auc_score, y_true=y_test, y_pred=sv_preds, sensitive_features=X_test['Ethnicity'])\n",
    "gm_m4.by_group"
   ]
  },
  {
   "cell_type": "markdown",
   "id": "0f3b29a5",
   "metadata": {},
   "source": [
    "# ADASYN algorithm"
   ]
  },
  {
   "cell_type": "code",
   "execution_count": 155,
   "id": "8e278512",
   "metadata": {},
   "outputs": [],
   "source": [
    "f_data = n_data.drop(drugs, axis = 1)\n",
    "f_data['Ethnicity'] = np.where(f_data['Ethnicity'] == 'White', 1, 0)\n",
    "f_df = pd.get_dummies(f_data, prefix = ['Age', 'Gender', 'Education', 'Country'])\n",
    "f_df_target = f_df['target']\n",
    "f_df_predi = f_df.drop('target', axis = 1)\n",
    "X_train, X_test, y_train, y_test = train_test_split(f_df_predi, f_df_target, test_size = 0.3, random_state = 121)"
   ]
  },
  {
   "cell_type": "code",
   "execution_count": 156,
   "id": "881cde00",
   "metadata": {},
   "outputs": [],
   "source": [
    "X_train['target'] = y_train\n",
    "X_train_target = X_train['Ethnicity']\n",
    "X_train_predi = X_train.drop('Ethnicity', axis = 1)"
   ]
  },
  {
   "cell_type": "code",
   "execution_count": 157,
   "id": "b845e9cc",
   "metadata": {},
   "outputs": [],
   "source": [
    "from imblearn.over_sampling import ADASYN\n",
    "\n",
    "ada = ADASYN(random_state = 121)\n",
    "X_train_ada, y_train_ada = ada.fit_resample(X_train_predi, X_train_target)"
   ]
  },
  {
   "cell_type": "code",
   "execution_count": 158,
   "id": "4b923d87",
   "metadata": {},
   "outputs": [],
   "source": [
    "X_train_ada['Ethnicity'] = y_train_ada\n",
    "y_train_ada = X_train_ada['target']\n",
    "X_train_ada = X_train_ada.drop('target', axis = 1)"
   ]
  },
  {
   "cell_type": "code",
   "execution_count": 159,
   "id": "8c8f2743",
   "metadata": {},
   "outputs": [
    {
     "name": "stdout",
     "output_type": "stream",
     "text": [
      "0.5373553448427839\n",
      "0.6011560693641619\n",
      "0.07059649456812744\n"
     ]
    },
    {
     "data": {
      "text/plain": [
       "array([[ 82, 227],\n",
       "       [ 49, 208]])"
      ]
     },
     "execution_count": 159,
     "metadata": {},
     "output_type": "execute_result"
    }
   ],
   "source": [
    "lr_clf = LogisticRegression()\n",
    "lr_clf.fit(X_train_ada, y_train_ada)\n",
    "lr_preds = lr_clf.predict(X_test)\n",
    "\n",
    "lr2 = roc_auc_score(y_test, lr_preds)\n",
    "lr2_f1 = f1_score(y_test, lr_preds)\n",
    "lr2_kappa = cohen_kappa_score(y_test, lr_preds)\n",
    "print(lr2)\n",
    "print(lr2_f1)\n",
    "print(lr2_kappa)\n",
    "confusion_matrix = metrics.confusion_matrix(y_test, lr_preds)\n",
    "confusion_matrix"
   ]
  },
  {
   "cell_type": "code",
   "execution_count": 160,
   "id": "ed952eed",
   "metadata": {},
   "outputs": [
    {
     "data": {
      "text/plain": [
       "Ethnicity\n",
       "0    0.509524\n",
       "1    0.539991\n",
       "Name: roc_auc_score, dtype: object"
      ]
     },
     "execution_count": 160,
     "metadata": {},
     "output_type": "execute_result"
    }
   ],
   "source": [
    "gm_a = MetricFrame(metrics=roc_auc_score, y_true=y_test, y_pred=lr_preds, sensitive_features=X_test['Ethnicity'])\n",
    "gm_a.by_group"
   ]
  },
  {
   "cell_type": "code",
   "execution_count": 161,
   "id": "2b73b5a9",
   "metadata": {},
   "outputs": [
    {
     "name": "stdout",
     "output_type": "stream",
     "text": [
      "0.5800246810975533\n",
      "0.5514399405638875\n",
      "0.548493319733545\n",
      "0.5198519134146802\n",
      "Next\n",
      "0.5689874453804793\n",
      "0.5481659174190624\n",
      "0.5643849243826577\n",
      "0.5451626308035208\n",
      "Next\n",
      "0.5800246810975533\n",
      "0.6122448979591837\n",
      "0.15385360303107343\n"
     ]
    },
    {
     "data": {
      "text/plain": [
       "array([[124, 185],\n",
       "       [ 62, 195]])"
      ]
     },
     "execution_count": 161,
     "metadata": {},
     "output_type": "execute_result"
    }
   ],
   "source": [
    "max_depths = [6, 8, 10, 12]\n",
    "\n",
    "for depth in max_depths:\n",
    "    dt_clf = DecisionTreeClassifier(max_depth = depth, min_samples_split = 16, random_state = 121)\n",
    "    dt_clf.fit(X_train_ada, y_train_ada)\n",
    "    dt_preds = dt_clf.predict(X_test)\n",
    "    dt = roc_auc_score(y_test, dt_preds)\n",
    "    print(dt)\n",
    "print(\"Next\")\n",
    "for depth in max_depths:\n",
    "    dt_clf = DecisionTreeClassifier(max_depth = depth, min_samples_split = 24, random_state = 121)\n",
    "    dt_clf.fit(X_train_ada, y_train_ada)\n",
    "    dt_preds = dt_clf.predict(X_test)\n",
    "    dt = roc_auc_score(y_test, dt_preds)\n",
    "    print(dt)\n",
    "print(\"Next\")\n",
    "dt_clf = DecisionTreeClassifier(max_depth = 6, min_samples_split = 16, random_state = 121)\n",
    "dt_clf.fit(X_train_ada, y_train_ada)\n",
    "dt_preds = dt_clf.predict(X_test)\n",
    "dt2 = roc_auc_score(y_test, dt_preds)\n",
    "dt2_f1 = f1_score(y_test, dt_preds)\n",
    "dt2_kappa = cohen_kappa_score(y_test, dt_preds)\n",
    "\n",
    "print(dt2)\n",
    "print(dt2_f1)\n",
    "print(dt2_kappa)\n",
    "confusion_matrix = metrics.confusion_matrix(y_test, dt_preds)\n",
    "confusion_matrix"
   ]
  },
  {
   "cell_type": "code",
   "execution_count": 163,
   "id": "1eb0a413",
   "metadata": {},
   "outputs": [
    {
     "data": {
      "text/plain": [
       "Ethnicity\n",
       "0    0.566667\n",
       "1    0.581792\n",
       "Name: roc_auc_score, dtype: object"
      ]
     },
     "execution_count": 163,
     "metadata": {},
     "output_type": "execute_result"
    }
   ],
   "source": [
    "gm_a1 = MetricFrame(metrics=roc_auc_score, y_true=y_test, y_pred=dt_preds, sensitive_features=X_test['Ethnicity'])\n",
    "gm_a1.by_group"
   ]
  },
  {
   "cell_type": "code",
   "execution_count": 165,
   "id": "ea46ace4",
   "metadata": {},
   "outputs": [
    {
     "name": "stdout",
     "output_type": "stream",
     "text": [
      "0.5312543286363693\n",
      "0.5086572727387204\n",
      "0.5199085791998791\n",
      "0.5185989699419491\n",
      "Next\n",
      "0.5312543286363693\n",
      "0.5086572727387204\n",
      "0.5199085791998791\n",
      "0.5185989699419491\n",
      "Next\n",
      "0.5373238638510067\n",
      "0.5176167629985016\n",
      "0.5240892549078866\n",
      "0.5354161157493106\n",
      "Next\n",
      "0.5373238638510067\n",
      "0.5176167629985016\n",
      "0.5240892549078866\n",
      "0.5354161157493106\n",
      "Next\n",
      "0.5354161157493106\n",
      "0.48616600790513836\n",
      "0.07101824379774002\n"
     ]
    },
    {
     "data": {
      "text/plain": [
       "array([[183, 126],\n",
       "       [134, 123]])"
      ]
     },
     "execution_count": 165,
     "metadata": {},
     "output_type": "execute_result"
    }
   ],
   "source": [
    "max_depths = [6, 8, 10, 12]\n",
    "\n",
    "for depth in max_depths:\n",
    "    rf_clf = RandomForestClassifier(n_estimators = 100, max_depth= depth, min_samples_leaf = 16, min_samples_split = 16, random_state = 121)\n",
    "    rf_clf.fit(X_train_ada, y_train_ada)\n",
    "    rf_preds = rf_clf.predict(X_test)\n",
    "    rf = roc_auc_score(y_test, rf_preds)\n",
    "    print(rf)\n",
    "print(\"Next\")\n",
    "for depth in max_depths:\n",
    "    rf_clf = RandomForestClassifier(n_estimators = 100, max_depth= depth, min_samples_leaf = 16, min_samples_split = 24, random_state = 121)\n",
    "    rf_clf.fit(X_train_ada, y_train_ada)\n",
    "    rf_preds = rf_clf.predict(X_test)\n",
    "    rf = roc_auc_score(y_test, rf_preds)\n",
    "    print(rf)\n",
    "print(\"Next\")\n",
    "for depth in max_depths:\n",
    "    rf_clf = RandomForestClassifier(n_estimators = 100, max_depth= depth, min_samples_leaf = 24, min_samples_split = 16, random_state = 121)\n",
    "    rf_clf.fit(X_train_ada, y_train_ada)\n",
    "    rf_preds = rf_clf.predict(X_test)\n",
    "    rf = roc_auc_score(y_test, rf_preds)\n",
    "    print(rf)\n",
    "print(\"Next\")\n",
    "for depth in max_depths:\n",
    "    rf_clf = RandomForestClassifier(n_estimators = 100, max_depth= depth, min_samples_leaf = 24, min_samples_split = 24, random_state = 121)\n",
    "    rf_clf.fit(X_train_ada, y_train_ada)\n",
    "    rf_preds = rf_clf.predict(X_test)\n",
    "    rf = roc_auc_score(y_test, rf_preds)\n",
    "    print(rf)\n",
    "print(\"Next\")\n",
    "\n",
    "\n",
    "rf_clf = RandomForestClassifier(n_estimators = 100, max_depth= 12, min_samples_leaf = 24, min_samples_split = 16, random_state = 121)\n",
    "rf_clf.fit(X_train_ada, y_train_ada)\n",
    "rf_preds = rf_clf.predict(X_test)\n",
    "rf2 = roc_auc_score(y_test, rf_preds)\n",
    "rf2_f1 = f1_score(y_test, rf_preds)\n",
    "rf2_kappa = cohen_kappa_score(y_test, rf_preds)\n",
    "\n",
    "print(rf2)\n",
    "print(rf2_f1)\n",
    "print(rf2_kappa)\n",
    "confusion_matrix = metrics.confusion_matrix(y_test, rf_preds)\n",
    "confusion_matrix\n"
   ]
  },
  {
   "cell_type": "code",
   "execution_count": 166,
   "id": "9231d0c5",
   "metadata": {},
   "outputs": [
    {
     "data": {
      "text/plain": [
       "Ethnicity\n",
       "0    0.552381\n",
       "1    0.530434\n",
       "Name: roc_auc_score, dtype: object"
      ]
     },
     "execution_count": 166,
     "metadata": {},
     "output_type": "execute_result"
    }
   ],
   "source": [
    "gm_a2 = MetricFrame(metrics=roc_auc_score, y_true=y_test, y_pred=rf_preds, sensitive_features=X_test['Ethnicity'])\n",
    "gm_a2.by_group"
   ]
  },
  {
   "cell_type": "code",
   "execution_count": 168,
   "id": "273f66f4",
   "metadata": {},
   "outputs": [
    {
     "name": "stdout",
     "output_type": "stream",
     "text": [
      "0.5331180033495775\n",
      "0.5372986790575851\n",
      "Next\n",
      "0.5428267412136552\n",
      "0.5080780224900205\n",
      "Next\n",
      "0.5428267412136552\n",
      "0.5961251862891207\n",
      "0.08146595604527218\n"
     ]
    },
    {
     "data": {
      "text/plain": [
       "array([[ 95, 214],\n",
       "       [ 57, 200]])"
      ]
     },
     "execution_count": 168,
     "metadata": {},
     "output_type": "execute_result"
    }
   ],
   "source": [
    "n_estim = [100, 500]\n",
    "\n",
    "for n in n_estim:\n",
    "    gb_clf = GradientBoostingClassifier(n_estimators = n, learning_rate = 0.05, random_state = 121)\n",
    "    gb_clf.fit(X_train_ada, y_train_ada)\n",
    "    gb_preds = gb_clf.predict(X_test)\n",
    "    gb = roc_auc_score(y_test, gb_preds)\n",
    "    print(gb)\n",
    "print(\"Next\")\n",
    "for n in n_estim:\n",
    "    gb_clf = GradientBoostingClassifier(n_estimators = n, learning_rate = 0.1, random_state = 121)\n",
    "    gb_clf.fit(X_train_ada, y_train_ada)\n",
    "    gb_preds = gb_clf.predict(X_test)\n",
    "    gb = roc_auc_score(y_test, gb_preds)\n",
    "    print(gb)\n",
    "print(\"Next\")\n",
    "\n",
    "gb_clf = GradientBoostingClassifier(n_estimators = 100, learning_rate = 0.1, random_state = 121)\n",
    "gb_clf.fit(X_train_ada, y_train_ada)\n",
    "gb_preds = gb_clf.predict(X_test)\n",
    "gb2 = roc_auc_score(y_test, gb_preds)\n",
    "gb2_f1 = f1_score(y_test, gb_preds)\n",
    "gb2_kappa = cohen_kappa_score(y_test, gb_preds)\n",
    "print(gb2)\n",
    "print(gb2_f1)\n",
    "print(gb2_kappa)\n",
    "confusion_matrix = metrics.confusion_matrix(y_test, gb_preds)\n",
    "confusion_matrix"
   ]
  },
  {
   "cell_type": "code",
   "execution_count": 169,
   "id": "aa09cd3c",
   "metadata": {},
   "outputs": [
    {
     "data": {
      "text/plain": [
       "Ethnicity\n",
       "0     0.37619\n",
       "1    0.559183\n",
       "Name: roc_auc_score, dtype: object"
      ]
     },
     "execution_count": 169,
     "metadata": {},
     "output_type": "execute_result"
    }
   ],
   "source": [
    "gm_a3 = MetricFrame(metrics=roc_auc_score, y_true=y_test, y_pred=gb_preds, sensitive_features=X_test['Ethnicity'])\n",
    "gm_a3.by_group"
   ]
  },
  {
   "cell_type": "code",
   "execution_count": 170,
   "id": "d4ac9e06",
   "metadata": {},
   "outputs": [
    {
     "name": "stdout",
     "output_type": "stream",
     "text": [
      "0.5\n",
      "0.5184856383715513\n",
      "0.522785941848312\n",
      "Next\n",
      "0.49838187702265374\n",
      "0.5119312958835456\n",
      "0.48349766411041006\n",
      "Next\n",
      "0.50130960925793\n",
      "0.512970168612192\n",
      "0.5250273884628461\n",
      "Next\n",
      "0.5250273884628461\n",
      "0.5865102639296187\n",
      "0.047445124789630144\n"
     ]
    },
    {
     "data": {
      "text/plain": [
       "array([[ 84, 225],\n",
       "       [ 57, 200]])"
      ]
     },
     "execution_count": 170,
     "metadata": {},
     "output_type": "execute_result"
    }
   ],
   "source": [
    "from sklearn import svm\n",
    "\n",
    "gamma = [1, 0.1, 0.01]\n",
    "for gam in gamma:\n",
    "    sv_clf = svm.SVC(gamma = gam, C = 0.1, kernel = 'rbf', random_state = 121)\n",
    "    sv_clf.fit(X_train_ada, y_train_ada)\n",
    "    sv_preds = sv_clf.predict(X_test)\n",
    "    sv = roc_auc_score(y_test, sv_preds)\n",
    "    print(sv)\n",
    "print(\"Next\")\n",
    "for gam in gamma:\n",
    "    sv_clf = svm.SVC(gamma = gam, C = 1, kernel = 'rbf', random_state = 121)\n",
    "    sv_clf.fit(X_train_ada, y_train_ada)\n",
    "    sv_preds = sv_clf.predict(X_test)\n",
    "    sv = roc_auc_score(y_test, sv_preds)\n",
    "    print(sv)\n",
    "print(\"Next\")\n",
    "for gam in gamma:\n",
    "    sv_clf = svm.SVC(gamma = gam, C = 10, kernel = 'rbf', random_state = 121)\n",
    "    sv_clf.fit(X_train_ada, y_train_ada)\n",
    "    sv_preds = sv_clf.predict(X_test)\n",
    "    sv = roc_auc_score(y_test, sv_preds)\n",
    "    print(sv)\n",
    "print(\"Next\")\n",
    "\n",
    "sv_clf = svm.SVC(gamma = 0.01, C = 10, kernel = 'rbf', random_state = 121)\n",
    "sv_clf.fit(X_train_ada, y_train_ada)\n",
    "sv_preds = sv_clf.predict(X_test)\n",
    "sv2 = roc_auc_score(y_test, sv_preds)\n",
    "sv2_f1 = f1_score(y_test, sv_preds)\n",
    "sv2_kappa = cohen_kappa_score(y_test, sv_preds)\n",
    "print(sv2)\n",
    "print(sv2_f1)\n",
    "print(sv2_kappa)\n",
    "confusion_matrix = metrics.confusion_matrix(y_test, sv_preds)\n",
    "confusion_matrix"
   ]
  },
  {
   "cell_type": "code",
   "execution_count": 171,
   "id": "09f673f6",
   "metadata": {},
   "outputs": [
    {
     "data": {
      "text/plain": [
       "Ethnicity\n",
       "0    0.395238\n",
       "1    0.538522\n",
       "Name: roc_auc_score, dtype: object"
      ]
     },
     "execution_count": 171,
     "metadata": {},
     "output_type": "execute_result"
    }
   ],
   "source": [
    "gm_a4 = MetricFrame(metrics=roc_auc_score, y_true=y_test, y_pred=sv_preds, sensitive_features=X_test['Ethnicity'])\n",
    "gm_a4.by_group"
   ]
  },
  {
   "cell_type": "markdown",
   "id": "6413f6bb",
   "metadata": {},
   "source": [
    "# Majority Weighted Minority Oversampling Technique)"
   ]
  },
  {
   "cell_type": "code",
   "execution_count": 172,
   "id": "62971459",
   "metadata": {},
   "outputs": [],
   "source": [
    "f_data = n_data.drop(drugs, axis = 1)\n",
    "f_data['Ethnicity'] = np.where(f_data['Ethnicity'] == 'White', 1, 0)\n",
    "f_df = pd.get_dummies(f_data, prefix = ['Age', 'Gender', 'Education', 'Country'])\n",
    "f_df_target = f_df['target']\n",
    "f_df_predi = f_df.drop('target', axis = 1)\n",
    "X_train, X_test, y_train, y_test = train_test_split(f_df_predi, f_df_target, test_size = 0.3, random_state = 121)\n",
    "X_train['target'] = y_train"
   ]
  },
  {
   "cell_type": "code",
   "execution_count": 173,
   "id": "501f95f6",
   "metadata": {},
   "outputs": [],
   "source": [
    "from crucio import MWMOTE\n",
    "mwmote = MWMOTE()\n",
    "balanced_df = mwmote.balance(X_train, 'Ethnicity')"
   ]
  },
  {
   "cell_type": "code",
   "execution_count": 174,
   "id": "922b1b60",
   "metadata": {},
   "outputs": [],
   "source": [
    "balanced_df['target'] = np.where(balanced_df['target'] > 0.5, 1, 0)\n",
    "balanced_target = balanced_df['target']\n",
    "balanced_df = balanced_df.drop('target', axis = 1)"
   ]
  },
  {
   "cell_type": "code",
   "execution_count": 175,
   "id": "05c855fc",
   "metadata": {},
   "outputs": [
    {
     "data": {
      "text/plain": [
       "1    1210\n",
       "0    1210\n",
       "Name: Ethnicity, dtype: int64"
      ]
     },
     "execution_count": 175,
     "metadata": {},
     "output_type": "execute_result"
    }
   ],
   "source": [
    "balanced_target.value_counts()\n",
    "balanced_df['Ethnicity'].value_counts()"
   ]
  },
  {
   "cell_type": "code",
   "execution_count": 176,
   "id": "70b204da",
   "metadata": {},
   "outputs": [],
   "source": [
    "X_train_mw, X_test, y_train_mw, y_test = train_test_split(balanced_df, balanced_target, test_size = 0.3, random_state = 121)"
   ]
  },
  {
   "cell_type": "code",
   "execution_count": 177,
   "id": "54f4febb",
   "metadata": {},
   "outputs": [
    {
     "name": "stdout",
     "output_type": "stream",
     "text": [
      "0.7344430992736077\n",
      "0.6409090909090909\n",
      "0.48596472359647236\n"
     ]
    },
    {
     "data": {
      "text/plain": [
       "array([[427,  63],\n",
       "       [ 95, 141]])"
      ]
     },
     "execution_count": 177,
     "metadata": {},
     "output_type": "execute_result"
    }
   ],
   "source": [
    "lr_clf = LogisticRegression()\n",
    "lr_clf.fit(X_train_mw, y_train_mw)\n",
    "lr_preds = lr_clf.predict(X_test)\n",
    "\n",
    "lr3 = roc_auc_score(y_test, lr_preds)\n",
    "lr3_f1 = f1_score(y_test, lr_preds)\n",
    "lr3_kappa = cohen_kappa_score(y_test, lr_preds)\n",
    "print(lr3)\n",
    "print(lr3_f1)\n",
    "print(lr3_kappa)\n",
    "confusion_matrix = metrics.confusion_matrix(y_test, lr_preds)\n",
    "confusion_matrix"
   ]
  },
  {
   "cell_type": "code",
   "execution_count": 178,
   "id": "ec9db450",
   "metadata": {},
   "outputs": [
    {
     "data": {
      "text/plain": [
       "Ethnicity\n",
       "0    0.811354\n",
       "1    0.649994\n",
       "Name: roc_auc_score, dtype: object"
      ]
     },
     "execution_count": 178,
     "metadata": {},
     "output_type": "execute_result"
    }
   ],
   "source": [
    "gm_mw = MetricFrame(metrics=roc_auc_score, y_true=y_test, y_pred=lr_preds, sensitive_features=X_test['Ethnicity'])\n",
    "gm_mw.by_group"
   ]
  },
  {
   "cell_type": "code",
   "execution_count": 179,
   "id": "dd64e4cd",
   "metadata": {},
   "outputs": [
    {
     "name": "stdout",
     "output_type": "stream",
     "text": [
      "0.7595468695952957\n",
      "0.7439380837080595\n",
      "0.7417416118989968\n",
      "0.738680387409201\n",
      "Next\n",
      "0.7597025250778277\n",
      "0.7425198893116569\n",
      "0.7340453130404704\n",
      "0.7371065375302663\n",
      "Next\n",
      "0.7425198893116569\n",
      "0.652452025586354\n",
      "0.4866431254826088\n"
     ]
    },
    {
     "data": {
      "text/plain": [
       "array([[410,  80],\n",
       "       [ 83, 153]])"
      ]
     },
     "execution_count": 179,
     "metadata": {},
     "output_type": "execute_result"
    }
   ],
   "source": [
    "max_depths = [6, 8, 10, 12]\n",
    "\n",
    "for depth in max_depths:\n",
    "    dt_clf = DecisionTreeClassifier(max_depth = depth, min_samples_split = 16, random_state = 121)\n",
    "    dt_clf.fit(X_train_mw, y_train_mw)\n",
    "    dt_preds = dt_clf.predict(X_test)\n",
    "    dt = roc_auc_score(y_test, dt_preds)\n",
    "    print(dt)\n",
    "print(\"Next\")\n",
    "for depth in max_depths:\n",
    "    dt_clf = DecisionTreeClassifier(max_depth = depth, min_samples_split = 24, random_state = 121)\n",
    "    dt_clf.fit(X_train_mw, y_train_mw)\n",
    "    dt_preds = dt_clf.predict(X_test)\n",
    "    dt = roc_auc_score(y_test, dt_preds)\n",
    "    print(dt)\n",
    "print(\"Next\")\n",
    "dt_clf = DecisionTreeClassifier(max_depth = 8, min_samples_split = 24, random_state = 121)\n",
    "dt_clf.fit(X_train_mw, y_train_mw)\n",
    "dt_preds = dt_clf.predict(X_test)\n",
    "dt3 = roc_auc_score(y_test, dt_preds)\n",
    "dt3_f1 = f1_score(y_test, dt_preds)\n",
    "dt3_kappa = cohen_kappa_score(y_test, dt_preds)\n",
    "\n",
    "print(dt3)\n",
    "print(dt3_f1)\n",
    "print(dt3_kappa)\n",
    "confusion_matrix = metrics.confusion_matrix(y_test, dt_preds)\n",
    "confusion_matrix"
   ]
  },
  {
   "cell_type": "code",
   "execution_count": 180,
   "id": "d19db78e",
   "metadata": {},
   "outputs": [
    {
     "data": {
      "text/plain": [
       "Ethnicity\n",
       "0    0.965175\n",
       "1    0.586485\n",
       "Name: roc_auc_score, dtype: object"
      ]
     },
     "execution_count": 180,
     "metadata": {},
     "output_type": "execute_result"
    }
   ],
   "source": [
    "gm_mw1 = MetricFrame(metrics=roc_auc_score, y_true=y_test, y_pred=dt_preds, sensitive_features=X_test['Ethnicity'])\n",
    "gm_mw1.by_group"
   ]
  },
  {
   "cell_type": "code",
   "execution_count": 181,
   "id": "dbb95a3e",
   "metadata": {},
   "outputs": [
    {
     "name": "stdout",
     "output_type": "stream",
     "text": [
      "0.8011414735385679\n",
      "0.7960394327222413\n",
      "0.798080249048772\n",
      "0.7949411968177101\n",
      "Next\n",
      "0.8011414735385679\n",
      "0.7960394327222413\n",
      "0.798080249048772\n",
      "0.7949411968177101\n",
      "Next\n",
      "0.784347976478727\n",
      "0.7971376686267728\n",
      "0.7992563126945693\n",
      "0.801374956762366\n",
      "Next\n",
      "0.784347976478727\n",
      "0.7971376686267728\n",
      "0.7992563126945693\n",
      "0.801374956762366\n",
      "Next\n",
      "0.7949411968177101\n",
      "0.723044397463002\n",
      "0.5892352743009666\n"
     ]
    },
    {
     "data": {
      "text/plain": [
       "array([[424,  66],\n",
       "       [ 65, 171]])"
      ]
     },
     "execution_count": 181,
     "metadata": {},
     "output_type": "execute_result"
    }
   ],
   "source": [
    "max_depths = [6, 8, 10, 12]\n",
    "\n",
    "for depth in max_depths:\n",
    "    rf_clf = RandomForestClassifier(n_estimators = 100, max_depth= depth, min_samples_leaf = 16, min_samples_split = 16, random_state = 121)\n",
    "    rf_clf.fit(X_train_mw, y_train_mw)\n",
    "    rf_preds = rf_clf.predict(X_test)\n",
    "    rf = roc_auc_score(y_test, rf_preds)\n",
    "    print(rf)\n",
    "print(\"Next\")\n",
    "for depth in max_depths:\n",
    "    rf_clf = RandomForestClassifier(n_estimators = 100, max_depth= depth, min_samples_leaf = 16, min_samples_split = 24, random_state = 121)\n",
    "    rf_clf.fit(X_train_mw, y_train_mw)\n",
    "    rf_preds = rf_clf.predict(X_test)\n",
    "    rf = roc_auc_score(y_test, rf_preds)\n",
    "    print(rf)\n",
    "print(\"Next\")\n",
    "for depth in max_depths:\n",
    "    rf_clf = RandomForestClassifier(n_estimators = 100, max_depth= depth, min_samples_leaf = 24, min_samples_split = 16, random_state = 121)\n",
    "    rf_clf.fit(X_train_mw, y_train_mw)\n",
    "    rf_preds = rf_clf.predict(X_test)\n",
    "    rf = roc_auc_score(y_test, rf_preds)\n",
    "    print(rf)\n",
    "print(\"Next\")\n",
    "for depth in max_depths:\n",
    "    rf_clf = RandomForestClassifier(n_estimators = 100, max_depth= depth, min_samples_leaf = 24, min_samples_split = 24, random_state = 121)\n",
    "    rf_clf.fit(X_train_mw, y_train_mw)\n",
    "    rf_preds = rf_clf.predict(X_test)\n",
    "    rf = roc_auc_score(y_test, rf_preds)\n",
    "    print(rf)\n",
    "print(\"Next\")\n",
    "\n",
    "\n",
    "rf_clf = RandomForestClassifier(n_estimators = 100, max_depth= 12, min_samples_leaf = 16, min_samples_split = 16, random_state = 121)\n",
    "rf_clf.fit(X_train_mw, y_train_mw)\n",
    "rf_preds = rf_clf.predict(X_test)\n",
    "rf3 = roc_auc_score(y_test, rf_preds)\n",
    "rf3_f1 = f1_score(y_test, rf_preds)\n",
    "rf3_kappa = cohen_kappa_score(y_test, rf_preds)\n",
    "\n",
    "print(rf3)\n",
    "print(rf3_f1)\n",
    "print(rf3_kappa)\n",
    "confusion_matrix = metrics.confusion_matrix(y_test, rf_preds)\n",
    "confusion_matrix\n"
   ]
  },
  {
   "cell_type": "code",
   "execution_count": 182,
   "id": "d1739a81",
   "metadata": {},
   "outputs": [
    {
     "data": {
      "text/plain": [
       "Ethnicity\n",
       "0    0.962039\n",
       "1    0.667252\n",
       "Name: roc_auc_score, dtype: object"
      ]
     },
     "execution_count": 182,
     "metadata": {},
     "output_type": "execute_result"
    }
   ],
   "source": [
    "gm_mw2 = MetricFrame(metrics=roc_auc_score, y_true=y_test, y_pred=rf_preds, sensitive_features=X_test['Ethnicity'])\n",
    "gm_mw2.by_group"
   ]
  },
  {
   "cell_type": "code",
   "execution_count": 183,
   "id": "cbee79ce",
   "metadata": {},
   "outputs": [
    {
     "name": "stdout",
     "output_type": "stream",
     "text": [
      "0.7896056727775855\n",
      "0.7851349014181945\n",
      "Next\n",
      "0.7947855413351782\n",
      "0.7863109650639918\n",
      "Next\n",
      "0.7863109650639918\n",
      "0.7127429805615552\n",
      "0.5783382970732858\n"
     ]
    },
    {
     "data": {
      "text/plain": [
       "array([[428,  62],\n",
       "       [ 71, 165]])"
      ]
     },
     "execution_count": 183,
     "metadata": {},
     "output_type": "execute_result"
    }
   ],
   "source": [
    "n_estim = [100, 500]\n",
    "\n",
    "for n in n_estim:\n",
    "    gb_clf = GradientBoostingClassifier(n_estimators = n, learning_rate = 0.05, random_state = 121)\n",
    "    gb_clf.fit(X_train_mw, y_train_mw)\n",
    "    gb_preds = gb_clf.predict(X_test)\n",
    "    gb = roc_auc_score(y_test, gb_preds)\n",
    "    print(gb)\n",
    "print(\"Next\")\n",
    "for n in n_estim:\n",
    "    gb_clf = GradientBoostingClassifier(n_estimators = n, learning_rate = 0.1, random_state = 121)\n",
    "    gb_clf.fit(X_train_mw, y_train_mw)\n",
    "    gb_preds = gb_clf.predict(X_test)\n",
    "    gb = roc_auc_score(y_test, gb_preds)\n",
    "    print(gb)\n",
    "print(\"Next\")\n",
    "\n",
    "gb_clf = GradientBoostingClassifier(n_estimators = 500, learning_rate = 0.1, random_state = 121)\n",
    "gb_clf.fit(X_train_mw, y_train_mw)\n",
    "gb_preds = gb_clf.predict(X_test)\n",
    "gb3 = roc_auc_score(y_test, gb_preds)\n",
    "gb3_f1 = f1_score(y_test, gb_preds)\n",
    "gb3_kappa = cohen_kappa_score(y_test, gb_preds)\n",
    "print(gb3)\n",
    "print(gb3_f1)\n",
    "print(gb3_kappa)\n",
    "confusion_matrix = metrics.confusion_matrix(y_test, gb_preds)\n",
    "confusion_matrix"
   ]
  },
  {
   "cell_type": "code",
   "execution_count": 184,
   "id": "644f86ff",
   "metadata": {},
   "outputs": [
    {
     "data": {
      "text/plain": [
       "Ethnicity\n",
       "0      0.9638\n",
       "1    0.656129\n",
       "Name: roc_auc_score, dtype: object"
      ]
     },
     "execution_count": 184,
     "metadata": {},
     "output_type": "execute_result"
    }
   ],
   "source": [
    "gm_mw3 = MetricFrame(metrics=roc_auc_score, y_true=y_test, y_pred=gb_preds, sensitive_features=X_test['Ethnicity'])\n",
    "gm_mw3.by_group"
   ]
  },
  {
   "cell_type": "code",
   "execution_count": 185,
   "id": "04887811",
   "metadata": {},
   "outputs": [
    {
     "name": "stdout",
     "output_type": "stream",
     "text": [
      "0.6186440677966102\n",
      "0.766534071255621\n",
      "0.7109045313040472\n",
      "Next\n",
      "0.6581113801452785\n",
      "0.7895278450363197\n",
      "0.7558630231753718\n",
      "Next\n",
      "0.6573244552058111\n",
      "0.7863109650639918\n",
      "0.7939986163957108\n",
      "Next\n",
      "0.7939986163957108\n",
      "0.721174004192872\n",
      "0.584786067512363\n"
     ]
    },
    {
     "data": {
      "text/plain": [
       "array([[421,  69],\n",
       "       [ 64, 172]])"
      ]
     },
     "execution_count": 185,
     "metadata": {},
     "output_type": "execute_result"
    }
   ],
   "source": [
    "from sklearn import svm\n",
    "\n",
    "gamma = [1, 0.1, 0.01]\n",
    "for gam in gamma:\n",
    "    sv_clf = svm.SVC(gamma = gam, C = 0.1, kernel = 'rbf', random_state = 121)\n",
    "    sv_clf.fit(X_train_mw, y_train_mw)\n",
    "    sv_preds = sv_clf.predict(X_test)\n",
    "    sv = roc_auc_score(y_test, sv_preds)\n",
    "    print(sv)\n",
    "print(\"Next\")\n",
    "for gam in gamma:\n",
    "    sv_clf = svm.SVC(gamma = gam, C = 1, kernel = 'rbf', random_state = 121)\n",
    "    sv_clf.fit(X_train_mw, y_train_mw)\n",
    "    sv_preds = sv_clf.predict(X_test)\n",
    "    sv = roc_auc_score(y_test, sv_preds)\n",
    "    print(sv)\n",
    "print(\"Next\")\n",
    "for gam in gamma:\n",
    "    sv_clf = svm.SVC(gamma = gam, C = 10, kernel = 'rbf', random_state = 121)\n",
    "    sv_clf.fit(X_train_mw, y_train_mw)\n",
    "    sv_preds = sv_clf.predict(X_test)\n",
    "    sv = roc_auc_score(y_test, sv_preds)\n",
    "    print(sv)\n",
    "print(\"Next\")\n",
    "\n",
    "sv_clf = svm.SVC(gamma = 0.01, C = 10, kernel = 'rbf', random_state = 121)\n",
    "sv_clf.fit(X_train_mw, y_train_mw)\n",
    "sv_preds = sv_clf.predict(X_test)\n",
    "sv3 = roc_auc_score(y_test, sv_preds)\n",
    "sv3_f1 = f1_score(y_test, sv_preds)\n",
    "sv3_kappa = cohen_kappa_score(y_test, sv_preds)\n",
    "print(sv3)\n",
    "print(sv3_f1)\n",
    "print(sv3_kappa)\n",
    "confusion_matrix = metrics.confusion_matrix(y_test, sv_preds)\n",
    "confusion_matrix"
   ]
  },
  {
   "cell_type": "code",
   "execution_count": 186,
   "id": "3088945c",
   "metadata": {},
   "outputs": [
    {
     "data": {
      "text/plain": [
       "Ethnicity\n",
       "0    0.931121\n",
       "1    0.680163\n",
       "Name: roc_auc_score, dtype: object"
      ]
     },
     "execution_count": 186,
     "metadata": {},
     "output_type": "execute_result"
    }
   ],
   "source": [
    "gm_mw4 = MetricFrame(metrics=roc_auc_score, y_true=y_test, y_pred=sv_preds, sensitive_features=X_test['Ethnicity'])\n",
    "gm_mw4.by_group"
   ]
  },
  {
   "cell_type": "code",
   "execution_count": 50,
   "id": "95015132",
   "metadata": {},
   "outputs": [
    {
     "data": {
      "text/html": [
       "<div>\n",
       "<style scoped>\n",
       "    .dataframe tbody tr th:only-of-type {\n",
       "        vertical-align: middle;\n",
       "    }\n",
       "\n",
       "    .dataframe tbody tr th {\n",
       "        vertical-align: top;\n",
       "    }\n",
       "\n",
       "    .dataframe thead th {\n",
       "        text-align: right;\n",
       "    }\n",
       "</style>\n",
       "<table border=\"1\" class=\"dataframe\">\n",
       "  <thead>\n",
       "    <tr style=\"text-align: right;\">\n",
       "      <th></th>\n",
       "      <th>rc_ac</th>\n",
       "      <th>algo</th>\n",
       "    </tr>\n",
       "  </thead>\n",
       "  <tbody>\n",
       "    <tr>\n",
       "      <th>none</th>\n",
       "      <td>0.666270</td>\n",
       "      <td>logi</td>\n",
       "    </tr>\n",
       "    <tr>\n",
       "      <th>none</th>\n",
       "      <td>0.644945</td>\n",
       "      <td>dt</td>\n",
       "    </tr>\n",
       "    <tr>\n",
       "      <th>none</th>\n",
       "      <td>0.691562</td>\n",
       "      <td>rf</td>\n",
       "    </tr>\n",
       "    <tr>\n",
       "      <th>none</th>\n",
       "      <td>0.690907</td>\n",
       "      <td>gb</td>\n",
       "    </tr>\n",
       "    <tr>\n",
       "      <th>none</th>\n",
       "      <td>0.678906</td>\n",
       "      <td>svm</td>\n",
       "    </tr>\n",
       "    <tr>\n",
       "      <th>Smote</th>\n",
       "      <td>0.550030</td>\n",
       "      <td>logi</td>\n",
       "    </tr>\n",
       "    <tr>\n",
       "      <th>Smote</th>\n",
       "      <td>0.562458</td>\n",
       "      <td>dt</td>\n",
       "    </tr>\n",
       "    <tr>\n",
       "      <th>Smote</th>\n",
       "      <td>0.528037</td>\n",
       "      <td>rf</td>\n",
       "    </tr>\n",
       "    <tr>\n",
       "      <th>Smote</th>\n",
       "      <td>0.534333</td>\n",
       "      <td>gb</td>\n",
       "    </tr>\n",
       "    <tr>\n",
       "      <th>Smote</th>\n",
       "      <td>0.548411</td>\n",
       "      <td>svm</td>\n",
       "    </tr>\n",
       "    <tr>\n",
       "      <th>Adasyn</th>\n",
       "      <td>0.537355</td>\n",
       "      <td>logi</td>\n",
       "    </tr>\n",
       "    <tr>\n",
       "      <th>Adasyn</th>\n",
       "      <td>0.580025</td>\n",
       "      <td>dt</td>\n",
       "    </tr>\n",
       "    <tr>\n",
       "      <th>Adasyn</th>\n",
       "      <td>0.535416</td>\n",
       "      <td>rf</td>\n",
       "    </tr>\n",
       "    <tr>\n",
       "      <th>Adasyn</th>\n",
       "      <td>0.542827</td>\n",
       "      <td>gb</td>\n",
       "    </tr>\n",
       "    <tr>\n",
       "      <th>Adasyn</th>\n",
       "      <td>0.525027</td>\n",
       "      <td>svm</td>\n",
       "    </tr>\n",
       "    <tr>\n",
       "      <th>Mwmote</th>\n",
       "      <td>0.741519</td>\n",
       "      <td>logi</td>\n",
       "    </tr>\n",
       "    <tr>\n",
       "      <th>Mwmote</th>\n",
       "      <td>0.737898</td>\n",
       "      <td>dt</td>\n",
       "    </tr>\n",
       "    <tr>\n",
       "      <th>Mwmote</th>\n",
       "      <td>0.797553</td>\n",
       "      <td>rf</td>\n",
       "    </tr>\n",
       "    <tr>\n",
       "      <th>Mwmote</th>\n",
       "      <td>0.780801</td>\n",
       "      <td>gb</td>\n",
       "    </tr>\n",
       "    <tr>\n",
       "      <th>Mwmote</th>\n",
       "      <td>0.801995</td>\n",
       "      <td>svm</td>\n",
       "    </tr>\n",
       "  </tbody>\n",
       "</table>\n",
       "</div>"
      ],
      "text/plain": [
       "           rc_ac  algo\n",
       "none    0.666270  logi\n",
       "none    0.644945    dt\n",
       "none    0.691562    rf\n",
       "none    0.690907    gb\n",
       "none    0.678906   svm\n",
       "Smote   0.550030  logi\n",
       "Smote   0.562458    dt\n",
       "Smote   0.528037    rf\n",
       "Smote   0.534333    gb\n",
       "Smote   0.548411   svm\n",
       "Adasyn  0.537355  logi\n",
       "Adasyn  0.580025    dt\n",
       "Adasyn  0.535416    rf\n",
       "Adasyn  0.542827    gb\n",
       "Adasyn  0.525027   svm\n",
       "Mwmote  0.741519  logi\n",
       "Mwmote  0.737898    dt\n",
       "Mwmote  0.797553    rf\n",
       "Mwmote  0.780801    gb\n",
       "Mwmote  0.801995   svm"
      ]
     },
     "execution_count": 50,
     "metadata": {},
     "output_type": "execute_result"
    }
   ],
   "source": [
    "method = ['none', 'none', 'none', 'none', 'none', 'Smote', 'Smote', 'Smote', 'Smote', 'Smote', 'Adasyn', 'Adasyn',\n",
    "                              'Adasyn', 'Adasyn', 'Adasyn', 'Mwmote', 'Mwmote', 'Mwmote', 'Mwmote', 'Mwmote']\n",
    "dat = pd.DataFrame({'rc_ac' : [lr0, dt0, rf0, gb0, sv0, lr1, dt1, rf1, gb1, sv1, lr2, dt2, rf2, gb2, sv2, lr3, dt3, rf3, gb3,\n",
    "                              sv3],\n",
    "                   'algo' : ['logi', 'dt', 'rf', 'gb', 'svm', 'logi', 'dt', 'rf', 'gb', 'svm', 'logi', 'dt', 'rf', 'gb',\n",
    "                            'svm', 'logi', 'dt', 'rf', 'gb', 'svm']}, index = method)\n",
    "dat"
   ]
  },
  {
   "cell_type": "code",
   "execution_count": 51,
   "id": "c82d3753",
   "metadata": {},
   "outputs": [
    {
     "data": {
      "text/html": [
       "<div>\n",
       "<style scoped>\n",
       "    .dataframe tbody tr th:only-of-type {\n",
       "        vertical-align: middle;\n",
       "    }\n",
       "\n",
       "    .dataframe tbody tr th {\n",
       "        vertical-align: top;\n",
       "    }\n",
       "\n",
       "    .dataframe thead th {\n",
       "        text-align: right;\n",
       "    }\n",
       "</style>\n",
       "<table border=\"1\" class=\"dataframe\">\n",
       "  <thead>\n",
       "    <tr style=\"text-align: right;\">\n",
       "      <th></th>\n",
       "      <th>rc_ac</th>\n",
       "      <th>algo</th>\n",
       "      <th>method</th>\n",
       "    </tr>\n",
       "  </thead>\n",
       "  <tbody>\n",
       "    <tr>\n",
       "      <th>0</th>\n",
       "      <td>0.666270</td>\n",
       "      <td>logi</td>\n",
       "      <td>none</td>\n",
       "    </tr>\n",
       "    <tr>\n",
       "      <th>1</th>\n",
       "      <td>0.644945</td>\n",
       "      <td>dt</td>\n",
       "      <td>none</td>\n",
       "    </tr>\n",
       "    <tr>\n",
       "      <th>2</th>\n",
       "      <td>0.691562</td>\n",
       "      <td>rf</td>\n",
       "      <td>none</td>\n",
       "    </tr>\n",
       "    <tr>\n",
       "      <th>3</th>\n",
       "      <td>0.690907</td>\n",
       "      <td>gb</td>\n",
       "      <td>none</td>\n",
       "    </tr>\n",
       "    <tr>\n",
       "      <th>4</th>\n",
       "      <td>0.678906</td>\n",
       "      <td>sv</td>\n",
       "      <td>none</td>\n",
       "    </tr>\n",
       "    <tr>\n",
       "      <th>5</th>\n",
       "      <td>0.550030</td>\n",
       "      <td>logi</td>\n",
       "      <td>Smote</td>\n",
       "    </tr>\n",
       "    <tr>\n",
       "      <th>6</th>\n",
       "      <td>0.562458</td>\n",
       "      <td>dt</td>\n",
       "      <td>Smote</td>\n",
       "    </tr>\n",
       "    <tr>\n",
       "      <th>7</th>\n",
       "      <td>0.528037</td>\n",
       "      <td>rf</td>\n",
       "      <td>Smote</td>\n",
       "    </tr>\n",
       "    <tr>\n",
       "      <th>8</th>\n",
       "      <td>0.534333</td>\n",
       "      <td>gb</td>\n",
       "      <td>Smote</td>\n",
       "    </tr>\n",
       "    <tr>\n",
       "      <th>9</th>\n",
       "      <td>0.548411</td>\n",
       "      <td>sv</td>\n",
       "      <td>Smote</td>\n",
       "    </tr>\n",
       "    <tr>\n",
       "      <th>10</th>\n",
       "      <td>0.537355</td>\n",
       "      <td>logi</td>\n",
       "      <td>Adasyn</td>\n",
       "    </tr>\n",
       "    <tr>\n",
       "      <th>11</th>\n",
       "      <td>0.580025</td>\n",
       "      <td>dt</td>\n",
       "      <td>Adasyn</td>\n",
       "    </tr>\n",
       "    <tr>\n",
       "      <th>12</th>\n",
       "      <td>0.535416</td>\n",
       "      <td>rf</td>\n",
       "      <td>Adasyn</td>\n",
       "    </tr>\n",
       "    <tr>\n",
       "      <th>13</th>\n",
       "      <td>0.542827</td>\n",
       "      <td>gb</td>\n",
       "      <td>Adasyn</td>\n",
       "    </tr>\n",
       "    <tr>\n",
       "      <th>14</th>\n",
       "      <td>0.525027</td>\n",
       "      <td>sv</td>\n",
       "      <td>Adasyn</td>\n",
       "    </tr>\n",
       "    <tr>\n",
       "      <th>15</th>\n",
       "      <td>0.741519</td>\n",
       "      <td>logi</td>\n",
       "      <td>Mwmote</td>\n",
       "    </tr>\n",
       "    <tr>\n",
       "      <th>16</th>\n",
       "      <td>0.737898</td>\n",
       "      <td>dt</td>\n",
       "      <td>Mwmote</td>\n",
       "    </tr>\n",
       "    <tr>\n",
       "      <th>17</th>\n",
       "      <td>0.797553</td>\n",
       "      <td>rf</td>\n",
       "      <td>Mwmote</td>\n",
       "    </tr>\n",
       "    <tr>\n",
       "      <th>18</th>\n",
       "      <td>0.780801</td>\n",
       "      <td>gb</td>\n",
       "      <td>Mwmote</td>\n",
       "    </tr>\n",
       "    <tr>\n",
       "      <th>19</th>\n",
       "      <td>0.801995</td>\n",
       "      <td>sv</td>\n",
       "      <td>Mwmote</td>\n",
       "    </tr>\n",
       "  </tbody>\n",
       "</table>\n",
       "</div>"
      ],
      "text/plain": [
       "       rc_ac  algo  method\n",
       "0   0.666270  logi    none\n",
       "1   0.644945    dt    none\n",
       "2   0.691562    rf    none\n",
       "3   0.690907    gb    none\n",
       "4   0.678906    sv    none\n",
       "5   0.550030  logi   Smote\n",
       "6   0.562458    dt   Smote\n",
       "7   0.528037    rf   Smote\n",
       "8   0.534333    gb   Smote\n",
       "9   0.548411    sv   Smote\n",
       "10  0.537355  logi  Adasyn\n",
       "11  0.580025    dt  Adasyn\n",
       "12  0.535416    rf  Adasyn\n",
       "13  0.542827    gb  Adasyn\n",
       "14  0.525027    sv  Adasyn\n",
       "15  0.741519  logi  Mwmote\n",
       "16  0.737898    dt  Mwmote\n",
       "17  0.797553    rf  Mwmote\n",
       "18  0.780801    gb  Mwmote\n",
       "19  0.801995    sv  Mwmote"
      ]
     },
     "execution_count": 51,
     "metadata": {},
     "output_type": "execute_result"
    }
   ],
   "source": [
    "dat_bar = pd.DataFrame({'rc_ac' : [lr0, dt0, rf0, gb0, sv0, lr1, dt1, rf1, gb1,sv1, lr2, dt2, rf2, gb2, sv2, lr3, dt3, rf3, gb3,\n",
    "                              sv3],\n",
    "                   'algo' : ['logi', 'dt', 'rf', 'gb', 'sv', 'logi', 'dt', 'rf', 'gb', 'sv', 'logi', 'dt', 'rf', 'gb', 'sv',\n",
    "                            'logi', 'dt', 'rf', 'gb', 'sv'],\n",
    "                       'method' : method})\n",
    "\n",
    "dat_bar"
   ]
  },
  {
   "cell_type": "code",
   "execution_count": 52,
   "id": "6eeffeb7",
   "metadata": {},
   "outputs": [],
   "source": [
    "n_d = dat_bar.pivot(index='method', columns='algo', values='rc_ac')"
   ]
  },
  {
   "cell_type": "code",
   "execution_count": 53,
   "id": "d103802b",
   "metadata": {},
   "outputs": [
    {
     "data": {
      "text/plain": [
       "<AxesSubplot:xlabel='method'>"
      ]
     },
     "execution_count": 53,
     "metadata": {},
     "output_type": "execute_result"
    },
    {
     "data": {
      "image/png": "[encoded data removed]",
      "text/plain": [
       "<Figure size 432x288 with 1 Axes>"
      ]
     },
     "metadata": {
      "needs_background": "light"
     },
     "output_type": "display_data"
    }
   ],
   "source": [
    "n_d.plot(kind = \"bar\", rot = 0)"
   ]
  },
  {
   "cell_type": "code",
   "execution_count": 54,
   "id": "8fd106e2",
   "metadata": {},
   "outputs": [
    {
     "data": {
      "text/html": [
       "<div>\n",
       "<style scoped>\n",
       "    .dataframe tbody tr th:only-of-type {\n",
       "        vertical-align: middle;\n",
       "    }\n",
       "\n",
       "    .dataframe tbody tr th {\n",
       "        vertical-align: top;\n",
       "    }\n",
       "\n",
       "    .dataframe thead th {\n",
       "        text-align: right;\n",
       "    }\n",
       "</style>\n",
       "<table border=\"1\" class=\"dataframe\">\n",
       "  <thead>\n",
       "    <tr style=\"text-align: right;\">\n",
       "      <th></th>\n",
       "      <th>f_1</th>\n",
       "      <th>algo</th>\n",
       "    </tr>\n",
       "  </thead>\n",
       "  <tbody>\n",
       "    <tr>\n",
       "      <th>none</th>\n",
       "      <td>0.621677</td>\n",
       "      <td>logi</td>\n",
       "    </tr>\n",
       "    <tr>\n",
       "      <th>none</th>\n",
       "      <td>0.616858</td>\n",
       "      <td>dt</td>\n",
       "    </tr>\n",
       "    <tr>\n",
       "      <th>none</th>\n",
       "      <td>0.657371</td>\n",
       "      <td>rf</td>\n",
       "    </tr>\n",
       "    <tr>\n",
       "      <th>none</th>\n",
       "      <td>0.654618</td>\n",
       "      <td>gb</td>\n",
       "    </tr>\n",
       "    <tr>\n",
       "      <th>none</th>\n",
       "      <td>0.636735</td>\n",
       "      <td>svm</td>\n",
       "    </tr>\n",
       "    <tr>\n",
       "      <th>Smote</th>\n",
       "      <td>0.620979</td>\n",
       "      <td>logi</td>\n",
       "    </tr>\n",
       "    <tr>\n",
       "      <th>Smote</th>\n",
       "      <td>0.574790</td>\n",
       "      <td>dt</td>\n",
       "    </tr>\n",
       "    <tr>\n",
       "      <th>Smote</th>\n",
       "      <td>0.510949</td>\n",
       "      <td>rf</td>\n",
       "    </tr>\n",
       "    <tr>\n",
       "      <th>Smote</th>\n",
       "      <td>0.568254</td>\n",
       "      <td>gb</td>\n",
       "    </tr>\n",
       "    <tr>\n",
       "      <th>Smote</th>\n",
       "      <td>0.620112</td>\n",
       "      <td>svm</td>\n",
       "    </tr>\n",
       "    <tr>\n",
       "      <th>Adasyn</th>\n",
       "      <td>0.601156</td>\n",
       "      <td>logi</td>\n",
       "    </tr>\n",
       "    <tr>\n",
       "      <th>Adasyn</th>\n",
       "      <td>0.612245</td>\n",
       "      <td>dt</td>\n",
       "    </tr>\n",
       "    <tr>\n",
       "      <th>Adasyn</th>\n",
       "      <td>0.486166</td>\n",
       "      <td>rf</td>\n",
       "    </tr>\n",
       "    <tr>\n",
       "      <th>Adasyn</th>\n",
       "      <td>0.596125</td>\n",
       "      <td>gb</td>\n",
       "    </tr>\n",
       "    <tr>\n",
       "      <th>Adasyn</th>\n",
       "      <td>0.586510</td>\n",
       "      <td>svm</td>\n",
       "    </tr>\n",
       "    <tr>\n",
       "      <th>Mwmote</th>\n",
       "      <td>0.648649</td>\n",
       "      <td>logi</td>\n",
       "    </tr>\n",
       "    <tr>\n",
       "      <th>Mwmote</th>\n",
       "      <td>0.643154</td>\n",
       "      <td>dt</td>\n",
       "    </tr>\n",
       "    <tr>\n",
       "      <th>Mwmote</th>\n",
       "      <td>0.723404</td>\n",
       "      <td>rf</td>\n",
       "    </tr>\n",
       "    <tr>\n",
       "      <th>Mwmote</th>\n",
       "      <td>0.703786</td>\n",
       "      <td>gb</td>\n",
       "    </tr>\n",
       "    <tr>\n",
       "      <th>Mwmote</th>\n",
       "      <td>0.728421</td>\n",
       "      <td>svm</td>\n",
       "    </tr>\n",
       "  </tbody>\n",
       "</table>\n",
       "</div>"
      ],
      "text/plain": [
       "             f_1  algo\n",
       "none    0.621677  logi\n",
       "none    0.616858    dt\n",
       "none    0.657371    rf\n",
       "none    0.654618    gb\n",
       "none    0.636735   svm\n",
       "Smote   0.620979  logi\n",
       "Smote   0.574790    dt\n",
       "Smote   0.510949    rf\n",
       "Smote   0.568254    gb\n",
       "Smote   0.620112   svm\n",
       "Adasyn  0.601156  logi\n",
       "Adasyn  0.612245    dt\n",
       "Adasyn  0.486166    rf\n",
       "Adasyn  0.596125    gb\n",
       "Adasyn  0.586510   svm\n",
       "Mwmote  0.648649  logi\n",
       "Mwmote  0.643154    dt\n",
       "Mwmote  0.723404    rf\n",
       "Mwmote  0.703786    gb\n",
       "Mwmote  0.728421   svm"
      ]
     },
     "execution_count": 54,
     "metadata": {},
     "output_type": "execute_result"
    }
   ],
   "source": [
    "method = ['none', 'none', 'none', 'none', 'none', 'Smote', 'Smote', 'Smote', 'Smote', 'Smote', 'Adasyn', 'Adasyn',\n",
    "                              'Adasyn', 'Adasyn', 'Adasyn', 'Mwmote', 'Mwmote', 'Mwmote', 'Mwmote', 'Mwmote']\n",
    "dat1 = pd.DataFrame({'f_1' : [lr0_f1, dt0_f1, rf0_f1, gb0_f1, sv0_f1, lr1_f1, dt1_f1, rf1_f1, gb1_f1, sv1_f1, lr2_f1, dt2_f1, rf2_f1, gb2_f1, sv2_f1, lr3_f1, dt3_f1, rf3_f1, gb3_f1,\n",
    "                              sv3_f1],\n",
    "                   'algo' : ['logi', 'dt', 'rf', 'gb', 'svm', 'logi', 'dt', 'rf', 'gb', 'svm', 'logi', 'dt', 'rf', 'gb',\n",
    "                            'svm', 'logi', 'dt', 'rf', 'gb', 'svm']}, index = method)\n",
    "dat1"
   ]
  },
  {
   "cell_type": "code",
   "execution_count": 55,
   "id": "d30c89be",
   "metadata": {},
   "outputs": [
    {
     "data": {
      "text/html": [
       "<div>\n",
       "<style scoped>\n",
       "    .dataframe tbody tr th:only-of-type {\n",
       "        vertical-align: middle;\n",
       "    }\n",
       "\n",
       "    .dataframe tbody tr th {\n",
       "        vertical-align: top;\n",
       "    }\n",
       "\n",
       "    .dataframe thead th {\n",
       "        text-align: right;\n",
       "    }\n",
       "</style>\n",
       "<table border=\"1\" class=\"dataframe\">\n",
       "  <thead>\n",
       "    <tr style=\"text-align: right;\">\n",
       "      <th></th>\n",
       "      <th>f_1</th>\n",
       "      <th>algo</th>\n",
       "      <th>method</th>\n",
       "    </tr>\n",
       "  </thead>\n",
       "  <tbody>\n",
       "    <tr>\n",
       "      <th>0</th>\n",
       "      <td>0.621677</td>\n",
       "      <td>logi</td>\n",
       "      <td>none</td>\n",
       "    </tr>\n",
       "    <tr>\n",
       "      <th>1</th>\n",
       "      <td>0.616858</td>\n",
       "      <td>dt</td>\n",
       "      <td>none</td>\n",
       "    </tr>\n",
       "    <tr>\n",
       "      <th>2</th>\n",
       "      <td>0.657371</td>\n",
       "      <td>rf</td>\n",
       "      <td>none</td>\n",
       "    </tr>\n",
       "    <tr>\n",
       "      <th>3</th>\n",
       "      <td>0.654618</td>\n",
       "      <td>gb</td>\n",
       "      <td>none</td>\n",
       "    </tr>\n",
       "    <tr>\n",
       "      <th>4</th>\n",
       "      <td>0.636735</td>\n",
       "      <td>sv</td>\n",
       "      <td>none</td>\n",
       "    </tr>\n",
       "    <tr>\n",
       "      <th>5</th>\n",
       "      <td>0.620979</td>\n",
       "      <td>logi</td>\n",
       "      <td>Smote</td>\n",
       "    </tr>\n",
       "    <tr>\n",
       "      <th>6</th>\n",
       "      <td>0.574790</td>\n",
       "      <td>dt</td>\n",
       "      <td>Smote</td>\n",
       "    </tr>\n",
       "    <tr>\n",
       "      <th>7</th>\n",
       "      <td>0.510949</td>\n",
       "      <td>rf</td>\n",
       "      <td>Smote</td>\n",
       "    </tr>\n",
       "    <tr>\n",
       "      <th>8</th>\n",
       "      <td>0.568254</td>\n",
       "      <td>gb</td>\n",
       "      <td>Smote</td>\n",
       "    </tr>\n",
       "    <tr>\n",
       "      <th>9</th>\n",
       "      <td>0.620112</td>\n",
       "      <td>sv</td>\n",
       "      <td>Smote</td>\n",
       "    </tr>\n",
       "    <tr>\n",
       "      <th>10</th>\n",
       "      <td>0.601156</td>\n",
       "      <td>logi</td>\n",
       "      <td>Adasyn</td>\n",
       "    </tr>\n",
       "    <tr>\n",
       "      <th>11</th>\n",
       "      <td>0.612245</td>\n",
       "      <td>dt</td>\n",
       "      <td>Adasyn</td>\n",
       "    </tr>\n",
       "    <tr>\n",
       "      <th>12</th>\n",
       "      <td>0.486166</td>\n",
       "      <td>rf</td>\n",
       "      <td>Adasyn</td>\n",
       "    </tr>\n",
       "    <tr>\n",
       "      <th>13</th>\n",
       "      <td>0.596125</td>\n",
       "      <td>gb</td>\n",
       "      <td>Adasyn</td>\n",
       "    </tr>\n",
       "    <tr>\n",
       "      <th>14</th>\n",
       "      <td>0.586510</td>\n",
       "      <td>sv</td>\n",
       "      <td>Adasyn</td>\n",
       "    </tr>\n",
       "    <tr>\n",
       "      <th>15</th>\n",
       "      <td>0.648649</td>\n",
       "      <td>logi</td>\n",
       "      <td>Mwmote</td>\n",
       "    </tr>\n",
       "    <tr>\n",
       "      <th>16</th>\n",
       "      <td>0.643154</td>\n",
       "      <td>dt</td>\n",
       "      <td>Mwmote</td>\n",
       "    </tr>\n",
       "    <tr>\n",
       "      <th>17</th>\n",
       "      <td>0.723404</td>\n",
       "      <td>rf</td>\n",
       "      <td>Mwmote</td>\n",
       "    </tr>\n",
       "    <tr>\n",
       "      <th>18</th>\n",
       "      <td>0.703786</td>\n",
       "      <td>gb</td>\n",
       "      <td>Mwmote</td>\n",
       "    </tr>\n",
       "    <tr>\n",
       "      <th>19</th>\n",
       "      <td>0.728421</td>\n",
       "      <td>sv</td>\n",
       "      <td>Mwmote</td>\n",
       "    </tr>\n",
       "  </tbody>\n",
       "</table>\n",
       "</div>"
      ],
      "text/plain": [
       "         f_1  algo  method\n",
       "0   0.621677  logi    none\n",
       "1   0.616858    dt    none\n",
       "2   0.657371    rf    none\n",
       "3   0.654618    gb    none\n",
       "4   0.636735    sv    none\n",
       "5   0.620979  logi   Smote\n",
       "6   0.574790    dt   Smote\n",
       "7   0.510949    rf   Smote\n",
       "8   0.568254    gb   Smote\n",
       "9   0.620112    sv   Smote\n",
       "10  0.601156  logi  Adasyn\n",
       "11  0.612245    dt  Adasyn\n",
       "12  0.486166    rf  Adasyn\n",
       "13  0.596125    gb  Adasyn\n",
       "14  0.586510    sv  Adasyn\n",
       "15  0.648649  logi  Mwmote\n",
       "16  0.643154    dt  Mwmote\n",
       "17  0.723404    rf  Mwmote\n",
       "18  0.703786    gb  Mwmote\n",
       "19  0.728421    sv  Mwmote"
      ]
     },
     "execution_count": 55,
     "metadata": {},
     "output_type": "execute_result"
    }
   ],
   "source": [
    "dat_bar1 = pd.DataFrame({'f_1' : [lr0_f1, dt0_f1, rf0_f1, gb0_f1, sv0_f1, lr1_f1, dt1_f1, rf1_f1, gb1_f1, sv1_f1, lr2_f1, dt2_f1, rf2_f1, gb2_f1, sv2_f1, lr3_f1, dt3_f1, rf3_f1, gb3_f1,\n",
    "                              sv3_f1],\n",
    "                   'algo' : ['logi', 'dt', 'rf', 'gb', 'sv', 'logi', 'dt', 'rf', 'gb', 'sv', 'logi', 'dt', 'rf', 'gb', 'sv',\n",
    "                            'logi', 'dt', 'rf', 'gb', 'sv'],\n",
    "                       'method' : method})\n",
    "\n",
    "dat_bar1"
   ]
  },
  {
   "cell_type": "code",
   "execution_count": 56,
   "id": "93c0d11f",
   "metadata": {},
   "outputs": [
    {
     "data": {
      "text/plain": [
       "<AxesSubplot:xlabel='method'>"
      ]
     },
     "execution_count": 56,
     "metadata": {},
     "output_type": "execute_result"
    },
    {
     "data": {
      "image/png": "[encoded data removed]",
      "text/plain": [
       "<Figure size 432x288 with 1 Axes>"
      ]
     },
     "metadata": {
      "needs_background": "light"
     },
     "output_type": "display_data"
    }
   ],
   "source": [
    "n_d1 = dat_bar1.pivot(index='method', columns='algo', values='f_1')\n",
    "n_d1.plot(kind = \"bar\", rot = 0)"
   ]
  },
  {
   "cell_type": "code",
   "execution_count": 57,
   "id": "6c39b66b",
   "metadata": {},
   "outputs": [
    {
     "data": {
      "text/html": [
       "<div>\n",
       "<style scoped>\n",
       "    .dataframe tbody tr th:only-of-type {\n",
       "        vertical-align: middle;\n",
       "    }\n",
       "\n",
       "    .dataframe tbody tr th {\n",
       "        vertical-align: top;\n",
       "    }\n",
       "\n",
       "    .dataframe thead th {\n",
       "        text-align: right;\n",
       "    }\n",
       "</style>\n",
       "<table border=\"1\" class=\"dataframe\">\n",
       "  <thead>\n",
       "    <tr style=\"text-align: right;\">\n",
       "      <th></th>\n",
       "      <th>kappa</th>\n",
       "      <th>algo</th>\n",
       "    </tr>\n",
       "  </thead>\n",
       "  <tbody>\n",
       "    <tr>\n",
       "      <th>none</th>\n",
       "      <td>0.335284</td>\n",
       "      <td>logi</td>\n",
       "    </tr>\n",
       "    <tr>\n",
       "      <th>none</th>\n",
       "      <td>0.289132</td>\n",
       "      <td>dt</td>\n",
       "    </tr>\n",
       "    <tr>\n",
       "      <th>none</th>\n",
       "      <td>0.384635</td>\n",
       "      <td>rf</td>\n",
       "    </tr>\n",
       "    <tr>\n",
       "      <th>none</th>\n",
       "      <td>0.383825</td>\n",
       "      <td>gb</td>\n",
       "    </tr>\n",
       "    <tr>\n",
       "      <th>none</th>\n",
       "      <td>0.360647</td>\n",
       "      <td>svm</td>\n",
       "    </tr>\n",
       "    <tr>\n",
       "      <th>Smote</th>\n",
       "      <td>0.093881</td>\n",
       "      <td>logi</td>\n",
       "    </tr>\n",
       "    <tr>\n",
       "      <th>Smote</th>\n",
       "      <td>0.121689</td>\n",
       "      <td>dt</td>\n",
       "    </tr>\n",
       "    <tr>\n",
       "      <th>Smote</th>\n",
       "      <td>0.055457</td>\n",
       "      <td>rf</td>\n",
       "    </tr>\n",
       "    <tr>\n",
       "      <th>Smote</th>\n",
       "      <td>0.066154</td>\n",
       "      <td>gb</td>\n",
       "    </tr>\n",
       "    <tr>\n",
       "      <th>Smote</th>\n",
       "      <td>0.090817</td>\n",
       "      <td>svm</td>\n",
       "    </tr>\n",
       "    <tr>\n",
       "      <th>Adasyn</th>\n",
       "      <td>0.070596</td>\n",
       "      <td>logi</td>\n",
       "    </tr>\n",
       "    <tr>\n",
       "      <th>Adasyn</th>\n",
       "      <td>0.153854</td>\n",
       "      <td>dt</td>\n",
       "    </tr>\n",
       "    <tr>\n",
       "      <th>Adasyn</th>\n",
       "      <td>0.071018</td>\n",
       "      <td>rf</td>\n",
       "    </tr>\n",
       "    <tr>\n",
       "      <th>Adasyn</th>\n",
       "      <td>0.081466</td>\n",
       "      <td>gb</td>\n",
       "    </tr>\n",
       "    <tr>\n",
       "      <th>Adasyn</th>\n",
       "      <td>0.047445</td>\n",
       "      <td>svm</td>\n",
       "    </tr>\n",
       "    <tr>\n",
       "      <th>Mwmote</th>\n",
       "      <td>0.494339</td>\n",
       "      <td>logi</td>\n",
       "    </tr>\n",
       "    <tr>\n",
       "      <th>Mwmote</th>\n",
       "      <td>0.466204</td>\n",
       "      <td>dt</td>\n",
       "    </tr>\n",
       "    <tr>\n",
       "      <th>Mwmote</th>\n",
       "      <td>0.591053</td>\n",
       "      <td>rf</td>\n",
       "    </tr>\n",
       "    <tr>\n",
       "      <th>Mwmote</th>\n",
       "      <td>0.571398</td>\n",
       "      <td>gb</td>\n",
       "    </tr>\n",
       "    <tr>\n",
       "      <th>Mwmote</th>\n",
       "      <td>0.596489</td>\n",
       "      <td>svm</td>\n",
       "    </tr>\n",
       "  </tbody>\n",
       "</table>\n",
       "</div>"
      ],
      "text/plain": [
       "           kappa  algo\n",
       "none    0.335284  logi\n",
       "none    0.289132    dt\n",
       "none    0.384635    rf\n",
       "none    0.383825    gb\n",
       "none    0.360647   svm\n",
       "Smote   0.093881  logi\n",
       "Smote   0.121689    dt\n",
       "Smote   0.055457    rf\n",
       "Smote   0.066154    gb\n",
       "Smote   0.090817   svm\n",
       "Adasyn  0.070596  logi\n",
       "Adasyn  0.153854    dt\n",
       "Adasyn  0.071018    rf\n",
       "Adasyn  0.081466    gb\n",
       "Adasyn  0.047445   svm\n",
       "Mwmote  0.494339  logi\n",
       "Mwmote  0.466204    dt\n",
       "Mwmote  0.591053    rf\n",
       "Mwmote  0.571398    gb\n",
       "Mwmote  0.596489   svm"
      ]
     },
     "execution_count": 57,
     "metadata": {},
     "output_type": "execute_result"
    }
   ],
   "source": [
    "method = ['none', 'none', 'none', 'none', 'none', 'Smote', 'Smote', 'Smote', 'Smote', 'Smote', 'Adasyn', 'Adasyn',\n",
    "                              'Adasyn', 'Adasyn', 'Adasyn', 'Mwmote', 'Mwmote', 'Mwmote', 'Mwmote', 'Mwmote']\n",
    "dat2 = pd.DataFrame({'kappa' : [lr0_kappa, dt0_kappa, rf0_kappa, gb0_kappa, sv0_kappa, lr1_kappa, dt1_kappa, rf1_kappa, gb1_kappa, sv1_kappa, lr2_kappa, dt2_kappa, rf2_kappa, gb2_kappa, sv2_kappa, lr3_kappa, dt3_kappa, rf3_kappa, gb3_kappa,\n",
    "                              sv3_kappa],\n",
    "                   'algo' : ['logi', 'dt', 'rf', 'gb', 'svm', 'logi', 'dt', 'rf', 'gb', 'svm', 'logi', 'dt', 'rf', 'gb',\n",
    "                            'svm', 'logi', 'dt', 'rf', 'gb', 'svm']}, index = method)\n",
    "dat2"
   ]
  },
  {
   "cell_type": "code",
   "execution_count": 58,
   "id": "b09c151b",
   "metadata": {},
   "outputs": [
    {
     "data": {
      "text/html": [
       "<div>\n",
       "<style scoped>\n",
       "    .dataframe tbody tr th:only-of-type {\n",
       "        vertical-align: middle;\n",
       "    }\n",
       "\n",
       "    .dataframe tbody tr th {\n",
       "        vertical-align: top;\n",
       "    }\n",
       "\n",
       "    .dataframe thead th {\n",
       "        text-align: right;\n",
       "    }\n",
       "</style>\n",
       "<table border=\"1\" class=\"dataframe\">\n",
       "  <thead>\n",
       "    <tr style=\"text-align: right;\">\n",
       "      <th></th>\n",
       "      <th>kappa</th>\n",
       "      <th>algo</th>\n",
       "      <th>method</th>\n",
       "    </tr>\n",
       "  </thead>\n",
       "  <tbody>\n",
       "    <tr>\n",
       "      <th>0</th>\n",
       "      <td>0.335284</td>\n",
       "      <td>logi</td>\n",
       "      <td>none</td>\n",
       "    </tr>\n",
       "    <tr>\n",
       "      <th>1</th>\n",
       "      <td>0.289132</td>\n",
       "      <td>dt</td>\n",
       "      <td>none</td>\n",
       "    </tr>\n",
       "    <tr>\n",
       "      <th>2</th>\n",
       "      <td>0.384635</td>\n",
       "      <td>rf</td>\n",
       "      <td>none</td>\n",
       "    </tr>\n",
       "    <tr>\n",
       "      <th>3</th>\n",
       "      <td>0.383825</td>\n",
       "      <td>gb</td>\n",
       "      <td>none</td>\n",
       "    </tr>\n",
       "    <tr>\n",
       "      <th>4</th>\n",
       "      <td>0.360647</td>\n",
       "      <td>sv</td>\n",
       "      <td>none</td>\n",
       "    </tr>\n",
       "    <tr>\n",
       "      <th>5</th>\n",
       "      <td>0.093881</td>\n",
       "      <td>logi</td>\n",
       "      <td>Smote</td>\n",
       "    </tr>\n",
       "    <tr>\n",
       "      <th>6</th>\n",
       "      <td>0.121689</td>\n",
       "      <td>dt</td>\n",
       "      <td>Smote</td>\n",
       "    </tr>\n",
       "    <tr>\n",
       "      <th>7</th>\n",
       "      <td>0.055457</td>\n",
       "      <td>rf</td>\n",
       "      <td>Smote</td>\n",
       "    </tr>\n",
       "    <tr>\n",
       "      <th>8</th>\n",
       "      <td>0.066154</td>\n",
       "      <td>gb</td>\n",
       "      <td>Smote</td>\n",
       "    </tr>\n",
       "    <tr>\n",
       "      <th>9</th>\n",
       "      <td>0.090817</td>\n",
       "      <td>sv</td>\n",
       "      <td>Smote</td>\n",
       "    </tr>\n",
       "    <tr>\n",
       "      <th>10</th>\n",
       "      <td>0.070596</td>\n",
       "      <td>logi</td>\n",
       "      <td>Adasyn</td>\n",
       "    </tr>\n",
       "    <tr>\n",
       "      <th>11</th>\n",
       "      <td>0.153854</td>\n",
       "      <td>dt</td>\n",
       "      <td>Adasyn</td>\n",
       "    </tr>\n",
       "    <tr>\n",
       "      <th>12</th>\n",
       "      <td>0.071018</td>\n",
       "      <td>rf</td>\n",
       "      <td>Adasyn</td>\n",
       "    </tr>\n",
       "    <tr>\n",
       "      <th>13</th>\n",
       "      <td>0.081466</td>\n",
       "      <td>gb</td>\n",
       "      <td>Adasyn</td>\n",
       "    </tr>\n",
       "    <tr>\n",
       "      <th>14</th>\n",
       "      <td>0.047445</td>\n",
       "      <td>sv</td>\n",
       "      <td>Adasyn</td>\n",
       "    </tr>\n",
       "    <tr>\n",
       "      <th>15</th>\n",
       "      <td>0.494339</td>\n",
       "      <td>logi</td>\n",
       "      <td>Mwmote</td>\n",
       "    </tr>\n",
       "    <tr>\n",
       "      <th>16</th>\n",
       "      <td>0.466204</td>\n",
       "      <td>dt</td>\n",
       "      <td>Mwmote</td>\n",
       "    </tr>\n",
       "    <tr>\n",
       "      <th>17</th>\n",
       "      <td>0.591053</td>\n",
       "      <td>rf</td>\n",
       "      <td>Mwmote</td>\n",
       "    </tr>\n",
       "    <tr>\n",
       "      <th>18</th>\n",
       "      <td>0.571398</td>\n",
       "      <td>gb</td>\n",
       "      <td>Mwmote</td>\n",
       "    </tr>\n",
       "    <tr>\n",
       "      <th>19</th>\n",
       "      <td>0.596489</td>\n",
       "      <td>sv</td>\n",
       "      <td>Mwmote</td>\n",
       "    </tr>\n",
       "  </tbody>\n",
       "</table>\n",
       "</div>"
      ],
      "text/plain": [
       "       kappa  algo  method\n",
       "0   0.335284  logi    none\n",
       "1   0.289132    dt    none\n",
       "2   0.384635    rf    none\n",
       "3   0.383825    gb    none\n",
       "4   0.360647    sv    none\n",
       "5   0.093881  logi   Smote\n",
       "6   0.121689    dt   Smote\n",
       "7   0.055457    rf   Smote\n",
       "8   0.066154    gb   Smote\n",
       "9   0.090817    sv   Smote\n",
       "10  0.070596  logi  Adasyn\n",
       "11  0.153854    dt  Adasyn\n",
       "12  0.071018    rf  Adasyn\n",
       "13  0.081466    gb  Adasyn\n",
       "14  0.047445    sv  Adasyn\n",
       "15  0.494339  logi  Mwmote\n",
       "16  0.466204    dt  Mwmote\n",
       "17  0.591053    rf  Mwmote\n",
       "18  0.571398    gb  Mwmote\n",
       "19  0.596489    sv  Mwmote"
      ]
     },
     "execution_count": 58,
     "metadata": {},
     "output_type": "execute_result"
    }
   ],
   "source": [
    "dat_bar2 = pd.DataFrame({'kappa' : [lr0_kappa, dt0_kappa, rf0_kappa, gb0_kappa, sv0_kappa, lr1_kappa, dt1_kappa, rf1_kappa, gb1_kappa, sv1_kappa, lr2_kappa, dt2_kappa, rf2_kappa, gb2_kappa, sv2_kappa, lr3_kappa, dt3_kappa, rf3_kappa, gb3_kappa,\n",
    "                              sv3_kappa],\n",
    "                   'algo' : ['logi', 'dt', 'rf', 'gb', 'sv', 'logi', 'dt', 'rf', 'gb', 'sv', 'logi', 'dt', 'rf', 'gb', 'sv',\n",
    "                            'logi', 'dt', 'rf', 'gb', 'sv'],\n",
    "                       'method' : method})\n",
    "\n",
    "dat_bar2"
   ]
  },
  {
   "cell_type": "code",
   "execution_count": 59,
   "id": "02050759",
   "metadata": {},
   "outputs": [
    {
     "data": {
      "text/plain": [
       "<AxesSubplot:xlabel='method'>"
      ]
     },
     "execution_count": 59,
     "metadata": {},
     "output_type": "execute_result"
    },
    {
     "data": {
      "image/png": "[encoded data removed]",
      "text/plain": [
       "<Figure size 432x288 with 1 Axes>"
      ]
     },
     "metadata": {
      "needs_background": "light"
     },
     "output_type": "display_data"
    }
   ],
   "source": [
    "n_d2 = dat_bar2.pivot(index='method', columns='algo', values='kappa')\n",
    "n_d2.plot(kind = \"bar\", rot = 0)"
   ]
  },
  {
   "cell_type": "code",
   "execution_count": null,
   "id": "706cb7a8",
   "metadata": {},
   "outputs": [],
   "source": []
  },
  {
   "cell_type": "markdown",
   "id": "2d92e2ca",
   "metadata": {},
   "source": [
    "# Multiclass"
   ]
  },
  {
   "cell_type": "code",
   "execution_count": 187,
   "id": "b21538b4",
   "metadata": {},
   "outputs": [],
   "source": [
    "f_data = n_data.drop(drugs, axis = 1)"
   ]
  },
  {
   "cell_type": "code",
   "execution_count": 188,
   "id": "2c91d075",
   "metadata": {},
   "outputs": [],
   "source": [
    "for i in range(f_data.shape[0]):\n",
    "    if f_data['Ethnicity'][i] == 'White':\n",
    "        f_data['Ethnicity'][i] = 1\n",
    "    elif f_data['Ethnicity'][i] == 'Other':\n",
    "        f_data['Ethnicity'][i] = 2\n",
    "    elif f_data['Ethnicity'][i] == 'Black':\n",
    "        f_data['Ethnicity'][i] = 3\n",
    "    elif f_data['Ethnicity'][i] == 'Asian':\n",
    "        f_data['Ethnicity'][i] = 4\n",
    "    else:\n",
    "        f_data['Ethnicity'][i] = 5"
   ]
  },
  {
   "cell_type": "code",
   "execution_count": 189,
   "id": "ef611db7",
   "metadata": {},
   "outputs": [
    {
     "data": {
      "text/plain": [
       "1    1720\n",
       "2      63\n",
       "5      42\n",
       "3      33\n",
       "4      26\n",
       "Name: Ethnicity, dtype: int64"
      ]
     },
     "execution_count": 189,
     "metadata": {},
     "output_type": "execute_result"
    }
   ],
   "source": [
    "f_data['Ethnicity'].value_counts()"
   ]
  },
  {
   "cell_type": "markdown",
   "id": "9e501124",
   "metadata": {},
   "source": [
    "# Smote for multiclass"
   ]
  },
  {
   "cell_type": "code",
   "execution_count": 190,
   "id": "9c5ea82c",
   "metadata": {},
   "outputs": [],
   "source": [
    "f_data = n_data.drop(drugs, axis = 1)"
   ]
  },
  {
   "cell_type": "code",
   "execution_count": 191,
   "id": "ac8d54e7",
   "metadata": {},
   "outputs": [],
   "source": [
    "f_df = pd.get_dummies(f_data, prefix = ['Age', 'Gender', 'Education', 'Country', 'Ethnicity'])"
   ]
  },
  {
   "cell_type": "code",
   "execution_count": 192,
   "id": "2706f55d",
   "metadata": {},
   "outputs": [],
   "source": [
    "f_df_target = f_df['target']\n",
    "f_df_predi = f_df.drop('target', axis = 1)\n",
    "X_train, X_test, y_train, y_test = train_test_split(f_df_predi, f_df_target, test_size = 0.3, random_state = 121)"
   ]
  },
  {
   "cell_type": "code",
   "execution_count": 193,
   "id": "34c594b5",
   "metadata": {},
   "outputs": [
    {
     "name": "stdout",
     "output_type": "stream",
     "text": [
      "0.6614156372382355\n",
      "0.6178861788617885\n",
      "0.3251734503621213\n"
     ]
    },
    {
     "data": {
      "text/plain": [
       "array([[226,  83],\n",
       "       [105, 152]])"
      ]
     },
     "execution_count": 193,
     "metadata": {},
     "output_type": "execute_result"
    }
   ],
   "source": [
    "lr_clf = LogisticRegression()\n",
    "lr_clf.fit(X_train, y_train)\n",
    "lr_preds = lr_clf.predict(X_test)\n",
    "\n",
    "lr_m = roc_auc_score(y_test, lr_preds)\n",
    "lr_m_f1 = f1_score(y_test, lr_preds)\n",
    "lr_m_kappa = cohen_kappa_score(y_test, lr_preds)\n",
    "print(lr_m)\n",
    "print(lr_m_f1)\n",
    "print(lr_m_kappa)\n",
    "confusion_matrix = metrics.confusion_matrix(y_test, lr_preds)\n",
    "confusion_matrix"
   ]
  },
  {
   "cell_type": "code",
   "execution_count": 195,
   "id": "ed8242ef",
   "metadata": {},
   "outputs": [
    {
     "ename": "KeyError",
     "evalue": "'Ethnicity'",
     "output_type": "error",
     "traceback": [
      "\u001b[0;31m---------------------------------------------------------------------------\u001b[0m",
      "\u001b[0;31mKeyError\u001b[0m                                  Traceback (most recent call last)",
      "\u001b[0;32m~/opt/anaconda3/lib/python3.9/site-packages/pandas/core/indexes/base.py\u001b[0m in \u001b[0;36mget_loc\u001b[0;34m(self, key, method, tolerance)\u001b[0m\n\u001b[1;32m   3360\u001b[0m             \u001b[0;32mtry\u001b[0m\u001b[0;34m:\u001b[0m\u001b[0;34m\u001b[0m\u001b[0;34m\u001b[0m\u001b[0m\n\u001b[0;32m-> 3361\u001b[0;31m                 \u001b[0;32mreturn\u001b[0m \u001b[0mself\u001b[0m\u001b[0;34m.\u001b[0m\u001b[0m_engine\u001b[0m\u001b[0;34m.\u001b[0m\u001b[0mget_loc\u001b[0m\u001b[0;34m(\u001b[0m\u001b[0mcasted_key\u001b[0m\u001b[0;34m)\u001b[0m\u001b[0;34m\u001b[0m\u001b[0;34m\u001b[0m\u001b[0m\n\u001b[0m\u001b[1;32m   3362\u001b[0m             \u001b[0;32mexcept\u001b[0m \u001b[0mKeyError\u001b[0m \u001b[0;32mas\u001b[0m \u001b[0merr\u001b[0m\u001b[0;34m:\u001b[0m\u001b[0;34m\u001b[0m\u001b[0;34m\u001b[0m\u001b[0m\n",
      "\u001b[0;32m~/opt/anaconda3/lib/python3.9/site-packages/pandas/_libs/index.pyx\u001b[0m in \u001b[0;36mpandas._libs.index.IndexEngine.get_loc\u001b[0;34m()\u001b[0m\n",
      "\u001b[0;32m~/opt/anaconda3/lib/python3.9/site-packages/pandas/_libs/index.pyx\u001b[0m in \u001b[0;36mpandas._libs.index.IndexEngine.get_loc\u001b[0;34m()\u001b[0m\n",
      "\u001b[0;32mpandas/_libs/hashtable_class_helper.pxi\u001b[0m in \u001b[0;36mpandas._libs.hashtable.PyObjectHashTable.get_item\u001b[0;34m()\u001b[0m\n",
      "\u001b[0;32mpandas/_libs/hashtable_class_helper.pxi\u001b[0m in \u001b[0;36mpandas._libs.hashtable.PyObjectHashTable.get_item\u001b[0;34m()\u001b[0m\n",
      "\u001b[0;31mKeyError\u001b[0m: 'Ethnicity'",
      "\nThe above exception was the direct cause of the following exception:\n",
      "\u001b[0;31mKeyError\u001b[0m                                  Traceback (most recent call last)",
      "\u001b[0;32m/var/folders/bn/qc5vfhgd70b9bh2v45b8_nhr0000gn/T/ipykernel_41509/3388682610.py\u001b[0m in \u001b[0;36m<module>\u001b[0;34m\u001b[0m\n\u001b[0;32m----> 1\u001b[0;31m \u001b[0mgm_m_n\u001b[0m \u001b[0;34m=\u001b[0m \u001b[0mMetricFrame\u001b[0m\u001b[0;34m(\u001b[0m\u001b[0mmetrics\u001b[0m\u001b[0;34m=\u001b[0m\u001b[0mroc_auc_score\u001b[0m\u001b[0;34m,\u001b[0m \u001b[0my_true\u001b[0m\u001b[0;34m=\u001b[0m\u001b[0my_test\u001b[0m\u001b[0;34m,\u001b[0m \u001b[0my_pred\u001b[0m\u001b[0;34m=\u001b[0m\u001b[0mlr_preds\u001b[0m\u001b[0;34m,\u001b[0m \u001b[0msensitive_features\u001b[0m\u001b[0;34m=\u001b[0m\u001b[0mX_test\u001b[0m\u001b[0;34m[\u001b[0m\u001b[0;34m'Ethnicity'\u001b[0m\u001b[0;34m]\u001b[0m\u001b[0;34m)\u001b[0m\u001b[0;34m\u001b[0m\u001b[0;34m\u001b[0m\u001b[0m\n\u001b[0m\u001b[1;32m      2\u001b[0m \u001b[0mgm_m_n\u001b[0m\u001b[0;34m.\u001b[0m\u001b[0mby_group\u001b[0m\u001b[0;34m\u001b[0m\u001b[0;34m\u001b[0m\u001b[0m\n",
      "\u001b[0;32m~/opt/anaconda3/lib/python3.9/site-packages/pandas/core/frame.py\u001b[0m in \u001b[0;36m__getitem__\u001b[0;34m(self, key)\u001b[0m\n\u001b[1;32m   3456\u001b[0m             \u001b[0;32mif\u001b[0m \u001b[0mself\u001b[0m\u001b[0;34m.\u001b[0m\u001b[0mcolumns\u001b[0m\u001b[0;34m.\u001b[0m\u001b[0mnlevels\u001b[0m \u001b[0;34m>\u001b[0m \u001b[0;36m1\u001b[0m\u001b[0;34m:\u001b[0m\u001b[0;34m\u001b[0m\u001b[0;34m\u001b[0m\u001b[0m\n\u001b[1;32m   3457\u001b[0m                 \u001b[0;32mreturn\u001b[0m \u001b[0mself\u001b[0m\u001b[0;34m.\u001b[0m\u001b[0m_getitem_multilevel\u001b[0m\u001b[0;34m(\u001b[0m\u001b[0mkey\u001b[0m\u001b[0;34m)\u001b[0m\u001b[0;34m\u001b[0m\u001b[0;34m\u001b[0m\u001b[0m\n\u001b[0;32m-> 3458\u001b[0;31m             \u001b[0mindexer\u001b[0m \u001b[0;34m=\u001b[0m \u001b[0mself\u001b[0m\u001b[0;34m.\u001b[0m\u001b[0mcolumns\u001b[0m\u001b[0;34m.\u001b[0m\u001b[0mget_loc\u001b[0m\u001b[0;34m(\u001b[0m\u001b[0mkey\u001b[0m\u001b[0;34m)\u001b[0m\u001b[0;34m\u001b[0m\u001b[0;34m\u001b[0m\u001b[0m\n\u001b[0m\u001b[1;32m   3459\u001b[0m             \u001b[0;32mif\u001b[0m \u001b[0mis_integer\u001b[0m\u001b[0;34m(\u001b[0m\u001b[0mindexer\u001b[0m\u001b[0;34m)\u001b[0m\u001b[0;34m:\u001b[0m\u001b[0;34m\u001b[0m\u001b[0;34m\u001b[0m\u001b[0m\n\u001b[1;32m   3460\u001b[0m                 \u001b[0mindexer\u001b[0m \u001b[0;34m=\u001b[0m \u001b[0;34m[\u001b[0m\u001b[0mindexer\u001b[0m\u001b[0;34m]\u001b[0m\u001b[0;34m\u001b[0m\u001b[0;34m\u001b[0m\u001b[0m\n",
      "\u001b[0;32m~/opt/anaconda3/lib/python3.9/site-packages/pandas/core/indexes/base.py\u001b[0m in \u001b[0;36mget_loc\u001b[0;34m(self, key, method, tolerance)\u001b[0m\n\u001b[1;32m   3361\u001b[0m                 \u001b[0;32mreturn\u001b[0m \u001b[0mself\u001b[0m\u001b[0;34m.\u001b[0m\u001b[0m_engine\u001b[0m\u001b[0;34m.\u001b[0m\u001b[0mget_loc\u001b[0m\u001b[0;34m(\u001b[0m\u001b[0mcasted_key\u001b[0m\u001b[0;34m)\u001b[0m\u001b[0;34m\u001b[0m\u001b[0;34m\u001b[0m\u001b[0m\n\u001b[1;32m   3362\u001b[0m             \u001b[0;32mexcept\u001b[0m \u001b[0mKeyError\u001b[0m \u001b[0;32mas\u001b[0m \u001b[0merr\u001b[0m\u001b[0;34m:\u001b[0m\u001b[0;34m\u001b[0m\u001b[0;34m\u001b[0m\u001b[0m\n\u001b[0;32m-> 3363\u001b[0;31m                 \u001b[0;32mraise\u001b[0m \u001b[0mKeyError\u001b[0m\u001b[0;34m(\u001b[0m\u001b[0mkey\u001b[0m\u001b[0;34m)\u001b[0m \u001b[0;32mfrom\u001b[0m \u001b[0merr\u001b[0m\u001b[0;34m\u001b[0m\u001b[0;34m\u001b[0m\u001b[0m\n\u001b[0m\u001b[1;32m   3364\u001b[0m \u001b[0;34m\u001b[0m\u001b[0m\n\u001b[1;32m   3365\u001b[0m         \u001b[0;32mif\u001b[0m \u001b[0mis_scalar\u001b[0m\u001b[0;34m(\u001b[0m\u001b[0mkey\u001b[0m\u001b[0;34m)\u001b[0m \u001b[0;32mand\u001b[0m \u001b[0misna\u001b[0m\u001b[0;34m(\u001b[0m\u001b[0mkey\u001b[0m\u001b[0;34m)\u001b[0m \u001b[0;32mand\u001b[0m \u001b[0;32mnot\u001b[0m \u001b[0mself\u001b[0m\u001b[0;34m.\u001b[0m\u001b[0mhasnans\u001b[0m\u001b[0;34m:\u001b[0m\u001b[0;34m\u001b[0m\u001b[0;34m\u001b[0m\u001b[0m\n",
      "\u001b[0;31mKeyError\u001b[0m: 'Ethnicity'"
     ]
    }
   ],
   "source": [
    "gm_m_n = MetricFrame(metrics=roc_auc_score, y_true=y_test, y_pred=lr_preds, sensitive_features=X_test['Ethnicity'])\n",
    "gm_m_n.by_group"
   ]
  },
  {
   "cell_type": "code",
   "execution_count": 67,
   "id": "35fbdb9e",
   "metadata": {},
   "outputs": [
    {
     "name": "stdout",
     "output_type": "stream",
     "text": [
      "0.6417085363857303\n",
      "0.6222532834674425\n",
      "0.6128341707277146\n",
      "0.6053794718748818\n",
      "Next\n",
      "0.6446173800259404\n",
      "0.6293616914107263\n",
      "0.609232745268407\n",
      "0.6021054487300568\n",
      "Next\n",
      "0.6293616914107263\n",
      "0.5884691848906559\n",
      "0.25965852363921293\n"
     ]
    },
    {
     "data": {
      "text/plain": [
       "array([[211,  98],\n",
       "       [109, 148]])"
      ]
     },
     "execution_count": 67,
     "metadata": {},
     "output_type": "execute_result"
    }
   ],
   "source": [
    "max_depths = [6, 8, 10, 12]\n",
    "\n",
    "for depth in max_depths:\n",
    "    dt_clf = DecisionTreeClassifier(max_depth = depth, min_samples_split = 16, random_state = 121)\n",
    "    dt_clf.fit(X_train, y_train)\n",
    "    dt_preds = dt_clf.predict(X_test)\n",
    "    dt = roc_auc_score(y_test, dt_preds)\n",
    "    print(dt)\n",
    "print(\"Next\")\n",
    "for depth in max_depths:\n",
    "    dt_clf = DecisionTreeClassifier(max_depth = depth, min_samples_split = 24, random_state = 121)\n",
    "    dt_clf.fit(X_train, y_train)\n",
    "    dt_preds = dt_clf.predict(X_test)\n",
    "    dt = roc_auc_score(y_test, dt_preds)\n",
    "    print(dt)\n",
    "print(\"Next\")\n",
    "dt_clf = DecisionTreeClassifier(max_depth = 8, min_samples_split = 24, random_state = 121)\n",
    "dt_clf.fit(X_train, y_train)\n",
    "dt_preds = dt_clf.predict(X_test)\n",
    "dt_m = roc_auc_score(y_test, dt_preds)\n",
    "dt_m_f1 = f1_score(y_test, dt_preds)\n",
    "dt_m_kappa = cohen_kappa_score(y_test, dt_preds)\n",
    "\n",
    "print(dt_m)\n",
    "print(dt_m_f1)\n",
    "print(dt_m_kappa)\n",
    "confusion_matrix = metrics.confusion_matrix(y_test, dt_preds)\n",
    "confusion_matrix"
   ]
  },
  {
   "cell_type": "code",
   "execution_count": 68,
   "id": "99b3c36c",
   "metadata": {},
   "outputs": [
    {
     "name": "stdout",
     "output_type": "stream",
     "text": [
      "0.6905985166156674\n",
      "0.665652978731442\n",
      "0.6802349741226248\n",
      "0.6876896729754574\n",
      "Next\n",
      "0.6905985166156674\n",
      "0.665652978731442\n",
      "0.6802349741226248\n",
      "0.6876896729754574\n",
      "Next\n",
      "0.6721443592358933\n",
      "0.6815256947854885\n",
      "0.6844345384256987\n",
      "0.6844345384256987\n",
      "Next\n",
      "0.6721443592358933\n",
      "0.6815256947854885\n",
      "0.6844345384256987\n",
      "0.6844345384256987\n",
      "Next\n",
      "0.6876896729754574\n",
      "0.6575342465753425\n",
      "0.3757484086468772\n"
     ]
    },
    {
     "data": {
      "text/plain": [
       "array([[223,  86],\n",
       "       [ 89, 168]])"
      ]
     },
     "execution_count": 68,
     "metadata": {},
     "output_type": "execute_result"
    }
   ],
   "source": [
    "max_depths = [6, 8, 10, 12]\n",
    "\n",
    "for depth in max_depths:\n",
    "    rf_clf = RandomForestClassifier(n_estimators = 100, max_depth= depth, min_samples_leaf = 16, min_samples_split = 16, random_state = 121)\n",
    "    rf_clf.fit(X_train, y_train)\n",
    "    rf_preds = rf_clf.predict(X_test)\n",
    "    rf = roc_auc_score(y_test, rf_preds)\n",
    "    print(rf)\n",
    "print(\"Next\")\n",
    "for depth in max_depths:\n",
    "    rf_clf = RandomForestClassifier(n_estimators = 100, max_depth= depth, min_samples_leaf = 16, min_samples_split = 24, random_state = 121)\n",
    "    rf_clf.fit(X_train, y_train)\n",
    "    rf_preds = rf_clf.predict(X_test)\n",
    "    rf = roc_auc_score(y_test, rf_preds)\n",
    "    print(rf)\n",
    "print(\"Next\")\n",
    "for depth in max_depths:\n",
    "    rf_clf = RandomForestClassifier(n_estimators = 100, max_depth= depth, min_samples_leaf = 24, min_samples_split = 16, random_state = 121)\n",
    "    rf_clf.fit(X_train, y_train)\n",
    "    rf_preds = rf_clf.predict(X_test)\n",
    "    rf = roc_auc_score(y_test, rf_preds)\n",
    "    print(rf)\n",
    "print(\"Next\")\n",
    "for depth in max_depths:\n",
    "    rf_clf = RandomForestClassifier(n_estimators = 100, max_depth= depth, min_samples_leaf = 24, min_samples_split = 24, random_state = 121)\n",
    "    rf_clf.fit(X_train, y_train)\n",
    "    rf_preds = rf_clf.predict(X_test)\n",
    "    rf = roc_auc_score(y_test, rf_preds)\n",
    "    print(rf)\n",
    "print(\"Next\")\n",
    "\n",
    "\n",
    "rf_clf = RandomForestClassifier(n_estimators = 100, max_depth= 12, min_samples_leaf = 16, min_samples_split = 16, random_state = 121)\n",
    "rf_clf.fit(X_train, y_train)\n",
    "rf_preds = rf_clf.predict(X_test)\n",
    "rf_m = roc_auc_score(y_test, rf_preds)\n",
    "rf_m_f1 = f1_score(y_test, rf_preds)\n",
    "rf_m_kappa = cohen_kappa_score(y_test, rf_preds)\n",
    "\n",
    "print(rf_m)\n",
    "print(rf_m_f1)\n",
    "print(rf_m_kappa)\n",
    "confusion_matrix = metrics.confusion_matrix(y_test, rf_preds)\n",
    "confusion_matrix"
   ]
  },
  {
   "cell_type": "code",
   "execution_count": 69,
   "id": "6e03003e",
   "metadata": {},
   "outputs": [
    {
     "name": "stdout",
     "output_type": "stream",
     "text": [
      "0.6724339843602434\n",
      "0.6734350798987571\n",
      "Next\n",
      "0.6889615050432549\n",
      "0.6607986097994031\n",
      "Next\n",
      "0.6889615050432549\n",
      "0.6519114688128773\n",
      "0.380038241886262\n"
     ]
    },
    {
     "data": {
      "text/plain": [
       "array([[231,  78],\n",
       "       [ 95, 162]])"
      ]
     },
     "execution_count": 69,
     "metadata": {},
     "output_type": "execute_result"
    }
   ],
   "source": [
    "n_estim = [100, 500]\n",
    "\n",
    "for n in n_estim:\n",
    "    gb_clf = GradientBoostingClassifier(n_estimators = n, learning_rate = 0.05, random_state = 121)\n",
    "    gb_clf.fit(X_train, y_train)\n",
    "    gb_preds = gb_clf.predict(X_test)\n",
    "    gb = roc_auc_score(y_test, gb_preds)\n",
    "    print(gb)\n",
    "print(\"Next\")\n",
    "for n in n_estim:\n",
    "    gb_clf = GradientBoostingClassifier(n_estimators = n, learning_rate = 0.1, random_state = 121)\n",
    "    gb_clf.fit(X_train, y_train)\n",
    "    gb_preds = gb_clf.predict(X_test)\n",
    "    gb = roc_auc_score(y_test, gb_preds)\n",
    "    print(gb)\n",
    "print(\"Next\")\n",
    "\n",
    "gb_clf = GradientBoostingClassifier(n_estimators = 100, learning_rate = 0.1, random_state = 121)\n",
    "gb_clf.fit(X_train, y_train)\n",
    "gb_preds = gb_clf.predict(X_test)\n",
    "gb_m = roc_auc_score(y_test, gb_preds)\n",
    "gb_m_f1 = f1_score(y_test, gb_preds)\n",
    "gb_m_kappa = cohen_kappa_score(y_test, gb_preds)\n",
    "print(gb_m)\n",
    "print(gb_m_f1)\n",
    "print(gb_m_kappa)\n",
    "confusion_matrix = metrics.confusion_matrix(y_test, gb_preds)\n",
    "confusion_matrix"
   ]
  },
  {
   "cell_type": "code",
   "execution_count": 70,
   "id": "c47c5729",
   "metadata": {},
   "outputs": [
    {
     "name": "stdout",
     "output_type": "stream",
     "text": [
      "0.5\n",
      "0.6773072418873484\n",
      "0.6571594071499628\n",
      "Next\n",
      "0.5240388853210433\n",
      "0.6798886832130759\n",
      "0.6724528729553095\n",
      "Next\n",
      "0.5493684913049501\n",
      "0.6461788372180877\n",
      "0.668561822371652\n",
      "Next\n",
      "0.6798886832130759\n",
      "0.6411290322580645\n",
      "0.3619101906390526\n"
     ]
    },
    {
     "data": {
      "text/plain": [
       "array([[229,  80],\n",
       "       [ 98, 159]])"
      ]
     },
     "execution_count": 70,
     "metadata": {},
     "output_type": "execute_result"
    }
   ],
   "source": [
    "from sklearn import svm\n",
    "\n",
    "gamma = [1, 0.1, 0.01]\n",
    "for gam in gamma:\n",
    "    sv_clf = svm.SVC(gamma = gam, C = 0.1, kernel = 'rbf', random_state = 121)\n",
    "    sv_clf.fit(X_train, y_train)\n",
    "    sv_preds = sv_clf.predict(X_test)\n",
    "    sv = roc_auc_score(y_test, sv_preds)\n",
    "    print(sv)\n",
    "print(\"Next\")\n",
    "for gam in gamma:\n",
    "    sv_clf = svm.SVC(gamma = gam, C = 1, kernel = 'rbf', random_state = 121)\n",
    "    sv_clf.fit(X_train, y_train)\n",
    "    sv_preds = sv_clf.predict(X_test)\n",
    "    sv = roc_auc_score(y_test, sv_preds)\n",
    "    print(sv)\n",
    "print(\"Next\")\n",
    "for gam in gamma:\n",
    "    sv_clf = svm.SVC(gamma = gam, C = 10, kernel = 'rbf', random_state = 121)\n",
    "    sv_clf.fit(X_train, y_train)\n",
    "    sv_preds = sv_clf.predict(X_test)\n",
    "    sv = roc_auc_score(y_test, sv_preds)\n",
    "    print(sv)\n",
    "print(\"Next\")\n",
    "\n",
    "sv_clf = svm.SVC(gamma = 0.1, C = 1, kernel = 'rbf', random_state = 121)\n",
    "sv_clf.fit(X_train, y_train)\n",
    "sv_preds = sv_clf.predict(X_test)\n",
    "sv_m = roc_auc_score(y_test, sv_preds)\n",
    "sv_m_f1 = f1_score(y_test, sv_preds)\n",
    "sv_m_kappa = cohen_kappa_score(y_test, sv_preds)\n",
    "print(sv_m)\n",
    "print(sv_m_f1)\n",
    "print(sv_m_kappa)\n",
    "confusion_matrix = metrics.confusion_matrix(y_test, sv_preds)\n",
    "confusion_matrix"
   ]
  },
  {
   "cell_type": "markdown",
   "id": "53f7dab3",
   "metadata": {},
   "source": [
    "# smote"
   ]
  },
  {
   "cell_type": "code",
   "execution_count": 71,
   "id": "a257248b",
   "metadata": {},
   "outputs": [],
   "source": [
    "f_data = n_data.drop(drugs, axis = 1)\n"
   ]
  },
  {
   "cell_type": "code",
   "execution_count": 72,
   "id": "f6d4dbbf",
   "metadata": {},
   "outputs": [],
   "source": [
    "for i in range(f_data.shape[0]):\n",
    "    if f_data['Ethnicity'][i] == 'White':\n",
    "        f_data['Ethnicity'][i] = 1\n",
    "    elif f_data['Ethnicity'][i] == 'Other':\n",
    "        f_data['Ethnicity'][i] = 2\n",
    "    elif f_data['Ethnicity'][i] == 'Black':\n",
    "        f_data['Ethnicity'][i] = 3\n",
    "    elif f_data['Ethnicity'][i] == 'Asian':\n",
    "        f_data['Ethnicity'][i] = 4\n",
    "    else:\n",
    "        f_data['Ethnicity'][i] = 5"
   ]
  },
  {
   "cell_type": "code",
   "execution_count": 73,
   "id": "ae1011aa",
   "metadata": {},
   "outputs": [],
   "source": [
    "f_data['Ethnicity'] = f_data['Ethnicity'].astype('int')"
   ]
  },
  {
   "cell_type": "code",
   "execution_count": 74,
   "id": "151a6292",
   "metadata": {},
   "outputs": [],
   "source": [
    "f_df = pd.get_dummies(f_data, prefix = ['Age', 'Gender', 'Education', 'Country'])"
   ]
  },
  {
   "cell_type": "code",
   "execution_count": 75,
   "id": "8e9c1f67",
   "metadata": {},
   "outputs": [],
   "source": [
    "f_df['Ethnicity'] = f_df['Ethnicity'].astype('category')"
   ]
  },
  {
   "cell_type": "code",
   "execution_count": 76,
   "id": "77296e94",
   "metadata": {},
   "outputs": [],
   "source": [
    "f_df_target = f_df['target']\n",
    "f_df_predi = f_df.drop('target', axis = 1)\n",
    "X_train, X_test, y_train, y_test = train_test_split(f_df_predi, f_df_target, test_size = 0.3, random_state = 121)"
   ]
  },
  {
   "cell_type": "code",
   "execution_count": 77,
   "id": "cf9f62cb",
   "metadata": {},
   "outputs": [],
   "source": [
    "from sklearn.preprocessing import LabelEncoder\n",
    "X_train['target'] = y_train\n",
    "X_train_target = X_train['Ethnicity']\n",
    "X_train_target = X_train_target.astype('object')\n",
    "X_train_target = LabelEncoder().fit_transform(X_train_target)\n",
    "X_train_predi = X_train.drop('Ethnicity', axis = 1)"
   ]
  },
  {
   "cell_type": "code",
   "execution_count": 78,
   "id": "22cd6196",
   "metadata": {},
   "outputs": [],
   "source": [
    "smt = SMOTE(random_state = 121)\n",
    "X_train_sm, y_train_sm = smt.fit_resample(X_train_predi, X_train_target)\n",
    "X_train_sm['Ethnicity'] = y_train_sm\n",
    "y_train_sm = X_train_sm['target']\n",
    "X_train_sm = X_train_sm.drop('target', axis = 1)"
   ]
  },
  {
   "cell_type": "code",
   "execution_count": 79,
   "id": "7049fe89",
   "metadata": {},
   "outputs": [
    {
     "name": "stdout",
     "output_type": "stream",
     "text": [
      "0.49474267437321345\n",
      "0.6051282051282051\n",
      "-0.00967230015406173\n"
     ]
    },
    {
     "data": {
      "text/plain": [
       "array([[ 22, 287],\n",
       "       [ 21, 236]])"
      ]
     },
     "execution_count": 79,
     "metadata": {},
     "output_type": "execute_result"
    }
   ],
   "source": [
    "lr_clf = LogisticRegression()\n",
    "lr_clf.fit(X_train_sm, y_train_sm)\n",
    "lr_preds = lr_clf.predict(X_test)\n",
    "\n",
    "lr_m1 = roc_auc_score(y_test, lr_preds)\n",
    "lr_m1_f1 = f1_score(y_test, lr_preds)\n",
    "lr_m1_kappa = cohen_kappa_score(y_test, lr_preds)\n",
    "print(lr_m1)\n",
    "print(lr_m1_f1)\n",
    "print(lr_m1_kappa)\n",
    "confusion_matrix = metrics.confusion_matrix(y_test, lr_preds)\n",
    "confusion_matrix"
   ]
  },
  {
   "cell_type": "code",
   "execution_count": 80,
   "id": "9e173130",
   "metadata": {},
   "outputs": [
    {
     "name": "stdout",
     "output_type": "stream",
     "text": [
      "0.428733330814854\n",
      "0.45682067167844054\n",
      "0.45969173812851805\n",
      "0.4570914082077242\n",
      "Next\n",
      "0.428733330814854\n",
      "0.45325702340926544\n",
      "0.42049160716759226\n",
      "0.42374674171735105\n",
      "Next\n",
      "0.45325702340926544\n",
      "0.46127366609294324\n",
      "-0.09147926806727869\n"
     ]
    },
    {
     "data": {
      "text/plain": [
       "array([[119, 190],\n",
       "       [123, 134]])"
      ]
     },
     "execution_count": 80,
     "metadata": {},
     "output_type": "execute_result"
    }
   ],
   "source": [
    "max_depths = [6, 8, 10, 12]\n",
    "\n",
    "for depth in max_depths:\n",
    "    dt_clf = DecisionTreeClassifier(max_depth = depth, min_samples_split = 16, random_state = 121)\n",
    "    dt_clf.fit(X_train_sm, y_train_sm)\n",
    "    dt_preds = dt_clf.predict(X_test)\n",
    "    dt = roc_auc_score(y_test, dt_preds)\n",
    "    print(dt)\n",
    "print(\"Next\")\n",
    "for depth in max_depths:\n",
    "    dt_clf = DecisionTreeClassifier(max_depth = depth, min_samples_split = 24, random_state = 121)\n",
    "    dt_clf.fit(X_train_sm, y_train_sm)\n",
    "    dt_preds = dt_clf.predict(X_test)\n",
    "    dt = roc_auc_score(y_test, dt_preds)\n",
    "    print(dt)\n",
    "print(\"Next\")\n",
    "dt_clf = DecisionTreeClassifier(max_depth = 8, min_samples_split = 24, random_state = 121)\n",
    "dt_clf.fit(X_train_sm, y_train_sm)\n",
    "dt_preds = dt_clf.predict(X_test)\n",
    "dt_m1 = roc_auc_score(y_test, dt_preds)\n",
    "dt_m1_f1 = f1_score(y_test, dt_preds)\n",
    "dt_m1_kappa = cohen_kappa_score(y_test, dt_preds)\n",
    "\n",
    "print(dt_m1)\n",
    "print(dt_m1_f1)\n",
    "print(dt_m1_kappa)\n",
    "confusion_matrix = metrics.confusion_matrix(y_test, dt_preds)\n",
    "confusion_matrix"
   ]
  },
  {
   "cell_type": "code",
   "execution_count": 81,
   "id": "eb6b8c44",
   "metadata": {},
   "outputs": [
    {
     "name": "stdout",
     "output_type": "stream",
     "text": [
      "0.4237845189074837\n",
      "0.42062382733305625\n",
      "0.44004130306121164\n",
      "0.4063503456612897\n",
      "Next\n",
      "0.4237845189074837\n",
      "0.42062382733305625\n",
      "0.44004130306121164\n",
      "0.4063503456612897\n",
      "Next\n",
      "0.4503292911739891\n",
      "0.40924030070643347\n",
      "0.41996902270409125\n",
      "0.4387316938032816\n",
      "Next\n",
      "0.4503292911739891\n",
      "0.40924030070643347\n",
      "0.41996902270409125\n",
      "0.4387316938032816\n",
      "Next\n",
      "0.4503292911739891\n",
      "0.4529616724738676\n",
      "-0.09742753757425326\n"
     ]
    },
    {
     "data": {
      "text/plain": [
       "array([[122, 187],\n",
       "       [127, 130]])"
      ]
     },
     "execution_count": 81,
     "metadata": {},
     "output_type": "execute_result"
    }
   ],
   "source": [
    "max_depths = [6, 8, 10, 12]\n",
    "\n",
    "for depth in max_depths:\n",
    "    rf_clf = RandomForestClassifier(n_estimators = 100, max_depth= depth, min_samples_leaf = 16, min_samples_split = 16, random_state = 121)\n",
    "    rf_clf.fit(X_train_sm, y_train_sm)\n",
    "    rf_preds = rf_clf.predict(X_test)\n",
    "    rf = roc_auc_score(y_test, rf_preds)\n",
    "    print(rf)\n",
    "print(\"Next\")\n",
    "for depth in max_depths:\n",
    "    rf_clf = RandomForestClassifier(n_estimators = 100, max_depth= depth, min_samples_leaf = 16, min_samples_split = 24, random_state = 121)\n",
    "    rf_clf.fit(X_train_sm, y_train_sm)\n",
    "    rf_preds = rf_clf.predict(X_test)\n",
    "    rf = roc_auc_score(y_test, rf_preds)\n",
    "    print(rf)\n",
    "print(\"Next\")\n",
    "for depth in max_depths:\n",
    "    rf_clf = RandomForestClassifier(n_estimators = 100, max_depth= depth, min_samples_leaf = 24, min_samples_split = 16, random_state = 121)\n",
    "    rf_clf.fit(X_train_sm, y_train_sm)\n",
    "    rf_preds = rf_clf.predict(X_test)\n",
    "    rf = roc_auc_score(y_test, rf_preds)\n",
    "    print(rf)\n",
    "print(\"Next\")\n",
    "for depth in max_depths:\n",
    "    rf_clf = RandomForestClassifier(n_estimators = 100, max_depth= depth, min_samples_leaf = 24, min_samples_split = 24, random_state = 121)\n",
    "    rf_clf.fit(X_train_sm, y_train_sm)\n",
    "    rf_preds = rf_clf.predict(X_test)\n",
    "    rf = roc_auc_score(y_test, rf_preds)\n",
    "    print(rf)\n",
    "print(\"Next\")\n",
    "\n",
    "\n",
    "rf_clf = RandomForestClassifier(n_estimators = 100, max_depth= 6, min_samples_leaf = 24, min_samples_split = 16, random_state = 121)\n",
    "rf_clf.fit(X_train_sm, y_train_sm)\n",
    "rf_preds = rf_clf.predict(X_test)\n",
    "rf_m1 = roc_auc_score(y_test, rf_preds)\n",
    "rf_m1_f1 = f1_score(y_test, rf_preds)\n",
    "rf_m1_kappa = cohen_kappa_score(y_test, rf_preds)\n",
    "\n",
    "print(rf_m1)\n",
    "print(rf_m1_f1)\n",
    "print(rf_m1_kappa)\n",
    "confusion_matrix = metrics.confusion_matrix(y_test, rf_preds)\n",
    "confusion_matrix"
   ]
  },
  {
   "cell_type": "code",
   "execution_count": 82,
   "id": "3dd4d8b4",
   "metadata": {},
   "outputs": [
    {
     "name": "stdout",
     "output_type": "stream",
     "text": [
      "0.4053870273129085\n",
      "0.41908125873597524\n",
      "Next\n",
      "0.4355898908239205\n",
      "0.43657209776736805\n",
      "Next\n",
      "0.4355898908239205\n",
      "0.5052316890881913\n",
      "-0.12259866016322518\n"
     ]
    },
    {
     "data": {
      "text/plain": [
       "array([[ 66, 243],\n",
       "       [ 88, 169]])"
      ]
     },
     "execution_count": 82,
     "metadata": {},
     "output_type": "execute_result"
    }
   ],
   "source": [
    "n_estim = [100, 500]\n",
    "\n",
    "for n in n_estim:\n",
    "    gb_clf = GradientBoostingClassifier(n_estimators = n, learning_rate = 0.05, random_state = 121)\n",
    "    gb_clf.fit(X_train_sm, y_train_sm)\n",
    "    gb_preds = gb_clf.predict(X_test)\n",
    "    gb = roc_auc_score(y_test, gb_preds)\n",
    "    print(gb)\n",
    "print(\"Next\")\n",
    "for n in n_estim:\n",
    "    gb_clf = GradientBoostingClassifier(n_estimators = n, learning_rate = 0.1, random_state = 121)\n",
    "    gb_clf.fit(X_train_sm, y_train_sm)\n",
    "    gb_preds = gb_clf.predict(X_test)\n",
    "    gb = roc_auc_score(y_test, gb_preds)\n",
    "    print(gb)\n",
    "print(\"Next\")\n",
    "\n",
    "gb_clf = GradientBoostingClassifier(n_estimators = 100, learning_rate = 0.1, random_state = 121)\n",
    "gb_clf.fit(X_train_sm, y_train_sm)\n",
    "gb_preds = gb_clf.predict(X_test)\n",
    "gb_m1 = roc_auc_score(y_test, gb_preds)\n",
    "gb_m1_f1 = f1_score(y_test, gb_preds)\n",
    "gb_m1_kappa = cohen_kappa_score(y_test, gb_preds)\n",
    "print(gb_m1)\n",
    "print(gb_m1_f1)\n",
    "print(gb_m1_kappa)\n",
    "confusion_matrix = metrics.confusion_matrix(y_test, gb_preds)\n",
    "confusion_matrix"
   ]
  },
  {
   "cell_type": "code",
   "execution_count": 83,
   "id": "2994f00f",
   "metadata": {},
   "outputs": [
    {
     "name": "stdout",
     "output_type": "stream",
     "text": [
      "0.5\n",
      "0.4848891239469608\n",
      "0.4619646657348293\n",
      "Next\n",
      "0.4987092793371362\n",
      "0.4182942339415461\n",
      "0.4586087920113835\n",
      "Next\n",
      "0.4954730333824437\n",
      "0.4516577890269855\n",
      "0.4560462392807223\n",
      "Next\n",
      "0.5\n",
      "0.0\n",
      "0.0\n"
     ]
    },
    {
     "data": {
      "text/plain": [
       "array([[309,   0],\n",
       "       [257,   0]])"
      ]
     },
     "execution_count": 83,
     "metadata": {},
     "output_type": "execute_result"
    }
   ],
   "source": [
    "from sklearn import svm\n",
    "\n",
    "gamma = [1, 0.1, 0.01]\n",
    "for gam in gamma:\n",
    "    sv_clf = svm.SVC(gamma = gam, C = 0.1, kernel = 'rbf', random_state = 121)\n",
    "    sv_clf.fit(X_train_sm, y_train_sm)\n",
    "    sv_preds = sv_clf.predict(X_test)\n",
    "    sv = roc_auc_score(y_test, sv_preds)\n",
    "    print(sv)\n",
    "print(\"Next\")\n",
    "for gam in gamma:\n",
    "    sv_clf = svm.SVC(gamma = gam, C = 1, kernel = 'rbf', random_state = 121)\n",
    "    sv_clf.fit(X_train_sm, y_train_sm)\n",
    "    sv_preds = sv_clf.predict(X_test)\n",
    "    sv = roc_auc_score(y_test, sv_preds)\n",
    "    print(sv)\n",
    "print(\"Next\")\n",
    "for gam in gamma:\n",
    "    sv_clf = svm.SVC(gamma = gam, C = 10, kernel = 'rbf', random_state = 121)\n",
    "    sv_clf.fit(X_train_sm, y_train_sm)\n",
    "    sv_preds = sv_clf.predict(X_test)\n",
    "    sv = roc_auc_score(y_test, sv_preds)\n",
    "    print(sv)\n",
    "print(\"Next\")\n",
    "\n",
    "sv_clf = svm.SVC(gamma = 1, C = 0.1, kernel = 'rbf', random_state = 121)\n",
    "sv_clf.fit(X_train_sm, y_train_sm)\n",
    "sv_preds = sv_clf.predict(X_test)\n",
    "sv_m1 = roc_auc_score(y_test, sv_preds)\n",
    "sv_m1_f1 = f1_score(y_test, sv_preds)\n",
    "sv_m1_kappa = cohen_kappa_score(y_test, sv_preds)\n",
    "print(sv_m1)\n",
    "print(sv_m1_f1)\n",
    "print(sv_m1_kappa)\n",
    "confusion_matrix = metrics.confusion_matrix(y_test, sv_preds)\n",
    "confusion_matrix"
   ]
  },
  {
   "cell_type": "markdown",
   "id": "af782fdb",
   "metadata": {},
   "source": [
    "# Adasyn"
   ]
  },
  {
   "cell_type": "code",
   "execution_count": 84,
   "id": "515d491d",
   "metadata": {},
   "outputs": [],
   "source": [
    "f_data = n_data.drop(drugs, axis = 1)\n",
    "for i in range(f_data.shape[0]):\n",
    "    if f_data['Ethnicity'][i] == 'White':\n",
    "        f_data['Ethnicity'][i] = 1\n",
    "    elif f_data['Ethnicity'][i] == 'Other':\n",
    "        f_data['Ethnicity'][i] = 2\n",
    "    elif f_data['Ethnicity'][i] == 'Black':\n",
    "        f_data['Ethnicity'][i] = 3\n",
    "    elif f_data['Ethnicity'][i] == 'Asian':\n",
    "        f_data['Ethnicity'][i] = 4\n",
    "    else:\n",
    "        f_data['Ethnicity'][i] = 5\n",
    "f_data['Ethnicity'] = f_data['Ethnicity'].astype('int')\n",
    "f_df = pd.get_dummies(f_data, prefix = ['Age', 'Gender', 'Education', 'Country'])\n",
    "f_df['Ethnicity'] = f_df['Ethnicity'].astype('category')\n",
    "f_df_target = f_df['target']\n",
    "f_df_predi = f_df.drop('target', axis = 1)\n",
    "X_train, X_test, y_train, y_test = train_test_split(f_df_predi, f_df_target, test_size = 0.3, random_state = 121)\n",
    "from sklearn.preprocessing import LabelEncoder\n",
    "X_train['target'] = y_train\n",
    "X_train_target = X_train['Ethnicity']\n",
    "X_train_target = X_train_target.astype('object')\n",
    "X_train_target = LabelEncoder().fit_transform(X_train_target)\n",
    "X_train_predi = X_train.drop('Ethnicity', axis = 1)"
   ]
  },
  {
   "cell_type": "code",
   "execution_count": 85,
   "id": "1a1a1b84",
   "metadata": {},
   "outputs": [],
   "source": [
    "ada = ADASYN(random_state = 121)\n",
    "X_train_ada, y_train_ada = ada.fit_resample(X_train_predi, X_train_target)\n",
    "X_train_ada['Ethnicity'] = y_train_ada\n",
    "y_train_ada = X_train_ada['target']\n",
    "X_train_ada = X_train_ada.drop('target', axis = 1)"
   ]
  },
  {
   "cell_type": "code",
   "execution_count": 86,
   "id": "962c3d96",
   "metadata": {},
   "outputs": [
    {
     "name": "stdout",
     "output_type": "stream",
     "text": [
      "0.4937604674297659\n",
      "0.6020671834625323\n",
      "-0.011500121847910716\n"
     ]
    },
    {
     "data": {
      "text/plain": [
       "array([[ 25, 284],\n",
       "       [ 24, 233]])"
      ]
     },
     "execution_count": 86,
     "metadata": {},
     "output_type": "execute_result"
    }
   ],
   "source": [
    "lr_clf = LogisticRegression()\n",
    "lr_clf.fit(X_train_ada, y_train_ada)\n",
    "lr_preds = lr_clf.predict(X_test)\n",
    "\n",
    "lr_m2 = roc_auc_score(y_test, lr_preds)\n",
    "lr_m2_f1 = f1_score(y_test, lr_preds)\n",
    "lr_m2_kappa = cohen_kappa_score(y_test, lr_preds)\n",
    "print(lr_m2)\n",
    "print(lr_m2_f1)\n",
    "print(lr_m2_kappa)\n",
    "confusion_matrix = metrics.confusion_matrix(y_test, lr_preds)\n",
    "confusion_matrix"
   ]
  },
  {
   "cell_type": "code",
   "execution_count": 87,
   "id": "9034560e",
   "metadata": {},
   "outputs": [
    {
     "name": "stdout",
     "output_type": "stream",
     "text": [
      "0.5547706294939116\n",
      "0.5457166962587989\n",
      "0.5482981375845264\n",
      "0.5612431214032967\n",
      "Next\n",
      "0.5547706294939116\n",
      "0.5457166962587989\n",
      "0.5482981375845264\n",
      "0.565770088020853\n",
      "Next\n",
      "0.565770088020853\n",
      "0.599686028257457\n",
      "0.12644805171224183\n"
     ]
    },
    {
     "data": {
      "text/plain": [
       "array([[120, 189],\n",
       "       [ 66, 191]])"
      ]
     },
     "execution_count": 87,
     "metadata": {},
     "output_type": "execute_result"
    }
   ],
   "source": [
    "max_depths = [6, 8, 10, 12]\n",
    "\n",
    "for depth in max_depths:\n",
    "    dt_clf = DecisionTreeClassifier(max_depth = depth, min_samples_split = 16, random_state = 121)\n",
    "    dt_clf.fit(X_train_ada, y_train_ada)\n",
    "    dt_preds = dt_clf.predict(X_test)\n",
    "    dt = roc_auc_score(y_test, dt_preds)\n",
    "    print(dt)\n",
    "print(\"Next\")\n",
    "for depth in max_depths:\n",
    "    dt_clf = DecisionTreeClassifier(max_depth = depth, min_samples_split = 24, random_state = 121)\n",
    "    dt_clf.fit(X_train_ada, y_train_ada)\n",
    "    dt_preds = dt_clf.predict(X_test)\n",
    "    dt = roc_auc_score(y_test, dt_preds)\n",
    "    print(dt)\n",
    "print(\"Next\")\n",
    "dt_clf = DecisionTreeClassifier(max_depth = 12, min_samples_split = 24, random_state = 121)\n",
    "dt_clf.fit(X_train_ada, y_train_ada)\n",
    "dt_preds = dt_clf.predict(X_test)\n",
    "dt_m2 = roc_auc_score(y_test, dt_preds)\n",
    "dt_m2_f1 = f1_score(y_test, dt_preds)\n",
    "dt_m2_kappa = cohen_kappa_score(y_test, dt_preds)\n",
    "\n",
    "print(dt_m2)\n",
    "print(dt_m2_f1)\n",
    "print(dt_m2_kappa)\n",
    "confusion_matrix = metrics.confusion_matrix(y_test, dt_preds)\n",
    "confusion_matrix"
   ]
  },
  {
   "cell_type": "code",
   "execution_count": 88,
   "id": "c2a24ad3",
   "metadata": {},
   "outputs": [
    {
     "name": "stdout",
     "output_type": "stream",
     "text": [
      "0.42790852883029223\n",
      "0.42669336254769363\n",
      "0.4315288428846663\n",
      "0.4137294901338572\n",
      "Next\n",
      "0.42790852883029223\n",
      "0.42669336254769363\n",
      "0.4315288428846663\n",
      "0.4137294901338572\n",
      "Next\n",
      "0.4337262161107123\n",
      "0.41962273179454246\n",
      "0.4179479430319972\n",
      "0.4286388878395224\n",
      "Next\n",
      "0.4337262161107123\n",
      "0.41962273179454246\n",
      "0.4179479430319972\n",
      "0.4286388878395224\n",
      "Next\n",
      "0.4337262161107123\n",
      "0.3946869070208729\n",
      "-0.1319858058206167\n"
     ]
    },
    {
     "data": {
      "text/plain": [
       "array([[143, 166],\n",
       "       [153, 104]])"
      ]
     },
     "execution_count": 88,
     "metadata": {},
     "output_type": "execute_result"
    }
   ],
   "source": [
    "max_depths = [6, 8, 10, 12]\n",
    "\n",
    "for depth in max_depths:\n",
    "    rf_clf = RandomForestClassifier(n_estimators = 100, max_depth= depth, min_samples_leaf = 16, min_samples_split = 16, random_state = 121)\n",
    "    rf_clf.fit(X_train_ada, y_train_ada)\n",
    "    rf_preds = rf_clf.predict(X_test)\n",
    "    rf = roc_auc_score(y_test, rf_preds)\n",
    "    print(rf)\n",
    "print(\"Next\")\n",
    "for depth in max_depths:\n",
    "    rf_clf = RandomForestClassifier(n_estimators = 100, max_depth= depth, min_samples_leaf = 16, min_samples_split = 24, random_state = 121)\n",
    "    rf_clf.fit(X_train_ada, y_train_ada)\n",
    "    rf_preds = rf_clf.predict(X_test)\n",
    "    rf = roc_auc_score(y_test, rf_preds)\n",
    "    print(rf)\n",
    "print(\"Next\")\n",
    "for depth in max_depths:\n",
    "    rf_clf = RandomForestClassifier(n_estimators = 100, max_depth= depth, min_samples_leaf = 24, min_samples_split = 16, random_state = 121)\n",
    "    rf_clf.fit(X_train_ada, y_train_ada)\n",
    "    rf_preds = rf_clf.predict(X_test)\n",
    "    rf = roc_auc_score(y_test, rf_preds)\n",
    "    print(rf)\n",
    "print(\"Next\")\n",
    "for depth in max_depths:\n",
    "    rf_clf = RandomForestClassifier(n_estimators = 100, max_depth= depth, min_samples_leaf = 24, min_samples_split = 24, random_state = 121)\n",
    "    rf_clf.fit(X_train_ada, y_train_ada)\n",
    "    rf_preds = rf_clf.predict(X_test)\n",
    "    rf = roc_auc_score(y_test, rf_preds)\n",
    "    print(rf)\n",
    "print(\"Next\")\n",
    "\n",
    "\n",
    "rf_clf = RandomForestClassifier(n_estimators = 100, max_depth= 6, min_samples_leaf = 24, min_samples_split = 16, random_state = 121)\n",
    "rf_clf.fit(X_train_ada, y_train_ada)\n",
    "rf_preds = rf_clf.predict(X_test)\n",
    "rf_m2 = roc_auc_score(y_test, rf_preds)\n",
    "rf_m2_f1 = f1_score(y_test, rf_preds)\n",
    "rf_m2_kappa = cohen_kappa_score(y_test, rf_preds)\n",
    "\n",
    "print(rf_m2)\n",
    "print(rf_m2_f1)\n",
    "print(rf_m2_kappa)\n",
    "confusion_matrix = metrics.confusion_matrix(y_test, rf_preds)\n",
    "confusion_matrix"
   ]
  },
  {
   "cell_type": "code",
   "execution_count": 89,
   "id": "774721f7",
   "metadata": {},
   "outputs": [
    {
     "name": "stdout",
     "output_type": "stream",
     "text": [
      "0.41318801707528996\n",
      "0.4333547404077418\n",
      "Next\n",
      "0.4342802815659904\n",
      "0.44238978504778814\n",
      "Next\n",
      "0.44238978504778814\n",
      "0.5097451274362819\n",
      "-0.10972407094290748\n"
     ]
    },
    {
     "data": {
      "text/plain": [
       "array([[ 69, 240],\n",
       "       [ 87, 170]])"
      ]
     },
     "execution_count": 89,
     "metadata": {},
     "output_type": "execute_result"
    }
   ],
   "source": [
    "n_estim = [100, 500]\n",
    "\n",
    "for n in n_estim:\n",
    "    gb_clf = GradientBoostingClassifier(n_estimators = n, learning_rate = 0.05, random_state = 121)\n",
    "    gb_clf.fit(X_train_ada, y_train_ada)\n",
    "    gb_preds = gb_clf.predict(X_test)\n",
    "    gb = roc_auc_score(y_test, gb_preds)\n",
    "    print(gb)\n",
    "print(\"Next\")\n",
    "for n in n_estim:\n",
    "    gb_clf = GradientBoostingClassifier(n_estimators = n, learning_rate = 0.1, random_state = 121)\n",
    "    gb_clf.fit(X_train_ada, y_train_ada)\n",
    "    gb_preds = gb_clf.predict(X_test)\n",
    "    gb = roc_auc_score(y_test, gb_preds)\n",
    "    print(gb)\n",
    "print(\"Next\")\n",
    "\n",
    "gb_clf = GradientBoostingClassifier(n_estimators = 500, learning_rate = 0.1, random_state = 121)\n",
    "gb_clf.fit(X_train_ada, y_train_ada)\n",
    "gb_preds = gb_clf.predict(X_test)\n",
    "gb_m2 = roc_auc_score(y_test, gb_preds)\n",
    "gb_m2_f1 = f1_score(y_test, gb_preds)\n",
    "gb_m2_kappa = cohen_kappa_score(y_test, gb_preds)\n",
    "print(gb_m2)\n",
    "print(gb_m2_f1)\n",
    "print(gb_m2_kappa)\n",
    "confusion_matrix = metrics.confusion_matrix(y_test, gb_preds)\n",
    "confusion_matrix"
   ]
  },
  {
   "cell_type": "code",
   "execution_count": 90,
   "id": "6bf2f6aa",
   "metadata": {},
   "outputs": [
    {
     "name": "stdout",
     "output_type": "stream",
     "text": [
      "0.5\n",
      "0.48094140757810433\n",
      "0.44148942868296126\n",
      "Next\n",
      "0.5003274023144826\n",
      "0.4367295027262539\n",
      "0.45144371828290075\n",
      "Next\n",
      "0.4954730333824437\n",
      "0.4600191404430005\n",
      "0.44888116555223956\n",
      "Next\n",
      "0.5003274023144826\n",
      "0.007722007722007722\n",
      "0.0007144525507331023\n"
     ]
    },
    {
     "data": {
      "text/plain": [
       "array([[308,   1],\n",
       "       [256,   1]])"
      ]
     },
     "execution_count": 90,
     "metadata": {},
     "output_type": "execute_result"
    }
   ],
   "source": [
    "from sklearn import svm\n",
    "\n",
    "gamma = [1, 0.1, 0.01]\n",
    "for gam in gamma:\n",
    "    sv_clf = svm.SVC(gamma = gam, C = 0.1, kernel = 'rbf', random_state = 121)\n",
    "    sv_clf.fit(X_train_ada, y_train_ada)\n",
    "    sv_preds = sv_clf.predict(X_test)\n",
    "    sv = roc_auc_score(y_test, sv_preds)\n",
    "    print(sv)\n",
    "print(\"Next\")\n",
    "for gam in gamma:\n",
    "    sv_clf = svm.SVC(gamma = gam, C = 1, kernel = 'rbf', random_state = 121)\n",
    "    sv_clf.fit(X_train_ada, y_train_ada)\n",
    "    sv_preds = sv_clf.predict(X_test)\n",
    "    sv = roc_auc_score(y_test, sv_preds)\n",
    "    print(sv)\n",
    "print(\"Next\")\n",
    "for gam in gamma:\n",
    "    sv_clf = svm.SVC(gamma = gam, C = 10, kernel = 'rbf', random_state = 121)\n",
    "    sv_clf.fit(X_train_ada, y_train_ada)\n",
    "    sv_preds = sv_clf.predict(X_test)\n",
    "    sv = roc_auc_score(y_test, sv_preds)\n",
    "    print(sv)\n",
    "print(\"Next\")\n",
    "\n",
    "sv_clf = svm.SVC(gamma = 1, C = 1, kernel = 'rbf', random_state = 121)\n",
    "sv_clf.fit(X_train_ada, y_train_ada)\n",
    "sv_preds = sv_clf.predict(X_test)\n",
    "sv_m2 = roc_auc_score(y_test, sv_preds)\n",
    "sv_m2_f1 = f1_score(y_test, sv_preds)\n",
    "sv_m2_kappa = cohen_kappa_score(y_test, sv_preds)\n",
    "print(sv_m2)\n",
    "print(sv_m2_f1)\n",
    "print(sv_m2_kappa)\n",
    "confusion_matrix = metrics.confusion_matrix(y_test, sv_preds)\n",
    "confusion_matrix"
   ]
  },
  {
   "cell_type": "markdown",
   "id": "203738f3",
   "metadata": {},
   "source": [
    "# Cannot use for multilabel situation"
   ]
  },
  {
   "cell_type": "code",
   "execution_count": 91,
   "id": "1c645d8a",
   "metadata": {},
   "outputs": [
    {
     "data": {
      "text/html": [
       "<div>\n",
       "<style scoped>\n",
       "    .dataframe tbody tr th:only-of-type {\n",
       "        vertical-align: middle;\n",
       "    }\n",
       "\n",
       "    .dataframe tbody tr th {\n",
       "        vertical-align: top;\n",
       "    }\n",
       "\n",
       "    .dataframe thead th {\n",
       "        text-align: right;\n",
       "    }\n",
       "</style>\n",
       "<table border=\"1\" class=\"dataframe\">\n",
       "  <thead>\n",
       "    <tr style=\"text-align: right;\">\n",
       "      <th></th>\n",
       "      <th>rc_ac</th>\n",
       "      <th>algo</th>\n",
       "    </tr>\n",
       "  </thead>\n",
       "  <tbody>\n",
       "    <tr>\n",
       "      <th>none</th>\n",
       "      <td>0.661416</td>\n",
       "      <td>logi</td>\n",
       "    </tr>\n",
       "    <tr>\n",
       "      <th>none</th>\n",
       "      <td>0.629362</td>\n",
       "      <td>dt</td>\n",
       "    </tr>\n",
       "    <tr>\n",
       "      <th>none</th>\n",
       "      <td>0.687690</td>\n",
       "      <td>rf</td>\n",
       "    </tr>\n",
       "    <tr>\n",
       "      <th>none</th>\n",
       "      <td>0.688962</td>\n",
       "      <td>gb</td>\n",
       "    </tr>\n",
       "    <tr>\n",
       "      <th>none</th>\n",
       "      <td>0.679889</td>\n",
       "      <td>svm</td>\n",
       "    </tr>\n",
       "    <tr>\n",
       "      <th>Smote</th>\n",
       "      <td>0.494743</td>\n",
       "      <td>logi</td>\n",
       "    </tr>\n",
       "    <tr>\n",
       "      <th>Smote</th>\n",
       "      <td>0.453257</td>\n",
       "      <td>dt</td>\n",
       "    </tr>\n",
       "    <tr>\n",
       "      <th>Smote</th>\n",
       "      <td>0.450329</td>\n",
       "      <td>rf</td>\n",
       "    </tr>\n",
       "    <tr>\n",
       "      <th>Smote</th>\n",
       "      <td>0.435590</td>\n",
       "      <td>gb</td>\n",
       "    </tr>\n",
       "    <tr>\n",
       "      <th>Smote</th>\n",
       "      <td>0.500000</td>\n",
       "      <td>svm</td>\n",
       "    </tr>\n",
       "    <tr>\n",
       "      <th>Adasyn</th>\n",
       "      <td>0.493760</td>\n",
       "      <td>logi</td>\n",
       "    </tr>\n",
       "    <tr>\n",
       "      <th>Adasyn</th>\n",
       "      <td>0.565770</td>\n",
       "      <td>dt</td>\n",
       "    </tr>\n",
       "    <tr>\n",
       "      <th>Adasyn</th>\n",
       "      <td>0.433726</td>\n",
       "      <td>rf</td>\n",
       "    </tr>\n",
       "    <tr>\n",
       "      <th>Adasyn</th>\n",
       "      <td>0.442390</td>\n",
       "      <td>gb</td>\n",
       "    </tr>\n",
       "    <tr>\n",
       "      <th>Adasyn</th>\n",
       "      <td>0.500327</td>\n",
       "      <td>svm</td>\n",
       "    </tr>\n",
       "  </tbody>\n",
       "</table>\n",
       "</div>"
      ],
      "text/plain": [
       "           rc_ac  algo\n",
       "none    0.661416  logi\n",
       "none    0.629362    dt\n",
       "none    0.687690    rf\n",
       "none    0.688962    gb\n",
       "none    0.679889   svm\n",
       "Smote   0.494743  logi\n",
       "Smote   0.453257    dt\n",
       "Smote   0.450329    rf\n",
       "Smote   0.435590    gb\n",
       "Smote   0.500000   svm\n",
       "Adasyn  0.493760  logi\n",
       "Adasyn  0.565770    dt\n",
       "Adasyn  0.433726    rf\n",
       "Adasyn  0.442390    gb\n",
       "Adasyn  0.500327   svm"
      ]
     },
     "execution_count": 91,
     "metadata": {},
     "output_type": "execute_result"
    }
   ],
   "source": [
    "method = ['none', 'none', 'none', 'none', 'none', 'Smote', 'Smote', 'Smote', 'Smote', 'Smote', 'Adasyn', 'Adasyn',\n",
    "                              'Adasyn', 'Adasyn', 'Adasyn']\n",
    "dat3 = pd.DataFrame({'rc_ac' : [lr_m, dt_m, rf_m, gb_m, sv_m, lr_m1, dt_m1, rf_m1, gb_m1, sv_m1, lr_m2, dt_m2, rf_m2, gb_m2, sv_m2],\n",
    "                   'algo' : ['logi', 'dt', 'rf', 'gb', 'svm', 'logi', 'dt', 'rf', 'gb', 'svm', 'logi', 'dt', 'rf', 'gb',\n",
    "                            'svm']}, index = method)\n",
    "dat3"
   ]
  },
  {
   "cell_type": "markdown",
   "id": "edffd374",
   "metadata": {},
   "source": [
    "# Multi"
   ]
  },
  {
   "cell_type": "code",
   "execution_count": 92,
   "id": "63a4889d",
   "metadata": {},
   "outputs": [
    {
     "data": {
      "text/plain": [
       "<matplotlib.legend.Legend at 0x7fed71a07e50>"
      ]
     },
     "execution_count": 92,
     "metadata": {},
     "output_type": "execute_result"
    },
    {
     "data": {
      "image/png": "[encoded data removed]",
      "text/plain": [
       "<Figure size 432x288 with 1 Axes>"
      ]
     },
     "metadata": {
      "needs_background": "light"
     },
     "output_type": "display_data"
    }
   ],
   "source": [
    "dat_bar3 = pd.DataFrame({'rc_ac' : [lr_m, dt_m, rf_m, gb_m, sv_m, lr_m1, dt_m1, rf_m1, gb_m1,sv_m1, lr_m2, dt_m2, rf_m2, gb_m2, sv_m2],\n",
    "                   'algo' : ['logi', 'dt', 'rf', 'gb', 'sv', 'logi', 'dt', 'rf', 'gb', 'sv', 'logi', 'dt', 'rf', 'gb', 'sv'],\n",
    "                       'method' : method})\n",
    "n_d3 = dat_bar3.pivot(index='method', columns='algo', values='rc_ac')\n",
    "n_d3.plot(kind = \"bar\", rot = 0, title = \"Muiti Label Class\")\n",
    "plt.legend(loc='lower center')\n"
   ]
  },
  {
   "cell_type": "code",
   "execution_count": 93,
   "id": "eb3d7c82",
   "metadata": {},
   "outputs": [
    {
     "data": {
      "text/html": [
       "<div>\n",
       "<style scoped>\n",
       "    .dataframe tbody tr th:only-of-type {\n",
       "        vertical-align: middle;\n",
       "    }\n",
       "\n",
       "    .dataframe tbody tr th {\n",
       "        vertical-align: top;\n",
       "    }\n",
       "\n",
       "    .dataframe thead th {\n",
       "        text-align: right;\n",
       "    }\n",
       "</style>\n",
       "<table border=\"1\" class=\"dataframe\">\n",
       "  <thead>\n",
       "    <tr style=\"text-align: right;\">\n",
       "      <th></th>\n",
       "      <th>f1</th>\n",
       "      <th>algo</th>\n",
       "    </tr>\n",
       "  </thead>\n",
       "  <tbody>\n",
       "    <tr>\n",
       "      <th>none</th>\n",
       "      <td>0.617886</td>\n",
       "      <td>logi</td>\n",
       "    </tr>\n",
       "    <tr>\n",
       "      <th>none</th>\n",
       "      <td>0.588469</td>\n",
       "      <td>dt</td>\n",
       "    </tr>\n",
       "    <tr>\n",
       "      <th>none</th>\n",
       "      <td>0.657534</td>\n",
       "      <td>rf</td>\n",
       "    </tr>\n",
       "    <tr>\n",
       "      <th>none</th>\n",
       "      <td>0.651911</td>\n",
       "      <td>gb</td>\n",
       "    </tr>\n",
       "    <tr>\n",
       "      <th>none</th>\n",
       "      <td>0.641129</td>\n",
       "      <td>svm</td>\n",
       "    </tr>\n",
       "    <tr>\n",
       "      <th>Smote</th>\n",
       "      <td>0.605128</td>\n",
       "      <td>logi</td>\n",
       "    </tr>\n",
       "    <tr>\n",
       "      <th>Smote</th>\n",
       "      <td>0.461274</td>\n",
       "      <td>dt</td>\n",
       "    </tr>\n",
       "    <tr>\n",
       "      <th>Smote</th>\n",
       "      <td>0.452962</td>\n",
       "      <td>rf</td>\n",
       "    </tr>\n",
       "    <tr>\n",
       "      <th>Smote</th>\n",
       "      <td>0.505232</td>\n",
       "      <td>gb</td>\n",
       "    </tr>\n",
       "    <tr>\n",
       "      <th>Smote</th>\n",
       "      <td>0.000000</td>\n",
       "      <td>svm</td>\n",
       "    </tr>\n",
       "    <tr>\n",
       "      <th>Adasyn</th>\n",
       "      <td>0.602067</td>\n",
       "      <td>logi</td>\n",
       "    </tr>\n",
       "    <tr>\n",
       "      <th>Adasyn</th>\n",
       "      <td>0.599686</td>\n",
       "      <td>dt</td>\n",
       "    </tr>\n",
       "    <tr>\n",
       "      <th>Adasyn</th>\n",
       "      <td>0.394687</td>\n",
       "      <td>rf</td>\n",
       "    </tr>\n",
       "    <tr>\n",
       "      <th>Adasyn</th>\n",
       "      <td>0.509745</td>\n",
       "      <td>gb</td>\n",
       "    </tr>\n",
       "    <tr>\n",
       "      <th>Adasyn</th>\n",
       "      <td>0.007722</td>\n",
       "      <td>svm</td>\n",
       "    </tr>\n",
       "  </tbody>\n",
       "</table>\n",
       "</div>"
      ],
      "text/plain": [
       "              f1  algo\n",
       "none    0.617886  logi\n",
       "none    0.588469    dt\n",
       "none    0.657534    rf\n",
       "none    0.651911    gb\n",
       "none    0.641129   svm\n",
       "Smote   0.605128  logi\n",
       "Smote   0.461274    dt\n",
       "Smote   0.452962    rf\n",
       "Smote   0.505232    gb\n",
       "Smote   0.000000   svm\n",
       "Adasyn  0.602067  logi\n",
       "Adasyn  0.599686    dt\n",
       "Adasyn  0.394687    rf\n",
       "Adasyn  0.509745    gb\n",
       "Adasyn  0.007722   svm"
      ]
     },
     "execution_count": 93,
     "metadata": {},
     "output_type": "execute_result"
    }
   ],
   "source": [
    "method = ['none', 'none', 'none', 'none', 'none', 'Smote', 'Smote', 'Smote', 'Smote', 'Smote', 'Adasyn', 'Adasyn',\n",
    "                              'Adasyn', 'Adasyn', 'Adasyn']\n",
    "dat4 = pd.DataFrame({'f1' : [lr_m_f1, dt_m_f1, rf_m_f1, gb_m_f1, sv_m_f1, lr_m1_f1, dt_m1_f1, rf_m1_f1, gb_m1_f1, sv_m1_f1, lr_m2_f1, dt_m2_f1, rf_m2_f1, gb_m2_f1, sv_m2_f1],\n",
    "                   'algo' : ['logi', 'dt', 'rf', 'gb', 'svm', 'logi', 'dt', 'rf', 'gb', 'svm', 'logi', 'dt', 'rf', 'gb',\n",
    "                            'svm']}, index = method)\n",
    "dat4"
   ]
  },
  {
   "cell_type": "code",
   "execution_count": 94,
   "id": "1a7c8384",
   "metadata": {},
   "outputs": [
    {
     "data": {
      "text/plain": [
       "<matplotlib.legend.Legend at 0x7fed80c13040>"
      ]
     },
     "execution_count": 94,
     "metadata": {},
     "output_type": "execute_result"
    },
    {
     "data": {
      "image/png": "[encoded data removed]",
      "text/plain": [
       "<Figure size 432x288 with 1 Axes>"
      ]
     },
     "metadata": {
      "needs_background": "light"
     },
     "output_type": "display_data"
    }
   ],
   "source": [
    "dat_bar4 = pd.DataFrame({'f1' : [lr_m_f1, dt_m_f1, rf_m_f1, gb_m_f1, sv_m_f1, lr_m1_f1, dt_m1_f1, rf_m1_f1, gb_m1_f1, sv_m1_f1, lr_m2_f1, dt_m2_f1, rf_m2_f1, gb_m2_f1, sv_m2_f1],\n",
    "                   'algo' : ['logi', 'dt', 'rf', 'gb', 'sv', 'logi', 'dt', 'rf', 'gb', 'sv', 'logi', 'dt', 'rf', 'gb', 'sv'],\n",
    "                       'method' : method})\n",
    "n_d4 = dat_bar4.pivot(index='method', columns='algo', values='f1')\n",
    "n_d4.plot(kind = \"bar\", rot = 0, title = \"Muiti Label Class\")\n",
    "plt.legend(loc='lower center')\n"
   ]
  },
  {
   "cell_type": "code",
   "execution_count": 95,
   "id": "1f99b326",
   "metadata": {},
   "outputs": [
    {
     "data": {
      "text/html": [
       "<div>\n",
       "<style scoped>\n",
       "    .dataframe tbody tr th:only-of-type {\n",
       "        vertical-align: middle;\n",
       "    }\n",
       "\n",
       "    .dataframe tbody tr th {\n",
       "        vertical-align: top;\n",
       "    }\n",
       "\n",
       "    .dataframe thead th {\n",
       "        text-align: right;\n",
       "    }\n",
       "</style>\n",
       "<table border=\"1\" class=\"dataframe\">\n",
       "  <thead>\n",
       "    <tr style=\"text-align: right;\">\n",
       "      <th></th>\n",
       "      <th>kappa</th>\n",
       "      <th>algo</th>\n",
       "    </tr>\n",
       "  </thead>\n",
       "  <tbody>\n",
       "    <tr>\n",
       "      <th>none</th>\n",
       "      <td>0.325173</td>\n",
       "      <td>logi</td>\n",
       "    </tr>\n",
       "    <tr>\n",
       "      <th>none</th>\n",
       "      <td>0.259659</td>\n",
       "      <td>dt</td>\n",
       "    </tr>\n",
       "    <tr>\n",
       "      <th>none</th>\n",
       "      <td>0.375748</td>\n",
       "      <td>rf</td>\n",
       "    </tr>\n",
       "    <tr>\n",
       "      <th>none</th>\n",
       "      <td>0.380038</td>\n",
       "      <td>gb</td>\n",
       "    </tr>\n",
       "    <tr>\n",
       "      <th>none</th>\n",
       "      <td>0.361910</td>\n",
       "      <td>svm</td>\n",
       "    </tr>\n",
       "    <tr>\n",
       "      <th>Smote</th>\n",
       "      <td>-0.009672</td>\n",
       "      <td>logi</td>\n",
       "    </tr>\n",
       "    <tr>\n",
       "      <th>Smote</th>\n",
       "      <td>-0.091479</td>\n",
       "      <td>dt</td>\n",
       "    </tr>\n",
       "    <tr>\n",
       "      <th>Smote</th>\n",
       "      <td>-0.097428</td>\n",
       "      <td>rf</td>\n",
       "    </tr>\n",
       "    <tr>\n",
       "      <th>Smote</th>\n",
       "      <td>-0.122599</td>\n",
       "      <td>gb</td>\n",
       "    </tr>\n",
       "    <tr>\n",
       "      <th>Smote</th>\n",
       "      <td>0.000000</td>\n",
       "      <td>svm</td>\n",
       "    </tr>\n",
       "    <tr>\n",
       "      <th>Adasyn</th>\n",
       "      <td>-0.011500</td>\n",
       "      <td>logi</td>\n",
       "    </tr>\n",
       "    <tr>\n",
       "      <th>Adasyn</th>\n",
       "      <td>0.126448</td>\n",
       "      <td>dt</td>\n",
       "    </tr>\n",
       "    <tr>\n",
       "      <th>Adasyn</th>\n",
       "      <td>-0.131986</td>\n",
       "      <td>rf</td>\n",
       "    </tr>\n",
       "    <tr>\n",
       "      <th>Adasyn</th>\n",
       "      <td>-0.109724</td>\n",
       "      <td>gb</td>\n",
       "    </tr>\n",
       "    <tr>\n",
       "      <th>Adasyn</th>\n",
       "      <td>0.000714</td>\n",
       "      <td>svm</td>\n",
       "    </tr>\n",
       "  </tbody>\n",
       "</table>\n",
       "</div>"
      ],
      "text/plain": [
       "           kappa  algo\n",
       "none    0.325173  logi\n",
       "none    0.259659    dt\n",
       "none    0.375748    rf\n",
       "none    0.380038    gb\n",
       "none    0.361910   svm\n",
       "Smote  -0.009672  logi\n",
       "Smote  -0.091479    dt\n",
       "Smote  -0.097428    rf\n",
       "Smote  -0.122599    gb\n",
       "Smote   0.000000   svm\n",
       "Adasyn -0.011500  logi\n",
       "Adasyn  0.126448    dt\n",
       "Adasyn -0.131986    rf\n",
       "Adasyn -0.109724    gb\n",
       "Adasyn  0.000714   svm"
      ]
     },
     "execution_count": 95,
     "metadata": {},
     "output_type": "execute_result"
    }
   ],
   "source": [
    "method = ['none', 'none', 'none', 'none', 'none', 'Smote', 'Smote', 'Smote', 'Smote', 'Smote', 'Adasyn', 'Adasyn',\n",
    "                              'Adasyn', 'Adasyn', 'Adasyn']\n",
    "dat5 = pd.DataFrame({'kappa' : [lr_m_kappa, dt_m_kappa, rf_m_kappa, gb_m_kappa, sv_m_kappa, lr_m1_kappa, dt_m1_kappa, rf_m1_kappa, gb_m1_kappa, sv_m1_kappa, lr_m2_kappa, dt_m2_kappa, rf_m2_kappa, gb_m2_kappa, sv_m2_kappa],\n",
    "                   'algo' : ['logi', 'dt', 'rf', 'gb', 'svm', 'logi', 'dt', 'rf', 'gb', 'svm', 'logi', 'dt', 'rf', 'gb',\n",
    "                            'svm']}, index = method)\n",
    "dat5"
   ]
  },
  {
   "cell_type": "code",
   "execution_count": 96,
   "id": "fd954944",
   "metadata": {},
   "outputs": [
    {
     "data": {
      "text/plain": [
       "<AxesSubplot:title={'center':'Muiti Label Class'}, xlabel='method'>"
      ]
     },
     "execution_count": 96,
     "metadata": {},
     "output_type": "execute_result"
    },
    {
     "data": {
      "image/png": "[encoded data removed]",
      "text/plain": [
       "<Figure size 432x288 with 1 Axes>"
      ]
     },
     "metadata": {
      "needs_background": "light"
     },
     "output_type": "display_data"
    }
   ],
   "source": [
    "dat_bar5 = pd.DataFrame({'kappa' : [lr_m_kappa, dt_m_kappa, rf_m_kappa, gb_m_kappa, sv_m_kappa, lr_m1_kappa, dt_m1_kappa, rf_m1_kappa, gb_m1_kappa, sv_m1_kappa, lr_m2_kappa, dt_m2_kappa, rf_m2_kappa, gb_m2_kappa, sv_m2_kappa],\n",
    "                   'algo' : ['logi', 'dt', 'rf', 'gb', 'sv', 'logi', 'dt', 'rf', 'gb', 'sv', 'logi', 'dt', 'rf', 'gb', 'sv'],\n",
    "                       'method' : method})\n",
    "n_d5 = dat_bar5.pivot(index='method', columns='algo', values='kappa')\n",
    "n_d5.plot(kind = \"bar\", rot = 0, title = \"Muiti Label Class\")"
   ]
  },
  {
   "cell_type": "markdown",
   "id": "2b08f6c4",
   "metadata": {},
   "source": [
    "# Single"
   ]
  },
  {
   "cell_type": "code",
   "execution_count": null,
   "id": "9a514f09",
   "metadata": {},
   "outputs": [],
   "source": []
  },
  {
   "cell_type": "code",
   "execution_count": 97,
   "id": "942523c7",
   "metadata": {},
   "outputs": [
    {
     "data": {
      "text/plain": [
       "<AxesSubplot:title={'center':'Binary Label Class'}, xlabel='method'>"
      ]
     },
     "execution_count": 97,
     "metadata": {},
     "output_type": "execute_result"
    },
    {
     "data": {
      "image/png": "[encoded data removed]",
      "text/plain": [
       "<Figure size 432x288 with 1 Axes>"
      ]
     },
     "metadata": {
      "needs_background": "light"
     },
     "output_type": "display_data"
    }
   ],
   "source": [
    "n_d.plot(kind = \"bar\", rot = 0, title = \"Binary Label Class\")"
   ]
  },
  {
   "cell_type": "code",
   "execution_count": 98,
   "id": "f8e5ce88",
   "metadata": {},
   "outputs": [
    {
     "data": {
      "text/html": [
       "<div>\n",
       "<style scoped>\n",
       "    .dataframe tbody tr th:only-of-type {\n",
       "        vertical-align: middle;\n",
       "    }\n",
       "\n",
       "    .dataframe tbody tr th {\n",
       "        vertical-align: top;\n",
       "    }\n",
       "\n",
       "    .dataframe thead th {\n",
       "        text-align: right;\n",
       "    }\n",
       "</style>\n",
       "<table border=\"1\" class=\"dataframe\">\n",
       "  <thead>\n",
       "    <tr style=\"text-align: right;\">\n",
       "      <th></th>\n",
       "      <th>Age</th>\n",
       "      <th>Gender</th>\n",
       "      <th>Education</th>\n",
       "      <th>Country</th>\n",
       "      <th>Ethnicity</th>\n",
       "      <th>Nscore</th>\n",
       "      <th>Escore</th>\n",
       "      <th>Oscore</th>\n",
       "      <th>AScore</th>\n",
       "      <th>Cscore</th>\n",
       "      <th>Impulsive</th>\n",
       "      <th>SS</th>\n",
       "      <th>target</th>\n",
       "    </tr>\n",
       "  </thead>\n",
       "  <tbody>\n",
       "    <tr>\n",
       "      <th>0</th>\n",
       "      <td>25-34</td>\n",
       "      <td>M</td>\n",
       "      <td>Doctorate degree</td>\n",
       "      <td>UK</td>\n",
       "      <td>White</td>\n",
       "      <td>-0.67825</td>\n",
       "      <td>1.93886</td>\n",
       "      <td>1.43533</td>\n",
       "      <td>0.76096</td>\n",
       "      <td>-0.14277</td>\n",
       "      <td>-0.71126</td>\n",
       "      <td>-0.21575</td>\n",
       "      <td>1</td>\n",
       "    </tr>\n",
       "    <tr>\n",
       "      <th>1</th>\n",
       "      <td>35-44</td>\n",
       "      <td>M</td>\n",
       "      <td>Professional certificate/ diploma</td>\n",
       "      <td>UK</td>\n",
       "      <td>White</td>\n",
       "      <td>-0.46725</td>\n",
       "      <td>0.80523</td>\n",
       "      <td>-0.84732</td>\n",
       "      <td>-1.62090</td>\n",
       "      <td>-1.01450</td>\n",
       "      <td>-1.37983</td>\n",
       "      <td>0.40148</td>\n",
       "      <td>0</td>\n",
       "    </tr>\n",
       "    <tr>\n",
       "      <th>2</th>\n",
       "      <td>18-24</td>\n",
       "      <td>F</td>\n",
       "      <td>Masters degree</td>\n",
       "      <td>UK</td>\n",
       "      <td>White</td>\n",
       "      <td>-0.14882</td>\n",
       "      <td>-0.80615</td>\n",
       "      <td>-0.01928</td>\n",
       "      <td>0.59042</td>\n",
       "      <td>0.58489</td>\n",
       "      <td>-1.37983</td>\n",
       "      <td>-1.18084</td>\n",
       "      <td>1</td>\n",
       "    </tr>\n",
       "    <tr>\n",
       "      <th>3</th>\n",
       "      <td>35-44</td>\n",
       "      <td>F</td>\n",
       "      <td>Doctorate degree</td>\n",
       "      <td>UK</td>\n",
       "      <td>White</td>\n",
       "      <td>0.73545</td>\n",
       "      <td>-1.63340</td>\n",
       "      <td>-0.45174</td>\n",
       "      <td>-0.30172</td>\n",
       "      <td>1.30612</td>\n",
       "      <td>-0.21712</td>\n",
       "      <td>-0.21575</td>\n",
       "      <td>0</td>\n",
       "    </tr>\n",
       "    <tr>\n",
       "      <th>4</th>\n",
       "      <td>65+</td>\n",
       "      <td>F</td>\n",
       "      <td>Left school at 18 years</td>\n",
       "      <td>Canada</td>\n",
       "      <td>White</td>\n",
       "      <td>-0.67825</td>\n",
       "      <td>-0.30033</td>\n",
       "      <td>-1.55521</td>\n",
       "      <td>2.03972</td>\n",
       "      <td>1.63088</td>\n",
       "      <td>-1.37983</td>\n",
       "      <td>-1.54858</td>\n",
       "      <td>0</td>\n",
       "    </tr>\n",
       "    <tr>\n",
       "      <th>...</th>\n",
       "      <td>...</td>\n",
       "      <td>...</td>\n",
       "      <td>...</td>\n",
       "      <td>...</td>\n",
       "      <td>...</td>\n",
       "      <td>...</td>\n",
       "      <td>...</td>\n",
       "      <td>...</td>\n",
       "      <td>...</td>\n",
       "      <td>...</td>\n",
       "      <td>...</td>\n",
       "      <td>...</td>\n",
       "      <td>...</td>\n",
       "    </tr>\n",
       "    <tr>\n",
       "      <th>1879</th>\n",
       "      <td>18-24</td>\n",
       "      <td>F</td>\n",
       "      <td>Some college or university, no certificate or ...</td>\n",
       "      <td>USA</td>\n",
       "      <td>White</td>\n",
       "      <td>-1.19430</td>\n",
       "      <td>1.74091</td>\n",
       "      <td>1.88511</td>\n",
       "      <td>0.76096</td>\n",
       "      <td>-1.13788</td>\n",
       "      <td>0.88113</td>\n",
       "      <td>1.92173</td>\n",
       "      <td>0</td>\n",
       "    </tr>\n",
       "    <tr>\n",
       "      <th>1880</th>\n",
       "      <td>18-24</td>\n",
       "      <td>M</td>\n",
       "      <td>Some college or university, no certificate or ...</td>\n",
       "      <td>USA</td>\n",
       "      <td>White</td>\n",
       "      <td>-0.24649</td>\n",
       "      <td>1.74091</td>\n",
       "      <td>0.58331</td>\n",
       "      <td>0.76096</td>\n",
       "      <td>-1.51840</td>\n",
       "      <td>0.88113</td>\n",
       "      <td>0.76540</td>\n",
       "      <td>0</td>\n",
       "    </tr>\n",
       "    <tr>\n",
       "      <th>1881</th>\n",
       "      <td>25-34</td>\n",
       "      <td>F</td>\n",
       "      <td>University degree</td>\n",
       "      <td>USA</td>\n",
       "      <td>White</td>\n",
       "      <td>1.13281</td>\n",
       "      <td>-1.37639</td>\n",
       "      <td>-1.27553</td>\n",
       "      <td>-1.77200</td>\n",
       "      <td>-1.38502</td>\n",
       "      <td>0.52975</td>\n",
       "      <td>-0.52593</td>\n",
       "      <td>1</td>\n",
       "    </tr>\n",
       "    <tr>\n",
       "      <th>1882</th>\n",
       "      <td>18-24</td>\n",
       "      <td>F</td>\n",
       "      <td>Some college or university, no certificate or ...</td>\n",
       "      <td>USA</td>\n",
       "      <td>White</td>\n",
       "      <td>0.91093</td>\n",
       "      <td>-1.92173</td>\n",
       "      <td>0.29338</td>\n",
       "      <td>-1.62090</td>\n",
       "      <td>-2.57309</td>\n",
       "      <td>1.29221</td>\n",
       "      <td>1.22470</td>\n",
       "      <td>0</td>\n",
       "    </tr>\n",
       "    <tr>\n",
       "      <th>1883</th>\n",
       "      <td>18-24</td>\n",
       "      <td>M</td>\n",
       "      <td>Some college or university, no certificate or ...</td>\n",
       "      <td>Republic of Ireland</td>\n",
       "      <td>White</td>\n",
       "      <td>-0.46725</td>\n",
       "      <td>2.12700</td>\n",
       "      <td>1.65653</td>\n",
       "      <td>1.11406</td>\n",
       "      <td>0.41594</td>\n",
       "      <td>0.88113</td>\n",
       "      <td>1.22470</td>\n",
       "      <td>1</td>\n",
       "    </tr>\n",
       "  </tbody>\n",
       "</table>\n",
       "<p>1884 rows × 13 columns</p>\n",
       "</div>"
      ],
      "text/plain": [
       "        Age Gender                                          Education  \\\n",
       "0     25-34      M                                   Doctorate degree   \n",
       "1     35-44      M                  Professional certificate/ diploma   \n",
       "2     18-24      F                                     Masters degree   \n",
       "3     35-44      F                                   Doctorate degree   \n",
       "4       65+      F                            Left school at 18 years   \n",
       "...     ...    ...                                                ...   \n",
       "1879  18-24      F  Some college or university, no certificate or ...   \n",
       "1880  18-24      M  Some college or university, no certificate or ...   \n",
       "1881  25-34      F                                  University degree   \n",
       "1882  18-24      F  Some college or university, no certificate or ...   \n",
       "1883  18-24      M  Some college or university, no certificate or ...   \n",
       "\n",
       "                  Country Ethnicity   Nscore   Escore   Oscore   AScore  \\\n",
       "0                      UK     White -0.67825  1.93886  1.43533  0.76096   \n",
       "1                      UK     White -0.46725  0.80523 -0.84732 -1.62090   \n",
       "2                      UK     White -0.14882 -0.80615 -0.01928  0.59042   \n",
       "3                      UK     White  0.73545 -1.63340 -0.45174 -0.30172   \n",
       "4                  Canada     White -0.67825 -0.30033 -1.55521  2.03972   \n",
       "...                   ...       ...      ...      ...      ...      ...   \n",
       "1879                  USA     White -1.19430  1.74091  1.88511  0.76096   \n",
       "1880                  USA     White -0.24649  1.74091  0.58331  0.76096   \n",
       "1881                  USA     White  1.13281 -1.37639 -1.27553 -1.77200   \n",
       "1882                  USA     White  0.91093 -1.92173  0.29338 -1.62090   \n",
       "1883  Republic of Ireland     White -0.46725  2.12700  1.65653  1.11406   \n",
       "\n",
       "       Cscore  Impulsive       SS  target  \n",
       "0    -0.14277   -0.71126 -0.21575       1  \n",
       "1    -1.01450   -1.37983  0.40148       0  \n",
       "2     0.58489   -1.37983 -1.18084       1  \n",
       "3     1.30612   -0.21712 -0.21575       0  \n",
       "4     1.63088   -1.37983 -1.54858       0  \n",
       "...       ...        ...      ...     ...  \n",
       "1879 -1.13788    0.88113  1.92173       0  \n",
       "1880 -1.51840    0.88113  0.76540       0  \n",
       "1881 -1.38502    0.52975 -0.52593       1  \n",
       "1882 -2.57309    1.29221  1.22470       0  \n",
       "1883  0.41594    0.88113  1.22470       1  \n",
       "\n",
       "[1884 rows x 13 columns]"
      ]
     },
     "execution_count": 98,
     "metadata": {},
     "output_type": "execute_result"
    }
   ],
   "source": [
    "f_data = n_data.drop(drugs, axis = 1)\n",
    "f_data['Ethnicity'] = np.where(f_data['Ethnicity'] == 'White', \"White\", \"Non-White\")\n",
    "pca_dataset = f_data\n",
    "pca_dataset"
   ]
  },
  {
   "cell_type": "code",
   "execution_count": 99,
   "id": "da9038db",
   "metadata": {},
   "outputs": [
    {
     "data": {
      "text/plain": [
       "White        1720\n",
       "Non-White     164\n",
       "Name: Ethnicity, dtype: int64"
      ]
     },
     "execution_count": 99,
     "metadata": {},
     "output_type": "execute_result"
    }
   ],
   "source": [
    "pca_dataset = pca_dataset[[\"Nscore\", \"Escore\", \"Oscore\", \"AScore\", \"Impulsive\", \"SS\", \"Ethnicity\"]]\n",
    "pca_dataset['Ethnicity'].value_counts() "
   ]
  },
  {
   "cell_type": "code",
   "execution_count": 100,
   "id": "8db586f7",
   "metadata": {},
   "outputs": [],
   "source": [
    "from sklearn.decomposition import PCA\n",
    "from sklearn.preprocessing import StandardScaler\n",
    "pca = PCA(n_components = 2)\n",
    "scaled_data = StandardScaler().fit_transform(pca_dataset.iloc[:, :-1])\n",
    "pca.fit(scaled_data)\n",
    "data_pca = pca.transform(scaled_data)"
   ]
  },
  {
   "cell_type": "code",
   "execution_count": 101,
   "id": "2546188a",
   "metadata": {},
   "outputs": [],
   "source": [
    "pca_columns = ['pca_component_1', 'pca_component_2']\n",
    "df_pca = pd.DataFrame(data_pca, columns = pca_columns)\n",
    "df_pca['target'] = pca_dataset['Ethnicity']\n"
   ]
  },
  {
   "cell_type": "code",
   "execution_count": 102,
   "id": "c32e22de",
   "metadata": {},
   "outputs": [
    {
     "data": {
      "text/plain": [
       "<matplotlib.legend.Legend at 0x7fed621fe880>"
      ]
     },
     "execution_count": 102,
     "metadata": {},
     "output_type": "execute_result"
    },
    {
     "data": {
      "image/png": "[encoded data removed]",
      "text/plain": [
       "<Figure size 432x288 with 1 Axes>"
      ]
     },
     "metadata": {
      "needs_background": "light"
     },
     "output_type": "display_data"
    }
   ],
   "source": [
    "import seaborn as sns\n",
    "fig, ax = plt.subplots(1)\n",
    "sns.scatterplot(x='pca_component_1', y='pca_component_2', hue='target', data=df_pca, ax=ax,s=120)\n",
    "ax.legend(bbox_to_anchor=(1.05, 1), loc=2, borderaxespad=0.0)"
   ]
  },
  {
   "cell_type": "code",
   "execution_count": 103,
   "id": "9925ecdf",
   "metadata": {},
   "outputs": [
    {
     "data": {
      "text/plain": [
       "<matplotlib.legend.Legend at 0x7fed304204f0>"
      ]
     },
     "execution_count": 103,
     "metadata": {},
     "output_type": "execute_result"
    },
    {
     "data": {
      "image/png": "[encoded data removed]",
      "text/plain": [
       "<Figure size 432x288 with 1 Axes>"
      ]
     },
     "metadata": {
      "needs_background": "light"
     },
     "output_type": "display_data"
    }
   ],
   "source": [
    "from sklearn.manifold import TSNE\n",
    "import pandas as pd\n",
    "import seaborn as sns\n",
    " \n",
    "n_components = 2\n",
    "tsne = TSNE(n_components)\n",
    "tsne_result = tsne.fit_transform(pca_dataset.iloc[:, :-1])\n",
    "tsne_result.shape\n",
    " \n",
    "\n",
    "tsne_result_df = pd.DataFrame({'tsne_1': tsne_result[:,0], 'tsne_2': tsne_result[:,1], 'label': pca_dataset['Ethnicity']})\n",
    "fig, ax = plt.subplots(1)\n",
    "sns.scatterplot(x='tsne_1', y='tsne_2', hue='label', data=tsne_result_df, ax=ax,s=120)\n",
    "lim = (tsne_result.min()-5, tsne_result.max()+5)\n",
    "ax.set_xlim(lim)\n",
    "ax.set_ylim(lim)\n",
    "ax.set_aspect('equal')\n",
    "ax.legend(bbox_to_anchor=(1.05, 1), loc=2, borderaxespad=0.0)"
   ]
  },
  {
   "cell_type": "code",
   "execution_count": 104,
   "id": "5446cf1e",
   "metadata": {},
   "outputs": [],
   "source": [
    "f_data = n_data.drop(drugs, axis = 1)\n",
    "for i in range(f_data.shape[0]):\n",
    "    if f_data['Ethnicity'][i] == 'White':\n",
    "        f_data['Ethnicity'][i] = \"White\"\n",
    "    elif f_data['Ethnicity'][i] == 'Other':\n",
    "        f_data['Ethnicity'][i] = \"Other\"\n",
    "    elif f_data['Ethnicity'][i] == 'Black':\n",
    "        f_data['Ethnicity'][i] = 'Black'\n",
    "    elif f_data['Ethnicity'][i] == 'Asian':\n",
    "        f_data['Ethnicity'][i] = \"Asian\"\n",
    "    else:\n",
    "        f_data['Ethnicity'][i] = \"Mixed\""
   ]
  },
  {
   "cell_type": "code",
   "execution_count": 105,
   "id": "16541c42",
   "metadata": {},
   "outputs": [
    {
     "data": {
      "text/plain": [
       "White    1720\n",
       "Other      63\n",
       "Mixed      42\n",
       "Black      33\n",
       "Asian      26\n",
       "Name: Ethnicity, dtype: int64"
      ]
     },
     "execution_count": 105,
     "metadata": {},
     "output_type": "execute_result"
    }
   ],
   "source": [
    "pca_dataset1 = f_data[[\"Nscore\", \"Escore\", \"Oscore\", \"AScore\", \"Impulsive\", \"SS\", \"Ethnicity\"]]\n",
    "pca_dataset1['Ethnicity'].value_counts()"
   ]
  },
  {
   "cell_type": "code",
   "execution_count": 106,
   "id": "f83f877e",
   "metadata": {},
   "outputs": [
    {
     "data": {
      "text/plain": [
       "<matplotlib.legend.Legend at 0x7fed51d5c280>"
      ]
     },
     "execution_count": 106,
     "metadata": {},
     "output_type": "execute_result"
    },
    {
     "data": {
      "image/png": "[encoded data removed]",
      "text/plain": [
       "<Figure size 432x288 with 1 Axes>"
      ]
     },
     "metadata": {
      "needs_background": "light"
     },
     "output_type": "display_data"
    }
   ],
   "source": [
    "from sklearn.decomposition import PCA\n",
    "from sklearn.preprocessing import StandardScaler\n",
    "pca = PCA(n_components = 2)\n",
    "scaled_data = StandardScaler().fit_transform(pca_dataset1.iloc[:, :-1])\n",
    "pca.fit(scaled_data)\n",
    "data_pca = pca.transform(scaled_data)\n",
    "pca_columns = ['pca_component_1', 'pca_component_2']\n",
    "df_pca = pd.DataFrame(data_pca, columns = pca_columns)\n",
    "df_pca['target'] = pca_dataset1['Ethnicity']\n",
    "fig, ax = plt.subplots(1)\n",
    "sns.scatterplot(x='pca_component_1', y='pca_component_2', hue='target', data=df_pca, ax=ax,s=120)\n",
    "ax.legend(bbox_to_anchor=(1.05, 1), loc=2, borderaxespad=0.0)"
   ]
  },
  {
   "cell_type": "code",
   "execution_count": 107,
   "id": "5f1992c6",
   "metadata": {},
   "outputs": [
    {
     "data": {
      "text/plain": [
       "<matplotlib.legend.Legend at 0x7fed626a7a90>"
      ]
     },
     "execution_count": 107,
     "metadata": {},
     "output_type": "execute_result"
    },
    {
     "data": {
      "image/png": "[encoded data removed]",
      "text/plain": [
       "<Figure size 432x288 with 1 Axes>"
      ]
     },
     "metadata": {
      "needs_background": "light"
     },
     "output_type": "display_data"
    }
   ],
   "source": [
    "from sklearn.manifold import TSNE\n",
    "import pandas as pd\n",
    "import seaborn as sns\n",
    " \n",
    "n_components = 2\n",
    "tsne = TSNE(n_components)\n",
    "tsne_result = tsne.fit_transform(pca_dataset1.iloc[:, :-1])\n",
    "tsne_result.shape\n",
    " \n",
    "\n",
    "tsne_result_df = pd.DataFrame({'tsne_1': tsne_result[:,0], 'tsne_2': tsne_result[:,1], 'label': pca_dataset1['Ethnicity']})\n",
    "fig, ax = plt.subplots(1)\n",
    "sns.scatterplot(x='tsne_1', y='tsne_2', hue='label', data=tsne_result_df, ax=ax,s=120)\n",
    "lim = (tsne_result.min()-5, tsne_result.max()+5)\n",
    "ax.set_xlim(lim)\n",
    "ax.set_ylim(lim)\n",
    "ax.set_aspect('equal')\n",
    "ax.legend(bbox_to_anchor=(1.05, 1), loc=2, borderaxespad=0.0)"
   ]
  },
  {
   "cell_type": "code",
   "execution_count": 108,
   "id": "975756ee",
   "metadata": {},
   "outputs": [],
   "source": [
    "# change color of multi class and change the name of label. Start writing the paper. Implemenation , pca tsne ,and methodology"
   ]
  },
  {
   "cell_type": "markdown",
   "id": "35760854",
   "metadata": {},
   "source": [
    "random forest number of trees = 100, svm: rbf kernel, regularization: 1.0, gbm: number of estimators: 100, loss: log loss function"
   ]
  }
 ],
 "metadata": {
  "kernelspec": {
   "display_name": "Python 3 (ipykernel)",
   "language": "python",
   "name": "python3"
  },
  "language_info": {
   "codemirror_mode": {
    "name": "ipython",
    "version": 3
   },
   "file_extension": ".py",
   "mimetype": "text/x-python",
   "name": "python",
   "nbconvert_exporter": "python",
   "pygments_lexer": "ipython3",
   "version": "3.9.7"
  }
 },
 "nbformat": 4,
 "nbformat_minor": 5
}
